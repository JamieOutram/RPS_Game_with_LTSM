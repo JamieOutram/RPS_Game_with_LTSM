{
 "cells": [
  {
   "cell_type": "markdown",
   "metadata": {},
   "source": [
    "# LSTM Model\n"
   ]
  },
  {
   "cell_type": "markdown",
   "metadata": {},
   "source": [
    "## Import Data\n",
    "### Players from RPS_game.py"
   ]
  },
  {
   "cell_type": "code",
   "execution_count": 1,
   "metadata": {},
   "outputs": [],
   "source": [
    "from Lib.RPS_game import play, mrugesh, abbey, quincy, kris, human, random_player\n",
    "from Lib.RPS_encoding import RPSpair_encode, RPSpair_decode, RPSpair_encode_series\n",
    "from Lib.Telepathic_player import telepath\n",
    "import tensorflow as tf\n",
    "import tensorflow.keras as keras\n",
    "from tensorflow.keras.layers import Dense, LSTM, Embedding\n",
    "import pandas as pd\n",
    "from os import listdir\n",
    "from os.path import isfile, join"
   ]
  },
  {
   "cell_type": "markdown",
   "metadata": {},
   "source": [
    "## Read and Concatenate Games\n",
    "Take all games and load into dataframe"
   ]
  },
  {
   "cell_type": "markdown",
   "metadata": {},
   "source": []
  },
  {
   "cell_type": "code",
   "execution_count": 2,
   "metadata": {},
   "outputs": [
    {
     "name": "stdout",
     "output_type": "stream",
     "text": [
      "100000\n"
     ]
    },
    {
     "data": {
      "text/html": [
       "<div>\n",
       "<style scoped>\n",
       "    .dataframe tbody tr th:only-of-type {\n",
       "        vertical-align: middle;\n",
       "    }\n",
       "\n",
       "    .dataframe tbody tr th {\n",
       "        vertical-align: top;\n",
       "    }\n",
       "\n",
       "    .dataframe thead th {\n",
       "        text-align: right;\n",
       "    }\n",
       "</style>\n",
       "<table border=\"1\" class=\"dataframe\">\n",
       "  <thead>\n",
       "    <tr style=\"text-align: right;\">\n",
       "      <th></th>\n",
       "      <th>Player</th>\n",
       "      <th>Opponent</th>\n",
       "      <th>Result</th>\n",
       "      <th>Winning_Play</th>\n",
       "    </tr>\n",
       "  </thead>\n",
       "  <tbody>\n",
       "    <tr>\n",
       "      <th>0</th>\n",
       "      <td>S</td>\n",
       "      <td>S</td>\n",
       "      <td>0</td>\n",
       "      <td>R</td>\n",
       "    </tr>\n",
       "    <tr>\n",
       "      <th>1</th>\n",
       "      <td>R</td>\n",
       "      <td>P</td>\n",
       "      <td>0</td>\n",
       "      <td>S</td>\n",
       "    </tr>\n",
       "    <tr>\n",
       "      <th>2</th>\n",
       "      <td>R</td>\n",
       "      <td>R</td>\n",
       "      <td>0</td>\n",
       "      <td>P</td>\n",
       "    </tr>\n",
       "    <tr>\n",
       "      <th>3</th>\n",
       "      <td>P</td>\n",
       "      <td>R</td>\n",
       "      <td>1</td>\n",
       "      <td>P</td>\n",
       "    </tr>\n",
       "    <tr>\n",
       "      <th>4</th>\n",
       "      <td>R</td>\n",
       "      <td>P</td>\n",
       "      <td>0</td>\n",
       "      <td>S</td>\n",
       "    </tr>\n",
       "  </tbody>\n",
       "</table>\n",
       "</div>"
      ],
      "text/plain": [
       "  Player Opponent Result Winning_Play\n",
       "0      S        S      0            R\n",
       "1      R        P      0            S\n",
       "2      R        R      0            P\n",
       "3      P        R      1            P\n",
       "4      R        P      0            S"
      ]
     },
     "execution_count": 2,
     "metadata": {},
     "output_type": "execute_result"
    }
   ],
   "source": [
    "import pandas as pd\n",
    "from os import listdir\n",
    "from os.path import isfile, join\n",
    "\n",
    "path = \"Games/\"\n",
    "all_game_paths = [join(path, f) for f in listdir(path) if isfile(join(path, f))]\n",
    "games_concat = pd.DataFrame(columns = [\"Player\",\"Opponent\",\"Result\",\"Winning_Play\"])\n",
    "games = []\n",
    "for game_path in all_game_paths:\n",
    "    #print(game_path)\n",
    "    game_data = pd.read_csv(game_path, names = [\"Player\",\"Opponent\",\"Result\",\"Winning_Play\"])\n",
    "    games.append(game_data)\n",
    "    games_concat = games_concat.append(game_data)\n",
    "    \n",
    "#print(len(game_data.index)) \n",
    "#game_data.head()  \n",
    "print(len(games_concat.index))\n",
    "games_concat.head()"
   ]
  },
  {
   "cell_type": "markdown",
   "metadata": {},
   "source": [
    "# LSTM Training\n",
    "### Parameters"
   ]
  },
  {
   "cell_type": "code",
   "execution_count": 3,
   "metadata": {},
   "outputs": [],
   "source": [
    "seq_length = 100 #how far back the ltsm looks when training\n",
    "#Model parameters\n",
    "BATCH_SIZE = 64\n",
    "VOCAB_SIZE = 9 # RPS pairs\n",
    "EMBEDDING_DIM = 32\n",
    "RNN_UNITS = 1024\n",
    "\n",
    "TRAINING_EPOCHS = 100\n",
    "\n",
    "#Kris_Mrugesh settings\n",
    "#seq_length = 100 \n",
    "#BATCH_SIZE = 64\n",
    "#VOCAB_SIZE = 3 \n",
    "#EMBEDDING_DIM = 128\n",
    "#RNN_UNITS = 512\n",
    "#TRAINING_EPOCHS = 300\n"
   ]
  },
  {
   "cell_type": "markdown",
   "metadata": {},
   "source": [
    "### Format data for LTSM training"
   ]
  },
  {
   "cell_type": "code",
   "execution_count": 4,
   "metadata": {},
   "outputs": [],
   "source": [
    "#Encoding scheme:\n",
    "#RR = 0\n",
    "#RP = 1\n",
    "#RS = 2\n",
    "#PR = 3\n",
    "#PP = 4\n",
    "#PS = 5\n",
    "#SR = 6\n",
    "#SP = 7\n",
    "#SS = 8\n",
    "\n",
    "temp = games_concat.drop(\"Result\", axis = 1)\n",
    "temp.index = [x for x in range(temp.index.size)]\n",
    "tempInput = pd.Series([temp.loc[x,\"Player\"] + temp.loc[x,\"Opponent\"] for x in range(temp['Player'].size)])\n",
    "tempTarget = pd.Series([temp.loc[x,\"Winning_Play\"] + temp.loc[x,\"Opponent\"] for x in range(temp['Player'].size)])\n",
    "\n",
    "#Convert letter pairs to categorical integers\n",
    "tempInput = RPSpair_encode_series(tempInput)\n",
    "tempTarget = RPSpair_encode_series(tempTarget)"
   ]
  },
  {
   "cell_type": "code",
   "execution_count": 5,
   "metadata": {},
   "outputs": [
    {
     "name": "stdout",
     "output_type": "stream",
     "text": [
      "<BatchDataset shapes: (101,), types: tf.int64>\n",
      "Total sequence count: 990\n",
      "Training set: 10\n",
      "Test set: 2\n",
      "Validation set: 2\n",
      "(<tf.Tensor: shape=(64, 100), dtype=int64, numpy=\n",
      "array([[5, 2, 0, ..., 3, 5, 8],\n",
      "       [2, 7, 7, ..., 3, 2, 2],\n",
      "       [3, 7, 2, ..., 7, 7, 3],\n",
      "       ...,\n",
      "       [3, 5, 8, ..., 4, 8, 6],\n",
      "       [0, 8, 3, ..., 8, 3, 8],\n",
      "       [2, 2, 7, ..., 3, 3, 2]], dtype=int64)>, <tf.Tensor: shape=(64, 100), dtype=int64, numpy=\n",
      "array([[2, 3, 3, ..., 2, 2, 3],\n",
      "       [7, 7, 3, ..., 2, 2, 7],\n",
      "       [7, 2, 3, ..., 7, 3, 7],\n",
      "       ...,\n",
      "       [2, 2, 3, ..., 2, 3, 3],\n",
      "       [2, 3, 2, ..., 3, 2, 3],\n",
      "       [2, 7, 7, ..., 3, 2, 2]], dtype=int64)>)\n"
     ]
    }
   ],
   "source": [
    "input_data = tf.data.Dataset.from_tensor_slices(tempInput)\n",
    "target_data = tf.data.Dataset.from_tensor_slices(tempTarget)\n",
    "\n",
    "#split into sequences\n",
    "input_sequences = input_data.batch(seq_length+1, drop_remainder = True)\n",
    "target_sequences = target_data.batch(seq_length+1, drop_remainder = True)\n",
    "print(input_sequences)\n",
    "\n",
    "#remove last element from all input sequences\n",
    "def remove_last(chunk):\n",
    "    return chunk[:-1]\n",
    "inputs = input_sequences.map(remove_last)\n",
    "\n",
    "#remove first element from all target sequences\n",
    "def remove_first(chunk):\n",
    "    return chunk[1:]\n",
    "targets = target_sequences.map(remove_first)\n",
    "\n",
    "full_dataset = tf.data.Dataset.zip((inputs, targets)).shuffle(10000)\n",
    "\n",
    "dataset_size = len(full_dataset)\n",
    "train_size = int(0.7*dataset_size)\n",
    "test_size = int(0.15*dataset_size)\n",
    "val_size = int(0.15*dataset_size)\n",
    "\n",
    "train_dataset = full_dataset.take(train_size).batch(BATCH_SIZE, drop_remainder = True)\n",
    "test_dataset = full_dataset.skip(train_size)\n",
    "val_dataset = test_dataset.take(test_size).batch(BATCH_SIZE, drop_remainder = True)\n",
    "test_dataset = test_dataset.skip(test_size).batch(BATCH_SIZE, drop_remainder = True)\n",
    "\n",
    "print(\"Total sequence count: \" + str(dataset_size))\n",
    "print(\"Training set: \" + str(len(train_dataset)))\n",
    "print(\"Test set: \" + str(len(test_dataset)))\n",
    "print(\"Validation set: \" + str(len(val_dataset)))\n",
    "for element in train_dataset.take(1):\n",
    "    print(element)\n"
   ]
  },
  {
   "cell_type": "markdown",
   "metadata": {},
   "source": [
    "### Build the model"
   ]
  },
  {
   "cell_type": "code",
   "execution_count": 7,
   "metadata": {},
   "outputs": [
    {
     "name": "stdout",
     "output_type": "stream",
     "text": [
      "Model: \"sequential\"\n",
      "_________________________________________________________________\n",
      "Layer (type)                 Output Shape              Param #   \n",
      "=================================================================\n",
      "embedding (Embedding)        (64, None, 32)            288       \n",
      "_________________________________________________________________\n",
      "lstm (LSTM)                  (64, None, 1024)          4329472   \n",
      "_________________________________________________________________\n",
      "dense (Dense)                (64, None, 10)            10250     \n",
      "=================================================================\n",
      "Total params: 4,340,010\n",
      "Trainable params: 4,340,010\n",
      "Non-trainable params: 0\n",
      "_________________________________________________________________\n"
     ]
    }
   ],
   "source": [
    "def build_model(vocab_size, embedding_dim, rnn_units, batch_size):\n",
    "    model = keras.Sequential()\n",
    "    model.add(Embedding(vocab_size, embedding_dim, batch_input_shape = [batch_size, None]))\n",
    "    model.add(LSTM(rnn_units, return_sequences=True, stateful=True, recurrent_initializer='glorot_uniform'))\n",
    "    model.add(Dense(vocab_size+1))\n",
    "    return model\n",
    "\n",
    "model = build_model(VOCAB_SIZE, EMBEDDING_DIM, RNN_UNITS, BATCH_SIZE)\n",
    "model.summary()"
   ]
  },
  {
   "cell_type": "code",
   "execution_count": 6,
   "metadata": {},
   "outputs": [
    {
     "name": "stdout",
     "output_type": "stream",
     "text": [
      "WARNING:tensorflow:No training configuration found in save file, so the model was *not* compiled. Compile it manually.\n",
      "Model: \"sequential_1\"\n",
      "_________________________________________________________________\n",
      "Layer (type)                 Output Shape              Param #   \n",
      "=================================================================\n",
      "embedding_1 (Embedding)      (1, None, 32)             288       \n",
      "_________________________________________________________________\n",
      "lstm_1 (LSTM)                (1, None, 1024)           4329472   \n",
      "_________________________________________________________________\n",
      "dense_1 (Dense)              (1, None, 10)             10250     \n",
      "=================================================================\n",
      "Total params: 4,340,010\n",
      "Trainable params: 4,340,010\n",
      "Non-trainable params: 0\n",
      "_________________________________________________________________\n"
     ]
    }
   ],
   "source": [
    "#OR LOAD MODEL FROM SAVE\n",
    "model = keras.models.load_model('Models/LSTM_BalancedTraining_GameHistoryBased_Quincy_Kris_Mrugesh')\n",
    "model.summary()"
   ]
  },
  {
   "cell_type": "markdown",
   "metadata": {},
   "source": [
    "### Create loss function"
   ]
  },
  {
   "cell_type": "code",
   "execution_count": 8,
   "metadata": {},
   "outputs": [],
   "source": [
    "def loss(labels, logits):\n",
    "    return keras.losses.sparse_categorical_crossentropy(labels, logits, from_logits = True)"
   ]
  },
  {
   "cell_type": "markdown",
   "metadata": {},
   "source": [
    "### Compile the model"
   ]
  },
  {
   "cell_type": "code",
   "execution_count": 9,
   "metadata": {},
   "outputs": [],
   "source": [
    "model.compile(optimizer='adam', loss=loss)"
   ]
  },
  {
   "cell_type": "markdown",
   "metadata": {},
   "source": [
    "### Create Checkpoints\n",
    "configure the model to create checkpoints as it trains so the model can be reloaded and continue training"
   ]
  },
  {
   "cell_type": "code",
   "execution_count": 10,
   "metadata": {},
   "outputs": [
    {
     "name": "stdout",
     "output_type": "stream",
     "text": [
      "2.3.1\n"
     ]
    }
   ],
   "source": [
    "checkpoint_dir = './training_checkpoints'\n",
    "\n",
    "checkpoint_prefix = join(checkpoint_dir, \"ckpt_{epoch}\")\n",
    "\n",
    "checkpoint_callback = keras.callbacks.ModelCheckpoint(filepath = checkpoint_prefix, save_weights_only = True)\n",
    "\n",
    "print(tf.__version__)"
   ]
  },
  {
   "cell_type": "code",
   "execution_count": 11,
   "metadata": {},
   "outputs": [
    {
     "data": {
      "text/plain": [
       "<tensorflow.python.training.tracking.util.CheckpointLoadStatus at 0x2173f919f40>"
      ]
     },
     "execution_count": 11,
     "metadata": {},
     "output_type": "execute_result"
    }
   ],
   "source": [
    "#CALL TO LOAD LATEST CHECKPOINT FOR TRAINING\n",
    "checkpoint_dir = './training_checkpoints'\n",
    "model.load_weights(tf.train.latest_checkpoint(checkpoint_dir))"
   ]
  },
  {
   "cell_type": "markdown",
   "metadata": {},
   "source": [
    "### Training the model"
   ]
  },
  {
   "cell_type": "code",
   "execution_count": 12,
   "metadata": {},
   "outputs": [
    {
     "name": "stdout",
     "output_type": "stream",
     "text": [
      "Epoch 1/100\n",
      "10/10 [==============================] - ETA: 0s - loss: 1.8675WARNING:tensorflow:Callbacks method `on_test_batch_end` is slow compared to the batch time (batch time: 0.0030s vs `on_test_batch_end` time: 0.0060s). Check your callbacks.\n",
      "10/10 [==============================] - 1s 87ms/step - loss: 1.8675 - val_loss: 1.6369\n",
      "Epoch 2/100\n",
      "10/10 [==============================] - 0s 49ms/step - loss: 1.2722 - val_loss: 1.1187\n",
      "Epoch 3/100\n",
      "10/10 [==============================] - 0s 48ms/step - loss: 1.1301 - val_loss: 1.1054\n",
      "Epoch 4/100\n",
      "10/10 [==============================] - 0s 48ms/step - loss: 1.0795 - val_loss: 1.0718\n",
      "Epoch 5/100\n",
      "10/10 [==============================] - 0s 50ms/step - loss: 1.0422 - val_loss: 1.0301\n",
      "Epoch 6/100\n",
      "10/10 [==============================] - 0s 50ms/step - loss: 1.0201 - val_loss: 1.0342\n",
      "Epoch 7/100\n",
      "10/10 [==============================] - 0s 48ms/step - loss: 1.0019 - val_loss: 0.9772\n",
      "Epoch 8/100\n",
      "10/10 [==============================] - 1s 53ms/step - loss: 0.9711 - val_loss: 0.9597\n",
      "Epoch 9/100\n",
      "10/10 [==============================] - 1s 51ms/step - loss: 0.9540 - val_loss: 0.9441\n",
      "Epoch 10/100\n",
      "10/10 [==============================] - 0s 49ms/step - loss: 0.9335 - val_loss: 0.8883\n",
      "Epoch 11/100\n",
      "10/10 [==============================] - 0s 49ms/step - loss: 0.9106 - val_loss: 0.8938\n",
      "Epoch 12/100\n",
      "10/10 [==============================] - 1s 51ms/step - loss: 0.8771 - val_loss: 0.8522\n",
      "Epoch 13/100\n",
      "10/10 [==============================] - 1s 51ms/step - loss: 0.8504 - val_loss: 0.8439\n",
      "Epoch 14/100\n",
      "10/10 [==============================] - 1s 50ms/step - loss: 0.8138 - val_loss: 0.7909\n",
      "Epoch 15/100\n",
      "10/10 [==============================] - 0s 50ms/step - loss: 0.7794 - val_loss: 0.7591\n",
      "Epoch 16/100\n",
      "10/10 [==============================] - 0s 49ms/step - loss: 0.7296 - val_loss: 0.7129\n",
      "Epoch 17/100\n",
      "10/10 [==============================] - 0s 50ms/step - loss: 0.6834 - val_loss: 0.7069\n",
      "Epoch 18/100\n",
      "10/10 [==============================] - 0s 49ms/step - loss: 0.6661 - val_loss: 0.6475\n",
      "Epoch 19/100\n",
      "10/10 [==============================] - 1s 51ms/step - loss: 0.6351 - val_loss: 0.6034\n",
      "Epoch 20/100\n",
      "10/10 [==============================] - 1s 51ms/step - loss: 0.6198 - val_loss: 0.6610\n",
      "Epoch 21/100\n",
      "10/10 [==============================] - 0s 49ms/step - loss: 0.6019 - val_loss: 0.5738\n",
      "Epoch 22/100\n",
      "10/10 [==============================] - 0s 49ms/step - loss: 0.5873 - val_loss: 0.5887\n",
      "Epoch 23/100\n",
      "10/10 [==============================] - 0s 49ms/step - loss: 0.5785 - val_loss: 0.6253\n",
      "Epoch 24/100\n",
      "10/10 [==============================] - 0s 48ms/step - loss: 0.5446 - val_loss: 0.5351\n",
      "Epoch 25/100\n",
      "10/10 [==============================] - 0s 49ms/step - loss: 0.5095 - val_loss: 0.4538\n",
      "Epoch 26/100\n",
      "10/10 [==============================] - 1s 52ms/step - loss: 0.4799 - val_loss: 0.4493\n",
      "Epoch 27/100\n",
      "10/10 [==============================] - 0s 49ms/step - loss: 0.4479 - val_loss: 0.4787\n",
      "Epoch 28/100\n",
      "10/10 [==============================] - 0s 49ms/step - loss: 0.4252 - val_loss: 0.4150\n",
      "Epoch 29/100\n",
      "10/10 [==============================] - 1s 52ms/step - loss: 0.3894 - val_loss: 0.3367\n",
      "Epoch 30/100\n",
      "10/10 [==============================] - 1s 50ms/step - loss: 0.3804 - val_loss: 0.3888\n",
      "Epoch 31/100\n",
      "10/10 [==============================] - 1s 50ms/step - loss: 0.3417 - val_loss: 0.3296\n",
      "Epoch 32/100\n",
      "10/10 [==============================] - 0s 50ms/step - loss: 0.3326 - val_loss: 0.3053\n",
      "Epoch 33/100\n",
      "10/10 [==============================] - 0s 49ms/step - loss: 0.3186 - val_loss: 0.3321\n",
      "Epoch 34/100\n",
      "10/10 [==============================] - 1s 50ms/step - loss: 0.3032 - val_loss: 0.3078\n",
      "Epoch 35/100\n",
      "10/10 [==============================] - 1s 54ms/step - loss: 0.2925 - val_loss: 0.3016\n",
      "Epoch 36/100\n",
      "10/10 [==============================] - 1s 50ms/step - loss: 0.2845 - val_loss: 0.2752\n",
      "Epoch 37/100\n",
      "10/10 [==============================] - 1s 50ms/step - loss: 0.2732 - val_loss: 0.3192\n",
      "Epoch 38/100\n",
      "10/10 [==============================] - 1s 50ms/step - loss: 0.2878 - val_loss: 0.2882\n",
      "Epoch 39/100\n",
      "10/10 [==============================] - 0s 49ms/step - loss: 0.2626 - val_loss: 0.3042\n",
      "Epoch 40/100\n",
      "10/10 [==============================] - 1s 51ms/step - loss: 0.2695 - val_loss: 0.2444\n",
      "Epoch 41/100\n",
      "10/10 [==============================] - 0s 50ms/step - loss: 0.2507 - val_loss: 0.2322\n",
      "Epoch 42/100\n",
      "10/10 [==============================] - 0s 50ms/step - loss: 0.2561 - val_loss: 0.2610\n",
      "Epoch 43/100\n",
      "10/10 [==============================] - 1s 52ms/step - loss: 0.2453 - val_loss: 0.2413\n",
      "Epoch 44/100\n",
      "10/10 [==============================] - 1s 51ms/step - loss: 0.2324 - val_loss: 0.2249\n",
      "Epoch 45/100\n",
      "10/10 [==============================] - 0s 49ms/step - loss: 0.2284 - val_loss: 0.2344\n",
      "Epoch 46/100\n",
      "10/10 [==============================] - 1s 51ms/step - loss: 0.2369 - val_loss: 0.2137\n",
      "Epoch 47/100\n",
      "10/10 [==============================] - 0s 46ms/step - loss: 0.2278 - val_loss: 0.2487\n",
      "Epoch 48/100\n",
      "10/10 [==============================] - 0s 46ms/step - loss: 0.2366 - val_loss: 0.2118\n",
      "Epoch 49/100\n",
      "10/10 [==============================] - 0s 45ms/step - loss: 0.2055 - val_loss: 0.2357\n",
      "Epoch 50/100\n",
      "10/10 [==============================] - 0s 46ms/step - loss: 0.2207 - val_loss: 0.1735\n",
      "Epoch 51/100\n",
      "10/10 [==============================] - 0s 46ms/step - loss: 0.2147 - val_loss: 0.2322\n",
      "Epoch 52/100\n",
      "10/10 [==============================] - 0s 46ms/step - loss: 0.2160 - val_loss: 0.2271\n",
      "Epoch 53/100\n",
      "10/10 [==============================] - 0s 48ms/step - loss: 0.2048 - val_loss: 0.2270\n",
      "Epoch 54/100\n",
      "10/10 [==============================] - 0s 49ms/step - loss: 0.2038 - val_loss: 0.1824\n",
      "Epoch 55/100\n",
      "10/10 [==============================] - 1s 51ms/step - loss: 0.1924 - val_loss: 0.1942\n",
      "Epoch 56/100\n",
      "10/10 [==============================] - 1s 50ms/step - loss: 0.1855 - val_loss: 0.1760\n",
      "Epoch 57/100\n",
      "10/10 [==============================] - 0s 48ms/step - loss: 0.1834 - val_loss: 0.1666\n",
      "Epoch 58/100\n",
      "10/10 [==============================] - 1s 51ms/step - loss: 0.1769 - val_loss: 0.1694\n",
      "Epoch 59/100\n",
      "10/10 [==============================] - 1s 54ms/step - loss: 0.1811 - val_loss: 0.1550\n",
      "Epoch 60/100\n",
      "10/10 [==============================] - 0s 47ms/step - loss: 0.1739 - val_loss: 0.1777\n",
      "Epoch 61/100\n",
      "10/10 [==============================] - 1s 53ms/step - loss: 0.1769 - val_loss: 0.1896\n",
      "Epoch 62/100\n",
      "10/10 [==============================] - 0s 47ms/step - loss: 0.1807 - val_loss: 0.1711\n",
      "Epoch 63/100\n",
      "10/10 [==============================] - 1s 51ms/step - loss: 0.1615 - val_loss: 0.1355\n",
      "Epoch 64/100\n",
      "10/10 [==============================] - 1s 50ms/step - loss: 0.1550 - val_loss: 0.1326\n",
      "Epoch 65/100\n",
      "10/10 [==============================] - 1s 51ms/step - loss: 0.1456 - val_loss: 0.1508\n",
      "Epoch 66/100\n",
      "10/10 [==============================] - 0s 48ms/step - loss: 0.1323 - val_loss: 0.1162\n",
      "Epoch 67/100\n",
      "10/10 [==============================] - 0s 48ms/step - loss: 0.1226 - val_loss: 0.1193\n",
      "Epoch 68/100\n",
      "10/10 [==============================] - 0s 49ms/step - loss: 0.1149 - val_loss: 0.1107\n",
      "Epoch 69/100\n",
      "10/10 [==============================] - 1s 51ms/step - loss: 0.1104 - val_loss: 0.1131\n",
      "Epoch 70/100\n",
      "10/10 [==============================] - 0s 49ms/step - loss: 0.1069 - val_loss: 0.0937\n",
      "Epoch 71/100\n",
      "10/10 [==============================] - 0s 49ms/step - loss: 0.1024 - val_loss: 0.1047\n",
      "Epoch 72/100\n",
      "10/10 [==============================] - 0s 48ms/step - loss: 0.1000 - val_loss: 0.1053\n",
      "Epoch 73/100\n",
      "10/10 [==============================] - 1s 51ms/step - loss: 0.0976 - val_loss: 0.0958\n",
      "Epoch 74/100\n",
      "10/10 [==============================] - 0s 48ms/step - loss: 0.0979 - val_loss: 0.0958\n",
      "Epoch 75/100\n",
      "10/10 [==============================] - 1s 50ms/step - loss: 0.0958 - val_loss: 0.0841\n",
      "Epoch 76/100\n",
      "10/10 [==============================] - 0s 50ms/step - loss: 0.0949 - val_loss: 0.0947\n",
      "Epoch 77/100\n",
      "10/10 [==============================] - 0s 50ms/step - loss: 0.0924 - val_loss: 0.0893\n",
      "Epoch 78/100\n",
      "10/10 [==============================] - 1s 52ms/step - loss: 0.0878 - val_loss: 0.1014\n",
      "Epoch 79/100\n",
      "10/10 [==============================] - 0s 49ms/step - loss: 0.0899 - val_loss: 0.0946\n"
     ]
    },
    {
     "name": "stdout",
     "output_type": "stream",
     "text": [
      "Epoch 80/100\n",
      "10/10 [==============================] - 0s 48ms/step - loss: 0.0884 - val_loss: 0.0884\n",
      "Epoch 81/100\n",
      "10/10 [==============================] - 1s 51ms/step - loss: 0.0868 - val_loss: 0.0966\n",
      "Epoch 82/100\n",
      "10/10 [==============================] - 0s 48ms/step - loss: 0.0866 - val_loss: 0.0879\n",
      "Epoch 83/100\n",
      "10/10 [==============================] - 0s 50ms/step - loss: 0.0881 - val_loss: 0.0923\n",
      "Epoch 84/100\n",
      "10/10 [==============================] - 0s 50ms/step - loss: 0.0841 - val_loss: 0.0818\n",
      "Epoch 85/100\n",
      "10/10 [==============================] - 0s 48ms/step - loss: 0.0876 - val_loss: 0.0697\n",
      "Epoch 86/100\n",
      "10/10 [==============================] - 1s 54ms/step - loss: 0.0860 - val_loss: 0.0848\n",
      "Epoch 87/100\n",
      "10/10 [==============================] - 1s 51ms/step - loss: 0.0803 - val_loss: 0.0817\n",
      "Epoch 88/100\n",
      "10/10 [==============================] - 1s 51ms/step - loss: 0.0830 - val_loss: 0.0842\n",
      "Epoch 89/100\n",
      "10/10 [==============================] - 1s 51ms/step - loss: 0.0800 - val_loss: 0.0744\n",
      "Epoch 90/100\n",
      "10/10 [==============================] - 0s 50ms/step - loss: 0.0817 - val_loss: 0.0783\n",
      "Epoch 91/100\n",
      "10/10 [==============================] - 1s 52ms/step - loss: 0.0821 - val_loss: 0.0912\n",
      "Epoch 92/100\n",
      "10/10 [==============================] - 1s 50ms/step - loss: 0.0802 - val_loss: 0.0675\n",
      "Epoch 93/100\n",
      "10/10 [==============================] - 1s 51ms/step - loss: 0.0781 - val_loss: 0.0728\n",
      "Epoch 94/100\n",
      "10/10 [==============================] - 0s 49ms/step - loss: 0.0810 - val_loss: 0.0742\n",
      "Epoch 95/100\n",
      "10/10 [==============================] - 0s 48ms/step - loss: 0.0805 - val_loss: 0.0779\n",
      "Epoch 96/100\n",
      "10/10 [==============================] - 0s 50ms/step - loss: 0.0768 - val_loss: 0.0808\n",
      "Epoch 97/100\n",
      "10/10 [==============================] - 0s 48ms/step - loss: 0.0784 - val_loss: 0.0713\n",
      "Epoch 98/100\n",
      "10/10 [==============================] - 0s 49ms/step - loss: 0.0791 - val_loss: 0.0736\n",
      "Epoch 99/100\n",
      "10/10 [==============================] - 1s 52ms/step - loss: 0.0746 - val_loss: 0.0774\n",
      "Epoch 100/100\n",
      "10/10 [==============================] - 1s 51ms/step - loss: 0.0732 - val_loss: 0.0763\n",
      "1/2 [==============>...............] - ETA: 0s - loss: 0.0816WARNING:tensorflow:Callbacks method `on_test_batch_end` is slow compared to the batch time (batch time: 0.0020s vs `on_test_batch_end` time: 0.0070s). Check your callbacks.\n",
      "2/2 [==============================] - 0s 9ms/step - loss: 0.0835\n"
     ]
    },
    {
     "data": {
      "text/plain": [
       "0.08352863043546677"
      ]
     },
     "execution_count": 12,
     "metadata": {},
     "output_type": "execute_result"
    }
   ],
   "source": [
    "history = model.fit(train_dataset, epochs = TRAINING_EPOCHS, callbacks = [checkpoint_callback], validation_data=val_dataset)\n",
    "model.evaluate(test_dataset, batch_size=128) "
   ]
  },
  {
   "cell_type": "code",
   "execution_count": 13,
   "metadata": {},
   "outputs": [
    {
     "name": "stdout",
     "output_type": "stream",
     "text": [
      "Epoch 1/10\n",
      "10/10 [==============================] - ETA: 0s - loss: 0.0723WARNING:tensorflow:Callbacks method `on_test_batch_end` is slow compared to the batch time (batch time: 0.0020s vs `on_test_batch_end` time: 0.0060s). Check your callbacks.\n",
      "10/10 [==============================] - 1s 54ms/step - loss: 0.0723 - val_loss: 0.0772\n",
      "Epoch 2/10\n",
      "10/10 [==============================] - 1s 50ms/step - loss: 0.0726 - val_loss: 0.0818\n",
      "Epoch 3/10\n",
      "10/10 [==============================] - 0s 50ms/step - loss: 0.0746 - val_loss: 0.0923\n",
      "Epoch 4/10\n",
      "10/10 [==============================] - 1s 52ms/step - loss: 0.0712 - val_loss: 0.0674\n",
      "Epoch 5/10\n",
      "10/10 [==============================] - 1s 52ms/step - loss: 0.0737 - val_loss: 0.0822\n",
      "Epoch 6/10\n",
      "10/10 [==============================] - 0s 48ms/step - loss: 0.0731 - val_loss: 0.0734\n",
      "Epoch 7/10\n",
      "10/10 [==============================] - 0s 49ms/step - loss: 0.0702 - val_loss: 0.0786\n",
      "Epoch 8/10\n",
      "10/10 [==============================] - 0s 50ms/step - loss: 0.0725 - val_loss: 0.0748\n",
      "Epoch 9/10\n",
      "10/10 [==============================] - 0s 49ms/step - loss: 0.0746 - val_loss: 0.0706\n",
      "Epoch 10/10\n",
      "10/10 [==============================] - 0s 49ms/step - loss: 0.0709 - val_loss: 0.0763\n",
      "1/2 [==============>...............] - ETA: 0s - loss: 0.0643WARNING:tensorflow:Callbacks method `on_test_batch_end` is slow compared to the batch time (batch time: 0.0020s vs `on_test_batch_end` time: 0.0070s). Check your callbacks.\n",
      "2/2 [==============================] - 0s 9ms/step - loss: 0.0677\n"
     ]
    },
    {
     "data": {
      "text/plain": [
       "0.0676712840795517"
      ]
     },
     "execution_count": 13,
     "metadata": {},
     "output_type": "execute_result"
    }
   ],
   "source": [
    "history = model.fit(train_dataset, epochs = 10, callbacks = [checkpoint_callback], validation_data=val_dataset)\n",
    "model.evaluate(test_dataset, batch_size=128) "
   ]
  },
  {
   "cell_type": "markdown",
   "metadata": {},
   "source": [
    "### Rebuild model for predicting one output rather than a vector"
   ]
  },
  {
   "cell_type": "code",
   "execution_count": 14,
   "metadata": {},
   "outputs": [],
   "source": [
    "#change config\n",
    "model = build_model(VOCAB_SIZE, EMBEDDING_DIM, RNN_UNITS, batch_size = 1)\n",
    "#load trained weights from checkpoint\n",
    "model.load_weights(tf.train.latest_checkpoint(checkpoint_dir))\n",
    "model.build(tf.TensorShape([1, None]))"
   ]
  },
  {
   "cell_type": "markdown",
   "metadata": {},
   "source": [
    "## Generate Outputs from Model"
   ]
  },
  {
   "cell_type": "code",
   "execution_count": 1,
   "metadata": {},
   "outputs": [],
   "source": [
    "def Get_Prediction(model, opponent_history, player_history):\n",
    "    input_raw = [x + y if x != '' and y != '' else 'PR' for (x,y) in zip(player_history, opponent_history)]\n",
    "    #print(input_raw)\n",
    "    #format history for input\n",
    "    input_eval = [RPSpair_encode(c) for c in input_raw]\n",
    "    input_eval = tf.expand_dims(input_eval, 0)\n",
    "    \n",
    "    #high temperature  => suprising output\n",
    "    #low temperature => predictable output\n",
    "    temperature = 0.1; \n",
    "    \n",
    "    model.reset_states()\n",
    "    \n",
    "    prediction = model(input_eval)\n",
    "    prediction = tf.squeeze(prediction, 0)\n",
    "    \n",
    "    prediction = prediction / temperature\n",
    "    predicted_id = tf.random.categorical(prediction, num_samples = 1)[-1,0].numpy()\n",
    "    #print(predicted_id)\n",
    "    #print(\"Guessing: \" + RPSpair_decode(predicted_id))\n",
    "    return RPSpair_decode(predicted_id)[0]\n",
    "\n",
    "#print(Get_Prediction(model, ['R','R','P']))"
   ]
  },
  {
   "cell_type": "markdown",
   "metadata": {},
   "source": [
    "# RPS.py\n",
    "Player function"
   ]
  },
  {
   "cell_type": "code",
   "execution_count": 8,
   "metadata": {},
   "outputs": [],
   "source": [
    "plays = 1000\n",
    "\n",
    "def player(prev_play, opponent_history = [], play_history=['']):\n",
    "    if len(play_history) > plays: \n",
    "        opponent_history.clear()\n",
    "        play_history.clear()\n",
    "        play_history.append('')\n",
    "    opponent_history.append(prev_play)\n",
    "    #print(\"Actual: \" + prev_play) \n",
    "    guess = Get_Prediction(model, opponent_history, play_history)\n",
    "    #print(guess)\n",
    "    play_history.append(guess)\n",
    "    return guess"
   ]
  },
  {
   "cell_type": "markdown",
   "metadata": {},
   "source": [
    "# MAIN.PY"
   ]
  },
  {
   "cell_type": "code",
   "execution_count": 2,
   "metadata": {},
   "outputs": [
    {
     "ename": "NameError",
     "evalue": "name 'play' is not defined",
     "output_type": "error",
     "traceback": [
      "\u001b[1;31m---------------------------------------------------------------------------\u001b[0m",
      "\u001b[1;31mNameError\u001b[0m                                 Traceback (most recent call last)",
      "\u001b[1;32m<ipython-input-2-b9de6eb43e8b>\u001b[0m in \u001b[0;36m<module>\u001b[1;34m\u001b[0m\n\u001b[1;32m----> 1\u001b[1;33m \u001b[0mplay\u001b[0m\u001b[1;33m(\u001b[0m\u001b[0mplayer\u001b[0m\u001b[1;33m,\u001b[0m \u001b[0mquincy\u001b[0m\u001b[1;33m,\u001b[0m \u001b[0mplays\u001b[0m\u001b[1;33m)\u001b[0m\u001b[1;33m\u001b[0m\u001b[1;33m\u001b[0m\u001b[0m\n\u001b[0m\u001b[0;32m      2\u001b[0m \u001b[0mplay\u001b[0m\u001b[1;33m(\u001b[0m\u001b[0mplayer\u001b[0m\u001b[1;33m,\u001b[0m \u001b[0mabbey\u001b[0m\u001b[1;33m,\u001b[0m \u001b[0mplays\u001b[0m\u001b[1;33m)\u001b[0m\u001b[1;33m\u001b[0m\u001b[1;33m\u001b[0m\u001b[0m\n\u001b[0;32m      3\u001b[0m \u001b[0mplay\u001b[0m\u001b[1;33m(\u001b[0m\u001b[0mplayer\u001b[0m\u001b[1;33m,\u001b[0m \u001b[0mkris\u001b[0m\u001b[1;33m,\u001b[0m \u001b[0mplays\u001b[0m\u001b[1;33m)\u001b[0m\u001b[1;33m\u001b[0m\u001b[1;33m\u001b[0m\u001b[0m\n\u001b[0;32m      4\u001b[0m \u001b[0mplay\u001b[0m\u001b[1;33m(\u001b[0m\u001b[0mplayer\u001b[0m\u001b[1;33m,\u001b[0m \u001b[0mmrugesh\u001b[0m\u001b[1;33m,\u001b[0m \u001b[0mplays\u001b[0m\u001b[1;33m)\u001b[0m\u001b[1;33m\u001b[0m\u001b[1;33m\u001b[0m\u001b[0m\n",
      "\u001b[1;31mNameError\u001b[0m: name 'play' is not defined"
     ]
    }
   ],
   "source": [
    "play(player, quincy, plays)\n",
    "play(player, abbey, plays)\n",
    "play(player, kris, plays)\n",
    "play(player, mrugesh, plays)"
   ]
  },
  {
   "cell_type": "markdown",
   "metadata": {},
   "source": [
    "## Saving the model"
   ]
  },
  {
   "cell_type": "code",
   "execution_count": 18,
   "metadata": {},
   "outputs": [
    {
     "name": "stdout",
     "output_type": "stream",
     "text": [
      "WARNING:tensorflow:From C:\\Users\\Owner\\AppData\\Local\\Programs\\Python\\Python38\\lib\\site-packages\\tensorflow\\python\\training\\tracking\\tracking.py:111: Model.state_updates (from tensorflow.python.keras.engine.training) is deprecated and will be removed in a future version.\n",
      "Instructions for updating:\n",
      "This property should not be used in TensorFlow 2.0, as updates are applied automatically.\n",
      "WARNING:tensorflow:From C:\\Users\\Owner\\AppData\\Local\\Programs\\Python\\Python38\\lib\\site-packages\\tensorflow\\python\\keras\\engine\\training.py:2309: Layer.updates (from tensorflow.python.keras.engine.base_layer) is deprecated and will be removed in a future version.\n",
      "Instructions for updating:\n",
      "This property should not be used in TensorFlow 2.0, as updates are applied automatically.\n",
      "INFO:tensorflow:Assets written to: Models/LSTM_BalancedTraining_GameHistoryBased_Quincy_Kris_Mrugesh\\assets\n"
     ]
    }
   ],
   "source": [
    "model.save('Models/LSTM_BalancedTraining_GameHistoryBased_Quincy_Kris_Mrugesh')"
   ]
  },
  {
   "cell_type": "code",
   "execution_count": null,
   "metadata": {},
   "outputs": [],
   "source": []
  }
 ],
 "metadata": {
  "kernelspec": {
   "display_name": "Python 3.8.1 64-bit",
   "language": "python",
   "name": "python38164bitf7bfa84029d94e559180d01a2a463659"
  },
  "language_info": {
   "codemirror_mode": {
    "name": "ipython",
    "version": 3
   },
   "file_extension": ".py",
   "mimetype": "text/x-python",
   "name": "python",
   "nbconvert_exporter": "python",
   "pygments_lexer": "ipython3",
   "version": "3.8.6"
  }
 },
 "nbformat": 4,
 "nbformat_minor": 4
}
