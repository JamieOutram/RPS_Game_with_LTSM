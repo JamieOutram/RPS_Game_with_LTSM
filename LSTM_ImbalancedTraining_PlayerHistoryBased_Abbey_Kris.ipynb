{
 "cells": [
  {
   "cell_type": "markdown",
   "metadata": {},
   "source": [
    "# LSTM Model\n"
   ]
  },
  {
   "cell_type": "markdown",
   "metadata": {},
   "source": [
    "## Import Data\n",
    "### Players from RPS_game.py"
   ]
  },
  {
   "cell_type": "code",
   "execution_count": 1,
   "metadata": {},
   "outputs": [],
   "source": [
    "from Lib.RPS_game import play, mrugesh, abbey, quincy, kris, human, random_player\n",
    "from Lib.RPS_encoding import RPS_encode, RPS_decode, RPS_encode_dataframe\n",
    "import tensorflow as tf\n",
    "import tensorflow.keras as keras\n",
    "from tensorflow.keras.layers import Dense, LSTM, Embedding\n",
    "import pandas as pd\n",
    "from os import listdir\n",
    "from os.path import isfile, join"
   ]
  },
  {
   "cell_type": "markdown",
   "metadata": {},
   "source": [
    "## Read and Concatenate Games\n",
    "Take all games and load into dataframe"
   ]
  },
  {
   "cell_type": "markdown",
   "metadata": {},
   "source": []
  },
  {
   "cell_type": "code",
   "execution_count": 2,
   "metadata": {},
   "outputs": [
    {
     "name": "stdout",
     "output_type": "stream",
     "text": [
      "50000\n"
     ]
    },
    {
     "data": {
      "text/html": [
       "<div>\n",
       "<style scoped>\n",
       "    .dataframe tbody tr th:only-of-type {\n",
       "        vertical-align: middle;\n",
       "    }\n",
       "\n",
       "    .dataframe tbody tr th {\n",
       "        vertical-align: top;\n",
       "    }\n",
       "\n",
       "    .dataframe thead th {\n",
       "        text-align: right;\n",
       "    }\n",
       "</style>\n",
       "<table border=\"1\" class=\"dataframe\">\n",
       "  <thead>\n",
       "    <tr style=\"text-align: right;\">\n",
       "      <th></th>\n",
       "      <th>Player</th>\n",
       "      <th>Opponent</th>\n",
       "      <th>Result</th>\n",
       "      <th>Winning_Play</th>\n",
       "    </tr>\n",
       "  </thead>\n",
       "  <tbody>\n",
       "    <tr>\n",
       "      <th>0</th>\n",
       "      <td>S</td>\n",
       "      <td>P</td>\n",
       "      <td>1</td>\n",
       "      <td>S</td>\n",
       "    </tr>\n",
       "    <tr>\n",
       "      <th>1</th>\n",
       "      <td>S</td>\n",
       "      <td>P</td>\n",
       "      <td>1</td>\n",
       "      <td>S</td>\n",
       "    </tr>\n",
       "    <tr>\n",
       "      <th>2</th>\n",
       "      <td>P</td>\n",
       "      <td>R</td>\n",
       "      <td>1</td>\n",
       "      <td>P</td>\n",
       "    </tr>\n",
       "    <tr>\n",
       "      <th>3</th>\n",
       "      <td>P</td>\n",
       "      <td>P</td>\n",
       "      <td>0</td>\n",
       "      <td>S</td>\n",
       "    </tr>\n",
       "    <tr>\n",
       "      <th>4</th>\n",
       "      <td>R</td>\n",
       "      <td>S</td>\n",
       "      <td>1</td>\n",
       "      <td>R</td>\n",
       "    </tr>\n",
       "  </tbody>\n",
       "</table>\n",
       "</div>"
      ],
      "text/plain": [
       "  Player Opponent Result Winning_Play\n",
       "0      S        P      1            S\n",
       "1      S        P      1            S\n",
       "2      P        R      1            P\n",
       "3      P        P      0            S\n",
       "4      R        S      1            R"
      ]
     },
     "execution_count": 2,
     "metadata": {},
     "output_type": "execute_result"
    }
   ],
   "source": [
    "import pandas as pd\n",
    "from os import listdir\n",
    "from os.path import isfile, join\n",
    "\n",
    "path = \"Games/\"\n",
    "all_game_paths = [join(path, f) for f in listdir(path) if isfile(join(path, f))]\n",
    "games_concat = pd.DataFrame(columns = [\"Player\",\"Opponent\",\"Result\",\"Winning_Play\"])\n",
    "games = []\n",
    "for game_path in all_game_paths:\n",
    "    #print(game_path)\n",
    "    game_data = pd.read_csv(game_path, names = [\"Player\",\"Opponent\",\"Result\",\"Winning_Play\"])\n",
    "    games.append(game_data)\n",
    "    games_concat = games_concat.append(game_data)\n",
    "    \n",
    "#print(len(game_data.index)) \n",
    "#game_data.head()  \n",
    "print(len(games_concat.index))\n",
    "games_concat.head()"
   ]
  },
  {
   "cell_type": "markdown",
   "metadata": {},
   "source": [
    "# LSTM Training\n",
    "### Parameters"
   ]
  },
  {
   "cell_type": "code",
   "execution_count": 3,
   "metadata": {},
   "outputs": [],
   "source": [
    "seq_length = 100 #how far back the ltsm looks when training\n",
    "#Model parameters\n",
    "BATCH_SIZE = 64\n",
    "VOCAB_SIZE = 3 # RPS\n",
    "EMBEDDING_DIM = 8\n",
    "RNN_UNITS = 512\n",
    "\n",
    "TRAINING_EPOCHS = 200\n",
    "\n",
    "#Kris_Mrugesh settings\n",
    "#seq_length = 100 \n",
    "#BATCH_SIZE = 64\n",
    "#VOCAB_SIZE = 3 \n",
    "#EMBEDDING_DIM = 128\n",
    "#RNN_UNITS = 512\n",
    "#TRAINING_EPOCHS = 300\n"
   ]
  },
  {
   "cell_type": "markdown",
   "metadata": {},
   "source": [
    "### Format data for LTSM training"
   ]
  },
  {
   "cell_type": "code",
   "execution_count": 4,
   "metadata": {},
   "outputs": [
    {
     "name": "stdout",
     "output_type": "stream",
     "text": [
      "     Player  Opponent  Winning_Play\n",
      "0         2         1             2\n",
      "1         2         1             2\n",
      "2         1         0             1\n",
      "3         1         1             2\n",
      "4         0         2             0\n",
      "..      ...       ...           ...\n",
      "995       2         1             2\n",
      "996       2         1             2\n",
      "997       1         0             1\n",
      "998       2         1             2\n",
      "999       0         2             0\n",
      "\n",
      "[50000 rows x 3 columns]\n",
      "<TensorSliceDataset shapes: (), types: tf.int64>\n",
      "<BatchDataset shapes: (101,), types: tf.int64>\n",
      "(<tf.Tensor: shape=(100,), dtype=int64, numpy=\n",
      "array([2, 2, 1, 1, 0, 0, 2, 2, 1, 1, 1, 0, 2, 1, 0, 2, 1, 1, 1, 1, 2, 1,\n",
      "       1, 1, 0, 1, 2, 2, 0, 0, 0, 2, 0, 2, 0, 1, 0, 2, 0, 0, 1, 1, 2, 2,\n",
      "       0, 1, 1, 2, 1, 2, 1, 0, 1, 1, 1, 1, 1, 0, 1, 0, 0, 2, 1, 1, 1, 0,\n",
      "       1, 0, 2, 2, 0, 0, 2, 0, 0, 2, 0, 2, 1, 1, 0, 0, 2, 2, 1, 0, 1, 1,\n",
      "       2, 0, 1, 1, 0, 2, 2, 0, 2, 0, 0, 2], dtype=int64)>, <tf.Tensor: shape=(100,), dtype=int64, numpy=\n",
      "array([2, 1, 2, 0, 1, 2, 0, 1, 2, 0, 0, 1, 0, 0, 1, 0, 2, 0, 0, 0, 0, 0,\n",
      "       0, 0, 1, 0, 0, 0, 1, 1, 1, 0, 1, 0, 1, 0, 1, 0, 1, 1, 0, 0, 0, 0,\n",
      "       1, 0, 0, 2, 0, 0, 0, 1, 0, 0, 0, 0, 0, 1, 0, 1, 1, 0, 0, 0, 0, 1,\n",
      "       0, 1, 0, 0, 1, 1, 0, 1, 1, 0, 1, 2, 0, 0, 1, 1, 0, 0, 0, 1, 0, 0,\n",
      "       0, 1, 0, 0, 1, 0, 0, 1, 2, 1, 1, 2], dtype=int64)>)\n"
     ]
    }
   ],
   "source": [
    "temp = games_concat.drop(\"Result\", axis = 1)\n",
    "temp = RPS_encode_dataframe(temp)\n",
    "input_data = tf.data.Dataset.from_tensor_slices(temp[\"Player\"])\n",
    "target_data = tf.data.Dataset.from_tensor_slices(temp[\"Winning_Play\"])\n",
    "print(temp)\n",
    "print(input_data)\n",
    "\n",
    "#split into sequences\n",
    "input_sequences = input_data.batch(seq_length+1, drop_remainder = True)\n",
    "target_sequences = target_data.batch(seq_length+1, drop_remainder = True)\n",
    "print(input_sequences)\n",
    "\n",
    "#remove last element from all input sequences\n",
    "def remove_last(chunk):\n",
    "    return chunk[:-1]\n",
    "inputs = input_sequences.map(remove_last)\n",
    "\n",
    "#remove first element from all target sequences\n",
    "def remove_first(chunk):\n",
    "    return chunk[1:]\n",
    "targets = target_sequences.map(remove_first)\n",
    "\n",
    "dataset = tf.data.Dataset.zip((inputs, targets))\n",
    "for element in dataset:\n",
    "    print(element)\n",
    "    break\n"
   ]
  },
  {
   "cell_type": "markdown",
   "metadata": {},
   "source": [
    "### Build the model"
   ]
  },
  {
   "cell_type": "code",
   "execution_count": 5,
   "metadata": {},
   "outputs": [
    {
     "name": "stdout",
     "output_type": "stream",
     "text": [
      "Model: \"sequential\"\n",
      "_________________________________________________________________\n",
      "Layer (type)                 Output Shape              Param #   \n",
      "=================================================================\n",
      "embedding (Embedding)        (64, None, 8)             24        \n",
      "_________________________________________________________________\n",
      "lstm (LSTM)                  (64, None, 1024)          4231168   \n",
      "_________________________________________________________________\n",
      "dense (Dense)                (64, None, 4)             4100      \n",
      "=================================================================\n",
      "Total params: 4,235,292\n",
      "Trainable params: 4,235,292\n",
      "Non-trainable params: 0\n",
      "_________________________________________________________________\n"
     ]
    }
   ],
   "source": [
    "#Shuffle sequences before batching\n",
    "data = dataset.shuffle(10000).batch(BATCH_SIZE, drop_remainder = True)\n",
    "\n",
    "def build_model(vocab_size, embedding_dim, rnn_units, batch_size):\n",
    "    model = keras.Sequential()\n",
    "    model.add(Embedding(vocab_size, embedding_dim, batch_input_shape = [batch_size, None]))\n",
    "    model.add(LSTM(rnn_units, return_sequences=True, stateful=True, recurrent_initializer='glorot_uniform'))\n",
    "    model.add(Dense(vocab_size+1))\n",
    "    return model\n",
    "\n",
    "model = build_model(VOCAB_SIZE, EMBEDDING_DIM, RNN_UNITS, BATCH_SIZE)\n",
    "model.summary()"
   ]
  },
  {
   "cell_type": "markdown",
   "metadata": {},
   "source": [
    "### Create loss function"
   ]
  },
  {
   "cell_type": "code",
   "execution_count": 6,
   "metadata": {},
   "outputs": [],
   "source": [
    "def loss(labels, logits):\n",
    "    return keras.losses.sparse_categorical_crossentropy(labels, logits, from_logits = True)"
   ]
  },
  {
   "cell_type": "markdown",
   "metadata": {},
   "source": [
    "### Compile the model"
   ]
  },
  {
   "cell_type": "code",
   "execution_count": 7,
   "metadata": {},
   "outputs": [],
   "source": [
    "model.compile(optimizer='adam', loss=loss)"
   ]
  },
  {
   "cell_type": "markdown",
   "metadata": {},
   "source": [
    "### Create Checkpoints\n",
    "configure the model to create checkpoints as it trains so the model can be reloaded and continue training"
   ]
  },
  {
   "cell_type": "code",
   "execution_count": 8,
   "metadata": {},
   "outputs": [
    {
     "name": "stdout",
     "output_type": "stream",
     "text": [
      "2.3.1\n"
     ]
    }
   ],
   "source": [
    "checkpoint_dir = './training_checkpoints'\n",
    "\n",
    "checkpoint_prefix = join(checkpoint_dir, \"ckpt_{epoch}\")\n",
    "\n",
    "checkpoint_callback = keras.callbacks.ModelCheckpoint(filepath = checkpoint_prefix, save_weights_only = True)\n",
    "\n",
    "print(tf.__version__)"
   ]
  },
  {
   "cell_type": "code",
   "execution_count": 10,
   "metadata": {},
   "outputs": [
    {
     "data": {
      "text/plain": [
       "<tensorflow.python.training.tracking.util.CheckpointLoadStatus at 0x233bc6702b0>"
      ]
     },
     "execution_count": 10,
     "metadata": {},
     "output_type": "execute_result"
    }
   ],
   "source": [
    "#CALL TO LOAD LATEST CHECKPOINT FOR TRAINING\n",
    "checkpoint_dir = './training_checkpoints'\n",
    "model.load_weights(tf.train.latest_checkpoint(checkpoint_dir))"
   ]
  },
  {
   "cell_type": "markdown",
   "metadata": {},
   "source": [
    "### Training the model"
   ]
  },
  {
   "cell_type": "code",
   "execution_count": 10,
   "metadata": {},
   "outputs": [
    {
     "name": "stdout",
     "output_type": "stream",
     "text": [
      "Epoch 1/200\n",
      "7/7 [==============================] - 0s 42ms/step - loss: 0.5328\n",
      "Epoch 2/200\n",
      "7/7 [==============================] - 0s 40ms/step - loss: 0.5331\n",
      "Epoch 3/200\n",
      "7/7 [==============================] - 0s 39ms/step - loss: 0.5231\n",
      "Epoch 4/200\n",
      "7/7 [==============================] - 0s 40ms/step - loss: 0.5183\n",
      "Epoch 5/200\n",
      "7/7 [==============================] - 0s 41ms/step - loss: 0.4996\n",
      "Epoch 6/200\n",
      "7/7 [==============================] - 0s 38ms/step - loss: 0.5101\n",
      "Epoch 7/200\n",
      "7/7 [==============================] - 0s 38ms/step - loss: 0.5091\n",
      "Epoch 8/200\n",
      "7/7 [==============================] - 0s 39ms/step - loss: 0.5140\n",
      "Epoch 9/200\n",
      "7/7 [==============================] - 0s 37ms/step - loss: 0.4932\n",
      "Epoch 10/200\n",
      "7/7 [==============================] - 0s 36ms/step - loss: 0.5037\n",
      "Epoch 11/200\n",
      "7/7 [==============================] - 0s 38ms/step - loss: 0.4997\n",
      "Epoch 12/200\n",
      "7/7 [==============================] - 0s 38ms/step - loss: 0.4969\n",
      "Epoch 13/200\n",
      "7/7 [==============================] - 0s 40ms/step - loss: 0.4853\n",
      "Epoch 14/200\n",
      "7/7 [==============================] - 0s 36ms/step - loss: 0.4753\n",
      "Epoch 15/200\n",
      "7/7 [==============================] - 0s 39ms/step - loss: 0.4791\n",
      "Epoch 16/200\n",
      "7/7 [==============================] - 0s 40ms/step - loss: 0.4674\n",
      "Epoch 17/200\n",
      "7/7 [==============================] - 0s 38ms/step - loss: 0.4699\n",
      "Epoch 18/200\n",
      "7/7 [==============================] - 0s 39ms/step - loss: 0.4608\n",
      "Epoch 19/200\n",
      "7/7 [==============================] - 0s 39ms/step - loss: 0.4723\n",
      "Epoch 20/200\n",
      "7/7 [==============================] - 0s 42ms/step - loss: 0.4461\n",
      "Epoch 21/200\n",
      "7/7 [==============================] - 0s 39ms/step - loss: 0.4714\n",
      "Epoch 22/200\n",
      "7/7 [==============================] - 0s 39ms/step - loss: 0.4545\n",
      "Epoch 23/200\n",
      "7/7 [==============================] - 0s 40ms/step - loss: 0.4576\n",
      "Epoch 24/200\n",
      "7/7 [==============================] - 0s 39ms/step - loss: 0.4503\n",
      "Epoch 25/200\n",
      "7/7 [==============================] - 0s 39ms/step - loss: 0.4339\n",
      "Epoch 26/200\n",
      "7/7 [==============================] - 0s 40ms/step - loss: 0.4355\n",
      "Epoch 27/200\n",
      "7/7 [==============================] - 0s 51ms/step - loss: 0.4403\n",
      "Epoch 28/200\n",
      "7/7 [==============================] - 0s 38ms/step - loss: 0.4393\n",
      "Epoch 29/200\n",
      "7/7 [==============================] - 0s 37ms/step - loss: 0.4324\n",
      "Epoch 30/200\n",
      "7/7 [==============================] - 0s 36ms/step - loss: 0.4312\n",
      "Epoch 31/200\n",
      "7/7 [==============================] - 0s 38ms/step - loss: 0.4137\n",
      "Epoch 32/200\n",
      "7/7 [==============================] - 0s 36ms/step - loss: 0.4126\n",
      "Epoch 33/200\n",
      "7/7 [==============================] - 0s 36ms/step - loss: 0.4056\n",
      "Epoch 34/200\n",
      "7/7 [==============================] - 0s 37ms/step - loss: 0.3926\n",
      "Epoch 35/200\n",
      "7/7 [==============================] - 0s 37ms/step - loss: 0.3931\n",
      "Epoch 36/200\n",
      "7/7 [==============================] - 0s 36ms/step - loss: 0.4015\n",
      "Epoch 37/200\n",
      "7/7 [==============================] - 0s 37ms/step - loss: 0.3987\n",
      "Epoch 38/200\n",
      "7/7 [==============================] - 0s 41ms/step - loss: 0.3879\n",
      "Epoch 39/200\n",
      "7/7 [==============================] - 0s 37ms/step - loss: 0.3717\n",
      "Epoch 40/200\n",
      "7/7 [==============================] - 0s 36ms/step - loss: 0.3671\n",
      "Epoch 41/200\n",
      "7/7 [==============================] - 0s 46ms/step - loss: 0.3624\n",
      "Epoch 42/200\n",
      "7/7 [==============================] - 0s 37ms/step - loss: 0.3560\n",
      "Epoch 43/200\n",
      "7/7 [==============================] - 0s 36ms/step - loss: 0.3639\n",
      "Epoch 44/200\n",
      "7/7 [==============================] - 0s 37ms/step - loss: 0.3706\n",
      "Epoch 45/200\n",
      "7/7 [==============================] - 0s 40ms/step - loss: 0.3541\n",
      "Epoch 46/200\n",
      "7/7 [==============================] - 0s 39ms/step - loss: 0.3551\n",
      "Epoch 47/200\n",
      "7/7 [==============================] - 0s 43ms/step - loss: 0.3431\n",
      "Epoch 48/200\n",
      "7/7 [==============================] - 0s 43ms/step - loss: 0.3315\n",
      "Epoch 49/200\n",
      "7/7 [==============================] - 0s 40ms/step - loss: 0.3308\n",
      "Epoch 50/200\n",
      "7/7 [==============================] - 0s 40ms/step - loss: 0.3213\n",
      "Epoch 51/200\n",
      "7/7 [==============================] - 0s 39ms/step - loss: 0.3306\n",
      "Epoch 52/200\n",
      "7/7 [==============================] - 0s 40ms/step - loss: 0.3158\n",
      "Epoch 53/200\n",
      "7/7 [==============================] - 0s 39ms/step - loss: 0.3151\n",
      "Epoch 54/200\n",
      "7/7 [==============================] - 0s 39ms/step - loss: 0.3104\n",
      "Epoch 55/200\n",
      "7/7 [==============================] - 0s 39ms/step - loss: 0.3109\n",
      "Epoch 56/200\n",
      "7/7 [==============================] - 0s 37ms/step - loss: 0.3103\n",
      "Epoch 57/200\n",
      "7/7 [==============================] - 0s 42ms/step - loss: 0.3170\n",
      "Epoch 58/200\n",
      "7/7 [==============================] - 0s 44ms/step - loss: 0.3238\n",
      "Epoch 59/200\n",
      "7/7 [==============================] - 0s 40ms/step - loss: 0.3162\n",
      "Epoch 60/200\n",
      "7/7 [==============================] - 0s 43ms/step - loss: 0.3052\n",
      "Epoch 61/200\n",
      "7/7 [==============================] - 0s 39ms/step - loss: 0.3033\n",
      "Epoch 62/200\n",
      "7/7 [==============================] - 0s 42ms/step - loss: 0.2970\n",
      "Epoch 63/200\n",
      "7/7 [==============================] - 0s 41ms/step - loss: 0.2983\n",
      "Epoch 64/200\n",
      "7/7 [==============================] - 0s 42ms/step - loss: 0.2912\n",
      "Epoch 65/200\n",
      "7/7 [==============================] - 0s 42ms/step - loss: 0.2906\n",
      "Epoch 66/200\n",
      "7/7 [==============================] - 0s 43ms/step - loss: 0.2786\n",
      "Epoch 67/200\n",
      "7/7 [==============================] - 0s 40ms/step - loss: 0.2966\n",
      "Epoch 68/200\n",
      "7/7 [==============================] - 0s 39ms/step - loss: 0.2952\n",
      "Epoch 69/200\n",
      "7/7 [==============================] - 0s 40ms/step - loss: 0.2974\n",
      "Epoch 70/200\n",
      "7/7 [==============================] - 0s 39ms/step - loss: 0.3191\n",
      "Epoch 71/200\n",
      "7/7 [==============================] - 0s 40ms/step - loss: 0.2941\n",
      "Epoch 72/200\n",
      "7/7 [==============================] - 0s 39ms/step - loss: 0.2888\n",
      "Epoch 73/200\n",
      "7/7 [==============================] - 0s 44ms/step - loss: 0.2698\n",
      "Epoch 74/200\n",
      "7/7 [==============================] - 0s 40ms/step - loss: 0.2729\n",
      "Epoch 75/200\n",
      "7/7 [==============================] - 0s 42ms/step - loss: 0.2624\n",
      "Epoch 76/200\n",
      "7/7 [==============================] - 0s 39ms/step - loss: 0.2545\n",
      "Epoch 77/200\n",
      "7/7 [==============================] - 0s 41ms/step - loss: 0.2527\n",
      "Epoch 78/200\n",
      "7/7 [==============================] - 0s 41ms/step - loss: 0.2421\n",
      "Epoch 79/200\n",
      "7/7 [==============================] - 0s 39ms/step - loss: 0.2347\n",
      "Epoch 80/200\n",
      "7/7 [==============================] - 0s 43ms/step - loss: 0.2405\n",
      "Epoch 81/200\n",
      "7/7 [==============================] - 0s 39ms/step - loss: 0.2390\n",
      "Epoch 82/200\n",
      "7/7 [==============================] - 0s 41ms/step - loss: 0.2353\n",
      "Epoch 83/200\n",
      "7/7 [==============================] - 0s 41ms/step - loss: 0.2318\n",
      "Epoch 84/200\n",
      "7/7 [==============================] - 0s 37ms/step - loss: 0.2274\n",
      "Epoch 85/200\n",
      "7/7 [==============================] - 0s 40ms/step - loss: 0.2244\n",
      "Epoch 86/200\n",
      "7/7 [==============================] - 0s 37ms/step - loss: 0.2217\n",
      "Epoch 87/200\n",
      "7/7 [==============================] - 0s 41ms/step - loss: 0.2292\n",
      "Epoch 88/200\n",
      "7/7 [==============================] - 0s 37ms/step - loss: 0.2305\n",
      "Epoch 89/200\n",
      "7/7 [==============================] - 0s 41ms/step - loss: 0.2179\n",
      "Epoch 90/200\n",
      "7/7 [==============================] - 0s 36ms/step - loss: 0.2243\n",
      "Epoch 91/200\n",
      "7/7 [==============================] - 0s 36ms/step - loss: 0.2281\n",
      "Epoch 92/200\n",
      "7/7 [==============================] - 0s 37ms/step - loss: 0.2364\n",
      "Epoch 93/200\n",
      "7/7 [==============================] - 0s 40ms/step - loss: 0.2102\n",
      "Epoch 94/200\n",
      "7/7 [==============================] - 0s 36ms/step - loss: 0.2160\n",
      "Epoch 95/200\n",
      "7/7 [==============================] - 0s 36ms/step - loss: 0.2152\n",
      "Epoch 96/200\n",
      "7/7 [==============================] - 0s 40ms/step - loss: 0.2068\n",
      "Epoch 97/200\n",
      "7/7 [==============================] - 0s 43ms/step - loss: 0.2100\n",
      "Epoch 98/200\n",
      "7/7 [==============================] - 0s 39ms/step - loss: 0.1954\n",
      "Epoch 99/200\n",
      "7/7 [==============================] - 0s 39ms/step - loss: 0.2046\n",
      "Epoch 100/200\n",
      "7/7 [==============================] - 0s 39ms/step - loss: 0.2113\n",
      "Epoch 101/200\n",
      "7/7 [==============================] - 0s 43ms/step - loss: 0.2069\n",
      "Epoch 102/200\n",
      "7/7 [==============================] - 0s 43ms/step - loss: 0.2079\n",
      "Epoch 103/200\n"
     ]
    },
    {
     "name": "stdout",
     "output_type": "stream",
     "text": [
      "7/7 [==============================] - 0s 42ms/step - loss: 0.2143\n",
      "Epoch 104/200\n",
      "7/7 [==============================] - 0s 39ms/step - loss: 0.2112\n",
      "Epoch 105/200\n",
      "7/7 [==============================] - 0s 39ms/step - loss: 0.2008\n",
      "Epoch 106/200\n",
      "7/7 [==============================] - 0s 39ms/step - loss: 0.2026\n",
      "Epoch 107/200\n",
      "7/7 [==============================] - 0s 39ms/step - loss: 0.2141\n",
      "Epoch 108/200\n",
      "7/7 [==============================] - 0s 41ms/step - loss: 0.2054\n",
      "Epoch 109/200\n",
      "7/7 [==============================] - 0s 39ms/step - loss: 0.2098\n",
      "Epoch 110/200\n",
      "7/7 [==============================] - 0s 40ms/step - loss: 0.2102\n",
      "Epoch 111/200\n",
      "7/7 [==============================] - 0s 37ms/step - loss: 0.2072\n",
      "Epoch 112/200\n",
      "7/7 [==============================] - 0s 40ms/step - loss: 0.1942\n",
      "Epoch 113/200\n",
      "7/7 [==============================] - 0s 39ms/step - loss: 0.1898\n",
      "Epoch 114/200\n",
      "7/7 [==============================] - 0s 42ms/step - loss: 0.1885\n",
      "Epoch 115/200\n",
      "7/7 [==============================] - 0s 39ms/step - loss: 0.2042\n",
      "Epoch 116/200\n",
      "7/7 [==============================] - 0s 39ms/step - loss: 0.2031\n",
      "Epoch 117/200\n",
      "7/7 [==============================] - 0s 40ms/step - loss: 0.2239\n",
      "Epoch 118/200\n",
      "7/7 [==============================] - 0s 39ms/step - loss: 0.2332\n",
      "Epoch 119/200\n",
      "7/7 [==============================] - 0s 39ms/step - loss: 0.2140\n",
      "Epoch 120/200\n",
      "7/7 [==============================] - 0s 39ms/step - loss: 0.1990\n",
      "Epoch 121/200\n",
      "7/7 [==============================] - 0s 39ms/step - loss: 0.2078\n",
      "Epoch 122/200\n",
      "7/7 [==============================] - 0s 39ms/step - loss: 0.1905\n",
      "Epoch 123/200\n",
      "7/7 [==============================] - 0s 40ms/step - loss: 0.2001\n",
      "Epoch 124/200\n",
      "7/7 [==============================] - 0s 39ms/step - loss: 0.1850\n",
      "Epoch 125/200\n",
      "7/7 [==============================] - 0s 40ms/step - loss: 0.1881\n",
      "Epoch 126/200\n",
      "7/7 [==============================] - 0s 40ms/step - loss: 0.1861\n",
      "Epoch 127/200\n",
      "7/7 [==============================] - 0s 39ms/step - loss: 0.1830\n",
      "Epoch 128/200\n",
      "7/7 [==============================] - 0s 39ms/step - loss: 0.1794\n",
      "Epoch 129/200\n",
      "7/7 [==============================] - 0s 40ms/step - loss: 0.1758\n",
      "Epoch 130/200\n",
      "7/7 [==============================] - 0s 39ms/step - loss: 0.1815\n",
      "Epoch 131/200\n",
      "7/7 [==============================] - 0s 36ms/step - loss: 0.1786\n",
      "Epoch 132/200\n",
      "7/7 [==============================] - 0s 36ms/step - loss: 0.1721\n",
      "Epoch 133/200\n",
      "7/7 [==============================] - 0s 37ms/step - loss: 0.1749\n",
      "Epoch 134/200\n",
      "7/7 [==============================] - 0s 37ms/step - loss: 0.1801\n",
      "Epoch 135/200\n",
      "7/7 [==============================] - 0s 42ms/step - loss: 0.1742\n",
      "Epoch 136/200\n",
      "7/7 [==============================] - 0s 36ms/step - loss: 0.1699\n",
      "Epoch 137/200\n",
      "7/7 [==============================] - 0s 36ms/step - loss: 0.1740\n",
      "Epoch 138/200\n",
      "7/7 [==============================] - 0s 36ms/step - loss: 0.1698\n",
      "Epoch 139/200\n",
      "7/7 [==============================] - 0s 42ms/step - loss: 0.1652\n",
      "Epoch 140/200\n",
      "7/7 [==============================] - 0s 36ms/step - loss: 0.1688\n",
      "Epoch 141/200\n",
      "7/7 [==============================] - 0s 37ms/step - loss: 0.1722\n",
      "Epoch 142/200\n",
      "7/7 [==============================] - 0s 36ms/step - loss: 0.1822\n",
      "Epoch 143/200\n",
      "7/7 [==============================] - 0s 38ms/step - loss: 0.1751\n",
      "Epoch 144/200\n",
      "7/7 [==============================] - 0s 39ms/step - loss: 0.1727\n",
      "Epoch 145/200\n",
      "7/7 [==============================] - 0s 41ms/step - loss: 0.1757\n",
      "Epoch 146/200\n",
      "7/7 [==============================] - 0s 40ms/step - loss: 0.1758\n",
      "Epoch 147/200\n",
      "7/7 [==============================] - 0s 40ms/step - loss: 0.1818\n",
      "Epoch 148/200\n",
      "7/7 [==============================] - 0s 41ms/step - loss: 0.2265\n",
      "Epoch 149/200\n",
      "7/7 [==============================] - 0s 40ms/step - loss: 0.2263\n",
      "Epoch 150/200\n",
      "7/7 [==============================] - 0s 44ms/step - loss: 0.2135\n",
      "Epoch 151/200\n",
      "7/7 [==============================] - 0s 44ms/step - loss: 0.2070\n",
      "Epoch 152/200\n",
      "7/7 [==============================] - 0s 43ms/step - loss: 0.2190\n",
      "Epoch 153/200\n",
      "7/7 [==============================] - 0s 43ms/step - loss: 0.1978\n",
      "Epoch 154/200\n",
      "7/7 [==============================] - 0s 39ms/step - loss: 0.1879\n",
      "Epoch 155/200\n",
      "7/7 [==============================] - 0s 40ms/step - loss: 0.1868\n",
      "Epoch 156/200\n",
      "7/7 [==============================] - 0s 43ms/step - loss: 0.1833\n",
      "Epoch 157/200\n",
      "7/7 [==============================] - 0s 42ms/step - loss: 0.1725\n",
      "Epoch 158/200\n",
      "7/7 [==============================] - 0s 41ms/step - loss: 0.1674\n",
      "Epoch 159/200\n",
      "7/7 [==============================] - 0s 40ms/step - loss: 0.1679\n",
      "Epoch 160/200\n",
      "7/7 [==============================] - 0s 41ms/step - loss: 0.1644\n",
      "Epoch 161/200\n",
      "7/7 [==============================] - 0s 41ms/step - loss: 0.1652\n",
      "Epoch 162/200\n",
      "7/7 [==============================] - 0s 40ms/step - loss: 0.1637\n",
      "Epoch 163/200\n",
      "7/7 [==============================] - 0s 41ms/step - loss: 0.1578\n",
      "Epoch 164/200\n",
      "7/7 [==============================] - 0s 36ms/step - loss: 0.1558\n",
      "Epoch 165/200\n",
      "7/7 [==============================] - 0s 37ms/step - loss: 0.1635\n",
      "Epoch 166/200\n",
      "7/7 [==============================] - 0s 43ms/step - loss: 0.1655\n",
      "Epoch 167/200\n",
      "7/7 [==============================] - 0s 41ms/step - loss: 0.1581\n",
      "Epoch 168/200\n",
      "7/7 [==============================] - 0s 44ms/step - loss: 0.1565\n",
      "Epoch 169/200\n",
      "7/7 [==============================] - 0s 44ms/step - loss: 0.1510\n",
      "Epoch 170/200\n",
      "7/7 [==============================] - 0s 44ms/step - loss: 0.1568\n",
      "Epoch 171/200\n",
      "7/7 [==============================] - 0s 44ms/step - loss: 0.1540\n",
      "Epoch 172/200\n",
      "7/7 [==============================] - 0s 44ms/step - loss: 0.1504\n",
      "Epoch 173/200\n",
      "7/7 [==============================] - 0s 45ms/step - loss: 0.1563\n",
      "Epoch 174/200\n",
      "7/7 [==============================] - 0s 45ms/step - loss: 0.1580\n",
      "Epoch 175/200\n",
      "7/7 [==============================] - 0s 44ms/step - loss: 0.1624\n",
      "Epoch 176/200\n",
      "7/7 [==============================] - 0s 44ms/step - loss: 0.1663\n",
      "Epoch 177/200\n",
      "7/7 [==============================] - 0s 40ms/step - loss: 0.1862\n",
      "Epoch 178/200\n",
      "7/7 [==============================] - 0s 39ms/step - loss: 0.1982\n",
      "Epoch 179/200\n",
      "7/7 [==============================] - 0s 43ms/step - loss: 0.1897\n",
      "Epoch 180/200\n",
      "7/7 [==============================] - 0s 40ms/step - loss: 0.1886\n",
      "Epoch 181/200\n",
      "7/7 [==============================] - 0s 40ms/step - loss: 0.1827\n",
      "Epoch 182/200\n",
      "7/7 [==============================] - 0s 40ms/step - loss: 0.1727\n",
      "Epoch 183/200\n",
      "7/7 [==============================] - 0s 40ms/step - loss: 0.1675\n",
      "Epoch 184/200\n",
      "7/7 [==============================] - 0s 41ms/step - loss: 0.1585\n",
      "Epoch 185/200\n",
      "7/7 [==============================] - 0s 40ms/step - loss: 0.1575\n",
      "Epoch 186/200\n",
      "7/7 [==============================] - 0s 41ms/step - loss: 0.1476\n",
      "Epoch 187/200\n",
      "7/7 [==============================] - 0s 41ms/step - loss: 0.1524\n",
      "Epoch 188/200\n",
      "7/7 [==============================] - 0s 40ms/step - loss: 0.1541\n",
      "Epoch 189/200\n",
      "7/7 [==============================] - 0s 39ms/step - loss: 0.1455\n",
      "Epoch 190/200\n",
      "7/7 [==============================] - 0s 41ms/step - loss: 0.1567\n",
      "Epoch 191/200\n",
      "7/7 [==============================] - 0s 39ms/step - loss: 0.1600\n",
      "Epoch 192/200\n",
      "7/7 [==============================] - 0s 36ms/step - loss: 0.1554\n",
      "Epoch 193/200\n",
      "7/7 [==============================] - 0s 37ms/step - loss: 0.1585\n",
      "Epoch 194/200\n",
      "7/7 [==============================] - 0s 40ms/step - loss: 0.1527\n",
      "Epoch 195/200\n",
      "7/7 [==============================] - 0s 40ms/step - loss: 0.1426\n",
      "Epoch 196/200\n",
      "7/7 [==============================] - 0s 41ms/step - loss: 0.1448\n",
      "Epoch 197/200\n",
      "7/7 [==============================] - 0s 42ms/step - loss: 0.1470\n",
      "Epoch 198/200\n",
      "7/7 [==============================] - 0s 41ms/step - loss: 0.1552\n",
      "Epoch 199/200\n",
      "7/7 [==============================] - 0s 41ms/step - loss: 0.1498\n",
      "Epoch 200/200\n",
      "7/7 [==============================] - 0s 42ms/step - loss: 0.1522\n"
     ]
    }
   ],
   "source": [
    "history = model.fit(data, epochs = TRAINING_EPOCHS, callbacks = [checkpoint_callback])"
   ]
  },
  {
   "cell_type": "markdown",
   "metadata": {},
   "source": [
    "### Rebuild model for predicting one output rather than a vector"
   ]
  },
  {
   "cell_type": "code",
   "execution_count": 11,
   "metadata": {},
   "outputs": [],
   "source": [
    "#change config\n",
    "model = build_model(VOCAB_SIZE, EMBEDDING_DIM, RNN_UNITS, batch_size = 1)\n",
    "#load trained weights from checkpoint\n",
    "model.load_weights(tf.train.latest_checkpoint(checkpoint_dir))\n",
    "model.build(tf.TensorShape([1, None]))"
   ]
  },
  {
   "cell_type": "markdown",
   "metadata": {},
   "source": [
    "## Generate Outputs from Model"
   ]
  },
  {
   "cell_type": "code",
   "execution_count": 12,
   "metadata": {},
   "outputs": [],
   "source": [
    "def Get_Prediction(model, opponent_history):\n",
    "    #format history for input\n",
    "    input_eval = [0 if c == '' else RPS_encode(c) for c in opponent_history]\n",
    "    input_eval = tf.expand_dims(input_eval, 0)\n",
    "    \n",
    "    #high temperature  => suprising output\n",
    "    #low temperature => predictable output\n",
    "    temperature = 0.1; \n",
    "    \n",
    "    model.reset_states()\n",
    "    \n",
    "    prediction = model(input_eval)\n",
    "    prediction = tf.squeeze(prediction, 0)\n",
    "    \n",
    "    prediction = prediction / temperature\n",
    "    predicted_id = tf.random.categorical(prediction, num_samples = 1)[-1,0].numpy()\n",
    "    #print(predicted_id)\n",
    "    #print(prediction)\n",
    "    return RPS_decode(predicted_id)\n",
    "\n",
    "#print(Get_Prediction(model, ['R','R','P']))"
   ]
  },
  {
   "cell_type": "markdown",
   "metadata": {},
   "source": [
    "# RPS.py\n",
    "Player function"
   ]
  },
  {
   "cell_type": "code",
   "execution_count": 13,
   "metadata": {},
   "outputs": [],
   "source": [
    "plays = 1000\n",
    "\n",
    "def player(prev_play, opponent_history = [], play_history=['']):\n",
    "    if len(play_history) >= plays: \n",
    "        play_history.clear()\n",
    "        play_history.append('')\n",
    "        print(play_history)\n",
    "    guess = Get_Prediction(model, play_history)\n",
    "    play_history.append(guess)\n",
    "    return guess"
   ]
  },
  {
   "cell_type": "markdown",
   "metadata": {},
   "source": [
    "# MAIN.PY"
   ]
  },
  {
   "cell_type": "code",
   "execution_count": 14,
   "metadata": {},
   "outputs": [
    {
     "name": "stdout",
     "output_type": "stream",
     "text": [
      "['']\n",
      "Final results: {'p1': 332, 'p2': 334, 'tie': 334}\n",
      "Player 1 win rate: 49.849849849849846%\n",
      "['']\n",
      "Final results: {'p1': 416, 'p2': 417, 'tie': 167}\n",
      "Player 1 win rate: 49.93997599039616%\n",
      "['']\n",
      "Final results: {'p1': 333, 'p2': 333, 'tie': 334}\n",
      "Player 1 win rate: 50.0%\n",
      "['']\n",
      "Final results: {'p1': 250, 'p2': 498, 'tie': 252}\n",
      "Player 1 win rate: 33.42245989304813%\n"
     ]
    },
    {
     "data": {
      "text/plain": [
       "33.42245989304813"
      ]
     },
     "execution_count": 14,
     "metadata": {},
     "output_type": "execute_result"
    }
   ],
   "source": [
    "play(player, quincy, plays)\n",
    "play(player, abbey, plays)\n",
    "play(player, kris, plays)\n",
    "play(player, mrugesh, plays)"
   ]
  },
  {
   "cell_type": "markdown",
   "metadata": {},
   "source": [
    "## Saving the model"
   ]
  },
  {
   "cell_type": "code",
   "execution_count": 22,
   "metadata": {},
   "outputs": [
    {
     "name": "stdout",
     "output_type": "stream",
     "text": [
      "WARNING:tensorflow:From C:\\Users\\Owner\\AppData\\Local\\Programs\\Python\\Python38\\lib\\site-packages\\tensorflow\\python\\training\\tracking\\tracking.py:111: Model.state_updates (from tensorflow.python.keras.engine.training) is deprecated and will be removed in a future version.\n",
      "Instructions for updating:\n",
      "This property should not be used in TensorFlow 2.0, as updates are applied automatically.\n",
      "WARNING:tensorflow:From C:\\Users\\Owner\\AppData\\Local\\Programs\\Python\\Python38\\lib\\site-packages\\tensorflow\\python\\keras\\engine\\training.py:2309: Layer.updates (from tensorflow.python.keras.engine.base_layer) is deprecated and will be removed in a future version.\n",
      "Instructions for updating:\n",
      "This property should not be used in TensorFlow 2.0, as updates are applied automatically.\n",
      "INFO:tensorflow:Assets written to: Models/LSTM_ImbalancedTrainingAbbeyKris_PlayerHistoryBased_Kris_Mrugesh\\assets\n"
     ]
    }
   ],
   "source": [
    "model.save('Models/LSTM_ImbalancedTrainingAbbey_PlayerHistoryBased_Abbey')"
   ]
  },
  {
   "cell_type": "code",
   "execution_count": null,
   "metadata": {},
   "outputs": [],
   "source": []
  }
 ],
 "metadata": {
  "kernelspec": {
   "display_name": "Python 3.8.1 64-bit",
   "language": "python",
   "name": "python38164bitf7bfa84029d94e559180d01a2a463659"
  },
  "language_info": {
   "codemirror_mode": {
    "name": "ipython",
    "version": 3
   },
   "file_extension": ".py",
   "mimetype": "text/x-python",
   "name": "python",
   "nbconvert_exporter": "python",
   "pygments_lexer": "ipython3",
   "version": "3.8.6"
  }
 },
 "nbformat": 4,
 "nbformat_minor": 4
}
