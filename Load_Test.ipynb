{
 "cells": [
  {
   "cell_type": "code",
   "execution_count": 1,
   "metadata": {},
   "outputs": [],
   "source": [
    "import random\n",
    "\n",
    "\n",
    "def play(player1, player2, num_games, verbose=False):\n",
    "    p1_prev_play = \"\"\n",
    "    p2_prev_play = \"\"\n",
    "    results = {\"p1\": 0, \"p2\": 0, \"tie\": 0}\n",
    "\n",
    "    for _ in range(num_games):\n",
    "        p1_play = player1(p2_prev_play)\n",
    "        p2_play = player2(p1_prev_play)\n",
    "\n",
    "        if p1_play == p2_play:\n",
    "            results[\"tie\"] += 1\n",
    "            winner = \"Tie.\"\n",
    "        elif (p1_play == \"P\" and p2_play == \"R\") or (\n",
    "                p1_play == \"R\" and p2_play == \"S\") or (p1_play == \"S\"\n",
    "                                                       and p2_play == \"P\"):\n",
    "            results[\"p1\"] += 1\n",
    "            winner = \"Player 1 wins.\"\n",
    "        elif p2_play == \"P\" and p1_play == \"R\" or p2_play == \"R\" and p1_play == \"S\" or p2_play == \"S\" and p1_play == \"P\":\n",
    "            results[\"p2\"] += 1\n",
    "            winner = \"Player 2 wins.\"\n",
    "\n",
    "        if verbose:\n",
    "            print(\"Player 1:\", p1_play, \"| Player 2:\", p2_play)\n",
    "            print(winner)\n",
    "            print()\n",
    "\n",
    "        p1_prev_play = p1_play\n",
    "        p2_prev_play = p2_play\n",
    "\n",
    "    games_won = results['p2'] + results['p1']\n",
    "\n",
    "    if games_won == 0:\n",
    "        win_rate = 0\n",
    "    else:\n",
    "        win_rate = results['p1'] / games_won * 100\n",
    "\n",
    "    print(\"Final results:\", results)\n",
    "    print(f\"Player 1 win rate: {win_rate}%\")\n",
    "\n",
    "    return (win_rate)\n",
    "\n",
    "\n",
    "def quincy(prev_play, counter=[0]):\n",
    "\n",
    "    counter[0] += 1\n",
    "    choices = [\"R\", \"R\", \"P\", \"P\", \"S\"]\n",
    "    return choices[counter[0] % len(choices)]\n",
    "\n",
    "\n",
    "def mrugesh(prev_opponent_play, opponent_history=[]):\n",
    "    opponent_history.append(prev_opponent_play)\n",
    "    last_ten = opponent_history[-10:]\n",
    "    most_frequent = max(set(last_ten), key=last_ten.count)\n",
    "\n",
    "    if most_frequent == '':\n",
    "        most_frequent = \"S\"\n",
    "\n",
    "    ideal_response = {'P': 'S', 'R': 'P', 'S': 'R'}\n",
    "    return ideal_response[most_frequent]\n",
    "\n",
    "\n",
    "def kris(prev_opponent_play):\n",
    "    if prev_opponent_play == '':\n",
    "        prev_opponent_play = \"R\"\n",
    "    ideal_response = {'P': 'S', 'R': 'P', 'S': 'R'}\n",
    "    return ideal_response[prev_opponent_play]\n",
    "\n",
    "\n",
    "def abbey(prev_opponent_play,\n",
    "          opponent_history=[],\n",
    "          play_order=[{\n",
    "              \"RR\": 0,\n",
    "              \"RP\": 0,\n",
    "              \"RS\": 0,\n",
    "              \"PR\": 0,\n",
    "              \"PP\": 0,\n",
    "              \"PS\": 0,\n",
    "              \"SR\": 0,\n",
    "              \"SP\": 0,\n",
    "              \"SS\": 0,\n",
    "          }]):\n",
    "\n",
    "    if not prev_opponent_play:\n",
    "        prev_opponent_play = 'R'\n",
    "    opponent_history.append(prev_opponent_play)\n",
    "\n",
    "    last_two = \"\".join(opponent_history[-2:])\n",
    "    if len(last_two) == 2:\n",
    "        play_order[0][last_two] += 1\n",
    "\n",
    "    potential_plays = [\n",
    "        prev_opponent_play + \"R\",\n",
    "        prev_opponent_play + \"P\",\n",
    "        prev_opponent_play + \"S\",\n",
    "    ]\n",
    "\n",
    "    sub_order = {\n",
    "        k: play_order[0][k]\n",
    "        for k in potential_plays if k in play_order[0]\n",
    "    }\n",
    "\n",
    "    prediction = max(sub_order, key=sub_order.get)[-1:]\n",
    "\n",
    "    ideal_response = {'P': 'S', 'R': 'P', 'S': 'R'}\n",
    "    return ideal_response[prediction]\n",
    "\n",
    "\n",
    "def human(prev_opponent_play):\n",
    "    play = \"\"\n",
    "    while play not in ['R', 'P', 'S']:\n",
    "        play = input(\"[R]ock, [P]aper, [S]cissors? \")\n",
    "        print(play)\n",
    "    return play\n",
    "\n",
    "\n",
    "def random_player(prev_opponent_play):\n",
    "    return random.choice(['R', 'P', 'S'])\n"
   ]
  },
  {
   "cell_type": "code",
   "execution_count": 2,
   "metadata": {},
   "outputs": [],
   "source": [
    "import tensorflow as tf\n",
    "import tensorflow.keras as keras\n",
    "\n",
    "def encodeRPS(char):\n",
    "    if char == 'R':\n",
    "        return 0\n",
    "    elif char == 'P':\n",
    "        return 1\n",
    "    elif char == 'S':\n",
    "        return 2\n",
    "    \n",
    "def decodeRPS(num):\n",
    "    if num == 0:\n",
    "        return 'R'\n",
    "    elif num == 1:\n",
    "        return 'P'\n",
    "    elif num == 2:\n",
    "        return 'S'  \n",
    "\n",
    "def Get_Prediction(model, opponent_history):\n",
    "    #format history for input\n",
    "    input_eval = [0 if c == '' else encodeRPS(c) for c in opponent_history]\n",
    "    input_eval = tf.expand_dims(input_eval, 0)\n",
    "    \n",
    "    #high temperature  => suprising output\n",
    "    #low temperature => predictable output\n",
    "    temperature = 0.1; \n",
    "    \n",
    "    model.reset_states()\n",
    "    \n",
    "    prediction = model(input_eval)\n",
    "    prediction = tf.squeeze(prediction, 0)\n",
    "    \n",
    "    prediction = prediction / temperature\n",
    "    predicted_id = tf.random.categorical(prediction, num_samples = 1)[-1,0].numpy()\n",
    "    \n",
    "    return decodeRPS(predicted_id)"
   ]
  },
  {
   "cell_type": "code",
   "execution_count": 3,
   "metadata": {},
   "outputs": [
    {
     "name": "stdout",
     "output_type": "stream",
     "text": [
      "WARNING:tensorflow:No training configuration found in save file, so the model was *not* compiled. Compile it manually.\n"
     ]
    }
   ],
   "source": [
    "# Test Loading\n",
    "model_test = keras.models.load_model('Models/LSTM_Random_and_Ideal_InputBased_All_Abbey')"
   ]
  },
  {
   "cell_type": "code",
   "execution_count": 4,
   "metadata": {},
   "outputs": [
    {
     "name": "stdout",
     "output_type": "stream",
     "text": [
      "Model: \"sequential_1\"\n",
      "_________________________________________________________________\n",
      "Layer (type)                 Output Shape              Param #   \n",
      "=================================================================\n",
      "embedding_1 (Embedding)      (1, None, 8)              24        \n",
      "_________________________________________________________________\n",
      "lstm_1 (LSTM)                (1, None, 1024)           4231168   \n",
      "_________________________________________________________________\n",
      "dense_1 (Dense)              (1, None, 4)              4100      \n",
      "=================================================================\n",
      "Total params: 4,235,292\n",
      "Trainable params: 4,235,292\n",
      "Non-trainable params: 0\n",
      "_________________________________________________________________\n",
      "[array([[ 0.16155487,  0.34387758, -0.67708224, -0.58314   , -0.6192922 ,\n",
      "        -0.49831024,  0.6406542 , -0.39273107],\n",
      "       [ 0.5828614 ,  0.34342846,  0.03933175,  0.2791612 ,  0.18513541,\n",
      "         0.5085075 , -0.17405964,  0.93006617],\n",
      "       [-0.6878341 , -0.615081  ,  0.39825636,  0.27618375,  0.36525542,\n",
      "         0.10149401, -0.31026828, -0.48526138]], dtype=float32), array([[ 0.04566441,  0.3309085 ,  0.76230085, ...,  0.23379798,\n",
      "         0.34875888, -0.14490975],\n",
      "       [-0.05240373,  0.17076725,  0.6465883 , ...,  0.1894189 ,\n",
      "         0.32261914, -0.06648845],\n",
      "       [ 0.10014479,  0.22173406, -0.22820508, ..., -0.08236363,\n",
      "        -0.11765576, -0.13035153],\n",
      "       ...,\n",
      "       [ 0.15417261,  0.54695433,  0.25170076, ...,  0.03859644,\n",
      "         0.03507997, -0.29880196],\n",
      "       [-0.13500704, -0.34326085,  0.08341829, ...,  0.05712349,\n",
      "         0.07814283,  0.19973223],\n",
      "       [ 0.02974364,  0.6924168 ,  0.69684374, ...,  0.19042224,\n",
      "         0.19409925, -0.33713973]], dtype=float32), array([[ 0.16605784,  0.0274078 , -0.06953222, ...,  0.04806862,\n",
      "         0.09615987, -0.0081833 ],\n",
      "       [-0.0046344 , -0.0056099 ,  0.03895811, ..., -0.03229377,\n",
      "        -0.12001046, -0.0465254 ],\n",
      "       [-0.03263073, -0.09202293,  0.05026554, ...,  0.00694083,\n",
      "         0.14648537,  0.0141679 ],\n",
      "       ...,\n",
      "       [ 0.0524115 , -0.03144122,  0.08098799, ...,  0.0204657 ,\n",
      "        -0.08333415,  0.06183132],\n",
      "       [-0.16228893, -0.00856891,  0.00494541, ...,  0.06698882,\n",
      "        -0.03330774,  0.04529873],\n",
      "       [ 0.02605867, -0.02192185, -0.02288933, ..., -0.02714718,\n",
      "         0.00430597,  0.09175038]], dtype=float32), array([ 0.13935192,  0.01320677,  0.08259521, ..., -0.05223944,\n",
      "        0.05532163, -0.00214727], dtype=float32), array([[-0.01763616, -0.05548596,  0.03646456,  0.23621199],\n",
      "       [ 0.08254147, -0.00948548, -0.10389245,  0.07612336],\n",
      "       [-0.06427083,  0.02066588,  0.04558306, -0.05872561],\n",
      "       ...,\n",
      "       [ 0.00195547,  0.07452968,  0.09674796,  0.00314043],\n",
      "       [ 0.00807566, -0.07571069,  0.06083451,  0.27019995],\n",
      "       [ 0.03310912,  0.06953347, -0.11703027,  0.03552455]],\n",
      "      dtype=float32), array([-0.01717194,  0.03628302,  0.02406934, -0.07940369], dtype=float32)]\n",
      "None\n"
     ]
    }
   ],
   "source": [
    "model_test.summary()\n",
    "print(model_test.get_weights())\n",
    "print(model_test.optimizer)"
   ]
  },
  {
   "cell_type": "code",
   "execution_count": 5,
   "metadata": {},
   "outputs": [
    {
     "name": "stdout",
     "output_type": "stream",
     "text": [
      "S\n"
     ]
    }
   ],
   "source": [
    "print(Get_Prediction(model_test, ['R','R','P']))\n",
    "plays = 1000\n",
    "def player_test(prev_play, opponent_history=[], player_history=['']):\n",
    "    if len(opponent_history) >= plays: \n",
    "        opponent_history.clear()\n",
    "        player_history.clear()\n",
    "        player_history.append('')\n",
    "        \n",
    "    opponent_history.append(prev_play)\n",
    "    \n",
    "    guess = Get_Prediction(model_test, player_history)\n",
    "\n",
    "    #print(len(opponent_history))\n",
    "    player_history.append(guess)\n",
    "    return guess"
   ]
  },
  {
   "cell_type": "code",
   "execution_count": 6,
   "metadata": {},
   "outputs": [
    {
     "name": "stdout",
     "output_type": "stream",
     "text": [
      "Final results: {'p1': 333, 'p2': 332, 'tie': 335}\n",
      "Player 1 win rate: 50.07518796992482%\n",
      "Final results: {'p1': 777, 'p2': 112, 'tie': 111}\n",
      "Player 1 win rate: 87.4015748031496%\n",
      "Final results: {'p1': 333, 'p2': 334, 'tie': 333}\n",
      "Player 1 win rate: 49.92503748125937%\n",
      "Final results: {'p1': 335, 'p2': 333, 'tie': 332}\n",
      "Player 1 win rate: 50.1497005988024%\n"
     ]
    },
    {
     "data": {
      "text/plain": [
       "50.1497005988024"
      ]
     },
     "execution_count": 6,
     "metadata": {},
     "output_type": "execute_result"
    }
   ],
   "source": [
    "play(player_test, quincy, plays)\n",
    "play(player_test, abbey, plays)\n",
    "play(player_test, kris, plays)\n",
    "play(player_test, mrugesh, plays)"
   ]
  },
  {
   "cell_type": "code",
   "execution_count": 7,
   "metadata": {},
   "outputs": [
    {
     "name": "stdout",
     "output_type": "stream",
     "text": [
      "Final results: {'p1': 777, 'p2': 112, 'tie': 111}\n",
      "Player 1 win rate: 87.4015748031496%\n"
     ]
    },
    {
     "data": {
      "text/plain": [
       "87.4015748031496"
      ]
     },
     "execution_count": 7,
     "metadata": {},
     "output_type": "execute_result"
    }
   ],
   "source": [
    "play(player_test, abbey, plays)"
   ]
  },
  {
   "cell_type": "code",
   "execution_count": null,
   "metadata": {},
   "outputs": [],
   "source": []
  }
 ],
 "metadata": {
  "kernelspec": {
   "display_name": "Python 3.8.1 64-bit",
   "language": "python",
   "name": "python38164bitf7bfa84029d94e559180d01a2a463659"
  },
  "language_info": {
   "codemirror_mode": {
    "name": "ipython",
    "version": 3
   },
   "file_extension": ".py",
   "mimetype": "text/x-python",
   "name": "python",
   "nbconvert_exporter": "python",
   "pygments_lexer": "ipython3",
   "version": "3.8.6"
  }
 },
 "nbformat": 4,
 "nbformat_minor": 4
}
