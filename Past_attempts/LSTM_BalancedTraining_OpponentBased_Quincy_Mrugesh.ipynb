{
 "cells": [
  {
   "cell_type": "markdown",
   "metadata": {},
   "source": [
    "# LSTM Model\n"
   ]
  },
  {
   "cell_type": "markdown",
   "metadata": {},
   "source": [
    "## Import Data\n",
    "### Players from RPS_game.py"
   ]
  },
  {
   "cell_type": "code",
   "execution_count": 1,
   "metadata": {},
   "outputs": [],
   "source": [
    "from Lib.RPS_game import play, mrugesh, abbey, quincy, kris, human, random_player\n",
    "from Lib.RPS_encoding import RPS_encode, RPS_decode, RPS_encode_dataframe\n",
    "import tensorflow as tf\n",
    "import tensorflow.keras as keras\n",
    "from tensorflow.keras.layers import Dense, LSTM, Embedding\n",
    "import pandas as pd\n",
    "from os import listdir\n",
    "from os.path import isfile, join"
   ]
  },
  {
   "cell_type": "markdown",
   "metadata": {},
   "source": [
    "## Read and Concatenate Games\n",
    "Take all games and load into dataframe"
   ]
  },
  {
   "cell_type": "markdown",
   "metadata": {},
   "source": []
  },
  {
   "cell_type": "code",
   "execution_count": 3,
   "metadata": {},
   "outputs": [
    {
     "name": "stdout",
     "output_type": "stream",
     "text": [
      "80000\n"
     ]
    },
    {
     "data": {
      "text/html": [
       "<div>\n",
       "<style scoped>\n",
       "    .dataframe tbody tr th:only-of-type {\n",
       "        vertical-align: middle;\n",
       "    }\n",
       "\n",
       "    .dataframe tbody tr th {\n",
       "        vertical-align: top;\n",
       "    }\n",
       "\n",
       "    .dataframe thead th {\n",
       "        text-align: right;\n",
       "    }\n",
       "</style>\n",
       "<table border=\"1\" class=\"dataframe\">\n",
       "  <thead>\n",
       "    <tr style=\"text-align: right;\">\n",
       "      <th></th>\n",
       "      <th>Player</th>\n",
       "      <th>Opponent</th>\n",
       "      <th>Result</th>\n",
       "      <th>Winning_Play</th>\n",
       "    </tr>\n",
       "  </thead>\n",
       "  <tbody>\n",
       "    <tr>\n",
       "      <th>0</th>\n",
       "      <td>R</td>\n",
       "      <td>R</td>\n",
       "      <td>0</td>\n",
       "      <td>P</td>\n",
       "    </tr>\n",
       "    <tr>\n",
       "      <th>1</th>\n",
       "      <td>S</td>\n",
       "      <td>P</td>\n",
       "      <td>1</td>\n",
       "      <td>S</td>\n",
       "    </tr>\n",
       "    <tr>\n",
       "      <th>2</th>\n",
       "      <td>S</td>\n",
       "      <td>P</td>\n",
       "      <td>1</td>\n",
       "      <td>S</td>\n",
       "    </tr>\n",
       "    <tr>\n",
       "      <th>3</th>\n",
       "      <td>P</td>\n",
       "      <td>P</td>\n",
       "      <td>0</td>\n",
       "      <td>S</td>\n",
       "    </tr>\n",
       "    <tr>\n",
       "      <th>4</th>\n",
       "      <td>R</td>\n",
       "      <td>P</td>\n",
       "      <td>0</td>\n",
       "      <td>S</td>\n",
       "    </tr>\n",
       "  </tbody>\n",
       "</table>\n",
       "</div>"
      ],
      "text/plain": [
       "  Player Opponent Result Winning_Play\n",
       "0      R        R      0            P\n",
       "1      S        P      1            S\n",
       "2      S        P      1            S\n",
       "3      P        P      0            S\n",
       "4      R        P      0            S"
      ]
     },
     "execution_count": 3,
     "metadata": {},
     "output_type": "execute_result"
    }
   ],
   "source": [
    "path = \"Games/\"\n",
    "all_game_paths = [join(path, f) for f in listdir(path) if isfile(join(path, f))]\n",
    "games_concat = pd.DataFrame(columns = [\"Player\",\"Opponent\",\"Result\",\"Winning_Play\"])\n",
    "games = []\n",
    "for game_path in all_game_paths:\n",
    "    #print(game_path)\n",
    "    game_data = pd.read_csv(game_path, names = [\"Player\",\"Opponent\",\"Result\",\"Winning_Play\"])\n",
    "    games.append(game_data)\n",
    "    games_concat = games_concat.append(game_data)\n",
    "    \n",
    "#print(len(game_data.index)) \n",
    "#game_data.head()  \n",
    "print(len(games_concat.index))\n",
    "games_concat.head()"
   ]
  },
  {
   "cell_type": "markdown",
   "metadata": {},
   "source": [
    "# LSTM Training\n",
    "### Parameters"
   ]
  },
  {
   "cell_type": "code",
   "execution_count": 4,
   "metadata": {},
   "outputs": [],
   "source": [
    "seq_length = 100 #how far back the ltsm looks when training\n",
    "#Model parameters\n",
    "BATCH_SIZE = 64\n",
    "VOCAB_SIZE = 3 # RPS\n",
    "EMBEDDING_DIM = 256\n",
    "RNN_UNITS = 1024\n",
    "\n",
    "TRAINING_EPOCHS = 100\n",
    "\n",
    "#best so far\n",
    "#100\n",
    "#64\n",
    "#3\n",
    "#128\n",
    "#512\n",
    "#200\n"
   ]
  },
  {
   "cell_type": "markdown",
   "metadata": {},
   "source": [
    "### Format data for LTSM training"
   ]
  },
  {
   "cell_type": "code",
   "execution_count": 6,
   "metadata": {},
   "outputs": [
    {
     "name": "stdout",
     "output_type": "stream",
     "text": [
      "     Player  Opponent  Winning_Play\n",
      "0         0         0             1\n",
      "1         2         1             2\n",
      "2         2         1             2\n",
      "3         1         1             2\n",
      "4         0         1             2\n",
      "..      ...       ...           ...\n",
      "995       1         0             1\n",
      "996       2         1             2\n",
      "997       2         1             2\n",
      "998       0         2             0\n",
      "999       1         0             1\n",
      "\n",
      "[80000 rows x 3 columns]\n",
      "<TensorSliceDataset shapes: (), types: tf.int64>\n",
      "<BatchDataset shapes: (101,), types: tf.int64>\n",
      "(<tf.Tensor: shape=(100,), dtype=int64, numpy=\n",
      "array([0, 1, 1, 1, 1, 0, 1, 0, 1, 1, 1, 0, 1, 0, 1, 1, 1, 1, 2, 2, 1, 1,\n",
      "       1, 2, 1, 0, 2, 2, 1, 0, 2, 0, 1, 1, 0, 2, 1, 2, 2, 1, 0, 2, 0, 1,\n",
      "       2, 0, 1, 0, 2, 0, 0, 0, 1, 0, 1, 1, 1, 1, 2, 1, 1, 0, 0, 0, 1, 1,\n",
      "       2, 2, 2, 1, 1, 1, 2, 1, 2, 1, 2, 1, 2, 1, 2, 2, 2, 1, 1, 2, 2, 1,\n",
      "       1, 2, 2, 1, 2, 1, 2, 2, 2, 2, 2, 2], dtype=int64)>, <tf.Tensor: shape=(100,), dtype=int64, numpy=\n",
      "array([2, 2, 2, 2, 1, 2, 1, 2, 2, 2, 1, 2, 1, 2, 2, 2, 2, 0, 0, 2, 2, 2,\n",
      "       0, 2, 1, 0, 0, 2, 1, 0, 1, 2, 2, 1, 0, 2, 0, 0, 2, 1, 0, 1, 2, 0,\n",
      "       1, 2, 1, 0, 1, 1, 1, 2, 1, 2, 2, 2, 2, 0, 2, 2, 1, 1, 1, 2, 2, 0,\n",
      "       0, 0, 2, 2, 2, 0, 2, 0, 2, 0, 2, 0, 2, 0, 0, 0, 2, 2, 0, 0, 2, 2,\n",
      "       0, 0, 2, 0, 2, 0, 0, 0, 0, 0, 0, 0], dtype=int64)>)\n"
     ]
    }
   ],
   "source": [
    "temp = games_concat.drop(\"Result\", axis = 1)\n",
    "temp = RPS_encode_dataframe(temp)\n",
    "input_data = tf.data.Dataset.from_tensor_slices(temp[\"Opponent\"])\n",
    "target_data = tf.data.Dataset.from_tensor_slices(temp[\"Winning_Play\"])\n",
    "print(temp)\n",
    "print(input_data)\n",
    "\n",
    "#split into sequences\n",
    "input_sequences = input_data.batch(seq_length+1, drop_remainder = True)\n",
    "target_sequences = target_data.batch(seq_length+1, drop_remainder = True)\n",
    "print(input_sequences)\n",
    "\n",
    "#remove last element from all input sequences\n",
    "def remove_last(chunk):\n",
    "    return chunk[:-1]\n",
    "inputs = input_sequences.map(remove_last)\n",
    "\n",
    "#Code for abbey training\n",
    "#inputs = target_sequences.map(remove_last)\n",
    "\n",
    "#remove first element from all target sequences\n",
    "def remove_first(chunk):\n",
    "    return chunk[1:]\n",
    "targets = target_sequences.map(remove_first)\n",
    "\n",
    "dataset = tf.data.Dataset.zip((inputs, targets))\n",
    "for element in dataset:\n",
    "    print(element)\n",
    "    break\n"
   ]
  },
  {
   "cell_type": "markdown",
   "metadata": {},
   "source": [
    "### Build the model"
   ]
  },
  {
   "cell_type": "code",
   "execution_count": 26,
   "metadata": {},
   "outputs": [
    {
     "name": "stdout",
     "output_type": "stream",
     "text": [
      "Model: \"sequential_2\"\n",
      "_________________________________________________________________\n",
      "Layer (type)                 Output Shape              Param #   \n",
      "=================================================================\n",
      "embedding_2 (Embedding)      (64, None, 256)           768       \n",
      "_________________________________________________________________\n",
      "lstm_2 (LSTM)                (64, None, 1024)          5246976   \n",
      "_________________________________________________________________\n",
      "dense_2 (Dense)              (64, None, 4)             4100      \n",
      "=================================================================\n",
      "Total params: 5,251,844\n",
      "Trainable params: 5,251,844\n",
      "Non-trainable params: 0\n",
      "_________________________________________________________________\n"
     ]
    }
   ],
   "source": [
    "#Shuffle sequences before batching\n",
    "data = dataset.shuffle(10000).batch(BATCH_SIZE, drop_remainder = True)\n",
    "\n",
    "def build_model(vocab_size, embedding_dim, rnn_units, batch_size):\n",
    "    model = keras.Sequential()\n",
    "    model.add(Embedding(vocab_size, embedding_dim, batch_input_shape = [batch_size, None]))\n",
    "    model.add(LSTM(rnn_units, return_sequences=True, stateful=True, recurrent_initializer='glorot_uniform'))\n",
    "    model.add(Dense(vocab_size+1))\n",
    "    return model\n",
    "\n",
    "model = build_model(VOCAB_SIZE, EMBEDDING_DIM, RNN_UNITS, BATCH_SIZE)\n",
    "model.summary()"
   ]
  },
  {
   "cell_type": "code",
   "execution_count": 27,
   "metadata": {},
   "outputs": [
    {
     "data": {
      "text/plain": [
       "<tensorflow.python.training.tracking.util.CheckpointLoadStatus at 0x29d7fc76d90>"
      ]
     },
     "execution_count": 27,
     "metadata": {},
     "output_type": "execute_result"
    }
   ],
   "source": [
    "#RUN TO CONTINUE TRAINING FROM LAST WEIGHTS\n",
    "model.load_weights('Models/tmpWeights')"
   ]
  },
  {
   "cell_type": "markdown",
   "metadata": {},
   "source": [
    "### Create loss function"
   ]
  },
  {
   "cell_type": "code",
   "execution_count": 28,
   "metadata": {},
   "outputs": [],
   "source": [
    "def loss(labels, logits):\n",
    "    return keras.losses.sparse_categorical_crossentropy(labels, logits, from_logits = True)"
   ]
  },
  {
   "cell_type": "markdown",
   "metadata": {},
   "source": [
    "### Compile the model"
   ]
  },
  {
   "cell_type": "code",
   "execution_count": 29,
   "metadata": {},
   "outputs": [],
   "source": [
    "model.compile(optimizer='adam', loss=loss)"
   ]
  },
  {
   "cell_type": "markdown",
   "metadata": {},
   "source": [
    "### Create Checkpoints\n",
    "configure the model to create checkpoints as it trains so the model can be reloaded and continue training"
   ]
  },
  {
   "cell_type": "code",
   "execution_count": 30,
   "metadata": {},
   "outputs": [
    {
     "name": "stdout",
     "output_type": "stream",
     "text": [
      "2.3.1\n"
     ]
    }
   ],
   "source": [
    "checkpoint_dir = './training_checkpoints'\n",
    "\n",
    "checkpoint_prefix = join(checkpoint_dir, \"ckpt_{epoch}\")\n",
    "\n",
    "checkpoint_callback = keras.callbacks.ModelCheckpoint(filepath = checkpoint_prefix, save_weights_only = True)\n",
    "\n",
    "print(tf.__version__)"
   ]
  },
  {
   "cell_type": "markdown",
   "metadata": {},
   "source": [
    "### Training the model"
   ]
  },
  {
   "cell_type": "code",
   "execution_count": 31,
   "metadata": {},
   "outputs": [
    {
     "name": "stdout",
     "output_type": "stream",
     "text": [
      "Epoch 1/100\n",
      "12/12 [==============================] - 0s 40ms/step - loss: 0.1166\n",
      "Epoch 2/100\n",
      "12/12 [==============================] - 0s 37ms/step - loss: 0.1182\n",
      "Epoch 3/100\n",
      "12/12 [==============================] - 0s 37ms/step - loss: 0.1113\n",
      "Epoch 4/100\n",
      "12/12 [==============================] - 0s 38ms/step - loss: 0.1042\n",
      "Epoch 5/100\n",
      "12/12 [==============================] - 0s 38ms/step - loss: 0.1087: 0s - loss: 0\n",
      "Epoch 6/100\n",
      "12/12 [==============================] - 0s 37ms/step - loss: 0.1135\n",
      "Epoch 7/100\n",
      "12/12 [==============================] - 0s 37ms/step - loss: 0.1075\n",
      "Epoch 8/100\n",
      "12/12 [==============================] - 0s 38ms/step - loss: 0.1001\n",
      "Epoch 9/100\n",
      "12/12 [==============================] - 0s 38ms/step - loss: 0.1053\n",
      "Epoch 10/100\n",
      "12/12 [==============================] - 0s 37ms/step - loss: 0.1042\n",
      "Epoch 11/100\n",
      "12/12 [==============================] - 0s 37ms/step - loss: 0.0998\n",
      "Epoch 12/100\n",
      "12/12 [==============================] - 1s 42ms/step - loss: 0.1013\n",
      "Epoch 13/100\n",
      "12/12 [==============================] - 0s 38ms/step - loss: 0.1040\n",
      "Epoch 14/100\n",
      "12/12 [==============================] - 0s 40ms/step - loss: 0.1003\n",
      "Epoch 15/100\n",
      "12/12 [==============================] - 0s 40ms/step - loss: 0.0962\n",
      "Epoch 16/100\n",
      "12/12 [==============================] - 0s 38ms/step - loss: 0.0982\n",
      "Epoch 17/100\n",
      "12/12 [==============================] - 0s 39ms/step - loss: 0.0951\n",
      "Epoch 18/100\n",
      "12/12 [==============================] - 0s 37ms/step - loss: 0.0952\n",
      "Epoch 19/100\n",
      "12/12 [==============================] - 0s 38ms/step - loss: 0.0956\n",
      "Epoch 20/100\n",
      "12/12 [==============================] - 0s 37ms/step - loss: 0.0949\n",
      "Epoch 21/100\n",
      "12/12 [==============================] - 0s 37ms/step - loss: 0.1114\n",
      "Epoch 22/100\n",
      "12/12 [==============================] - 0s 39ms/step - loss: 0.1116\n",
      "Epoch 23/100\n",
      "12/12 [==============================] - 0s 37ms/step - loss: 0.1097\n",
      "Epoch 24/100\n",
      "12/12 [==============================] - 0s 37ms/step - loss: 0.1061\n",
      "Epoch 25/100\n",
      "12/12 [==============================] - 0s 38ms/step - loss: 0.1073\n",
      "Epoch 26/100\n",
      "12/12 [==============================] - 0s 38ms/step - loss: 0.1013\n",
      "Epoch 27/100\n",
      "12/12 [==============================] - 0s 37ms/step - loss: 0.1042\n",
      "Epoch 28/100\n",
      "12/12 [==============================] - 0s 37ms/step - loss: 0.1017\n",
      "Epoch 29/100\n",
      "12/12 [==============================] - 0s 38ms/step - loss: 0.1112\n",
      "Epoch 30/100\n",
      "12/12 [==============================] - 0s 38ms/step - loss: 0.1083\n",
      "Epoch 31/100\n",
      "12/12 [==============================] - 0s 37ms/step - loss: 0.1048\n",
      "Epoch 32/100\n",
      "12/12 [==============================] - 1s 42ms/step - loss: 0.0987\n",
      "Epoch 33/100\n",
      "12/12 [==============================] - 0s 38ms/step - loss: 0.0949\n",
      "Epoch 34/100\n",
      "12/12 [==============================] - 1s 43ms/step - loss: 0.1020\n",
      "Epoch 35/100\n",
      "12/12 [==============================] - 0s 40ms/step - loss: 0.1093\n",
      "Epoch 36/100\n",
      "12/12 [==============================] - 0s 41ms/step - loss: 0.1029\n",
      "Epoch 37/100\n",
      "12/12 [==============================] - 0s 40ms/step - loss: 0.1013\n",
      "Epoch 38/100\n",
      "12/12 [==============================] - 0s 38ms/step - loss: 0.1012\n",
      "Epoch 39/100\n",
      "12/12 [==============================] - 0s 40ms/step - loss: 0.0986\n",
      "Epoch 40/100\n",
      "12/12 [==============================] - 0s 40ms/step - loss: 0.0926\n",
      "Epoch 41/100\n",
      "12/12 [==============================] - 0s 40ms/step - loss: 0.1009\n",
      "Epoch 42/100\n",
      "12/12 [==============================] - 0s 40ms/step - loss: 0.1031\n",
      "Epoch 43/100\n",
      "12/12 [==============================] - 0s 39ms/step - loss: 0.1014\n",
      "Epoch 44/100\n",
      "12/12 [==============================] - 1s 42ms/step - loss: 0.0965\n",
      "Epoch 45/100\n",
      "12/12 [==============================] - 0s 40ms/step - loss: 0.0910\n",
      "Epoch 46/100\n",
      "12/12 [==============================] - 0s 38ms/step - loss: 0.0898\n",
      "Epoch 47/100\n",
      "12/12 [==============================] - 0s 40ms/step - loss: 0.0875\n",
      "Epoch 48/100\n",
      "12/12 [==============================] - 0s 40ms/step - loss: 0.0866\n",
      "Epoch 49/100\n",
      "12/12 [==============================] - 0s 39ms/step - loss: 0.1447\n",
      "Epoch 50/100\n",
      "12/12 [==============================] - 0s 40ms/step - loss: 0.2378\n",
      "Epoch 51/100\n",
      "12/12 [==============================] - 0s 38ms/step - loss: 0.1748\n",
      "Epoch 52/100\n",
      "12/12 [==============================] - 0s 37ms/step - loss: 0.1323\n",
      "Epoch 53/100\n",
      "12/12 [==============================] - 0s 38ms/step - loss: 0.1154\n",
      "Epoch 54/100\n",
      "12/12 [==============================] - 0s 38ms/step - loss: 0.1057\n",
      "Epoch 55/100\n",
      "12/12 [==============================] - 0s 40ms/step - loss: 0.1009\n",
      "Epoch 56/100\n",
      "12/12 [==============================] - 0s 40ms/step - loss: 0.0983\n",
      "Epoch 57/100\n",
      "12/12 [==============================] - 0s 38ms/step - loss: 0.0938\n",
      "Epoch 58/100\n",
      "12/12 [==============================] - 0s 41ms/step - loss: 0.0916\n",
      "Epoch 59/100\n",
      "12/12 [==============================] - 0s 38ms/step - loss: 0.0905\n",
      "Epoch 60/100\n",
      "12/12 [==============================] - 0s 40ms/step - loss: 0.0884\n",
      "Epoch 61/100\n",
      "12/12 [==============================] - 1s 44ms/step - loss: 0.0907\n",
      "Epoch 62/100\n",
      "12/12 [==============================] - 0s 41ms/step - loss: 0.0987\n",
      "Epoch 63/100\n",
      "12/12 [==============================] - 1s 44ms/step - loss: 0.1028\n",
      "Epoch 64/100\n",
      "12/12 [==============================] - 1s 43ms/step - loss: 0.1088\n",
      "Epoch 65/100\n",
      "12/12 [==============================] - 1s 43ms/step - loss: 0.1057\n",
      "Epoch 66/100\n",
      "12/12 [==============================] - 0s 42ms/step - loss: 0.0956\n",
      "Epoch 67/100\n",
      "12/12 [==============================] - 0s 40ms/step - loss: 0.0893\n",
      "Epoch 68/100\n",
      "12/12 [==============================] - 1s 43ms/step - loss: 0.0903\n",
      "Epoch 69/100\n",
      "12/12 [==============================] - 0s 40ms/step - loss: 0.0863\n",
      "Epoch 70/100\n",
      "12/12 [==============================] - 1s 43ms/step - loss: 0.0869\n",
      "Epoch 71/100\n",
      "12/12 [==============================] - 1s 42ms/step - loss: 0.0848\n",
      "Epoch 72/100\n",
      "12/12 [==============================] - 0s 40ms/step - loss: 0.0875\n",
      "Epoch 73/100\n",
      "12/12 [==============================] - 0s 41ms/step - loss: 0.0945\n",
      "Epoch 74/100\n",
      "12/12 [==============================] - 0s 40ms/step - loss: 0.0938\n",
      "Epoch 75/100\n",
      "12/12 [==============================] - 0s 40ms/step - loss: 0.0902\n",
      "Epoch 76/100\n",
      "12/12 [==============================] - 0s 41ms/step - loss: 0.0936\n",
      "Epoch 77/100\n",
      "12/12 [==============================] - 0s 38ms/step - loss: 0.0917\n",
      "Epoch 78/100\n",
      "12/12 [==============================] - 0s 41ms/step - loss: 0.0888\n",
      "Epoch 79/100\n",
      "12/12 [==============================] - 0s 41ms/step - loss: 0.0880\n",
      "Epoch 80/100\n",
      "12/12 [==============================] - 0s 40ms/step - loss: 0.0870\n",
      "Epoch 81/100\n",
      "12/12 [==============================] - 1s 43ms/step - loss: 0.0880\n",
      "Epoch 82/100\n",
      "12/12 [==============================] - 0s 41ms/step - loss: 0.1121\n",
      "Epoch 83/100\n",
      "12/12 [==============================] - 1s 42ms/step - loss: 0.1098\n",
      "Epoch 84/100\n",
      "12/12 [==============================] - 1s 43ms/step - loss: 0.1070\n",
      "Epoch 85/100\n",
      "12/12 [==============================] - 1s 43ms/step - loss: 0.1914\n",
      "Epoch 86/100\n",
      "12/12 [==============================] - 1s 42ms/step - loss: 0.1869\n",
      "Epoch 87/100\n",
      "12/12 [==============================] - 0s 40ms/step - loss: 0.1495\n",
      "Epoch 88/100\n",
      "12/12 [==============================] - 0s 40ms/step - loss: 0.1202\n",
      "Epoch 89/100\n",
      "12/12 [==============================] - 0s 41ms/step - loss: 0.1056\n",
      "Epoch 90/100\n",
      "12/12 [==============================] - 0s 40ms/step - loss: 0.1003\n",
      "Epoch 91/100\n",
      "12/12 [==============================] - 0s 39ms/step - loss: 0.0975\n",
      "Epoch 92/100\n",
      "12/12 [==============================] - 0s 40ms/step - loss: 0.0939\n",
      "Epoch 93/100\n",
      "12/12 [==============================] - 0s 39ms/step - loss: 0.0899\n",
      "Epoch 94/100\n",
      "12/12 [==============================] - 0s 41ms/step - loss: 0.0890\n",
      "Epoch 95/100\n",
      "12/12 [==============================] - 0s 39ms/step - loss: 0.0858\n",
      "Epoch 96/100\n",
      "12/12 [==============================] - 0s 39ms/step - loss: 0.0837\n",
      "Epoch 97/100\n",
      "12/12 [==============================] - 0s 41ms/step - loss: 0.0850\n",
      "Epoch 98/100\n",
      "12/12 [==============================] - 1s 43ms/step - loss: 0.0861\n",
      "Epoch 99/100\n",
      "12/12 [==============================] - 0s 41ms/step - loss: 0.0843\n",
      "Epoch 100/100\n"
     ]
    },
    {
     "name": "stdout",
     "output_type": "stream",
     "text": [
      "12/12 [==============================] - 1s 42ms/step - loss: 0.0854\n"
     ]
    }
   ],
   "source": [
    "#Program can crash when training due to tensorflow 2.0 GPU issue\n",
    "history = model.fit(data, epochs = TRAINING_EPOCHS, callbacks = [checkpoint_callback])"
   ]
  },
  {
   "cell_type": "code",
   "execution_count": 32,
   "metadata": {},
   "outputs": [],
   "source": [
    "model.save_weights(\"Models/tmpWeights\")"
   ]
  },
  {
   "cell_type": "markdown",
   "metadata": {},
   "source": [
    "### Rebuild model for predicting one output rather than a vector"
   ]
  },
  {
   "cell_type": "code",
   "execution_count": 33,
   "metadata": {},
   "outputs": [],
   "source": [
    "#change config\n",
    "model = build_model(VOCAB_SIZE, EMBEDDING_DIM, RNN_UNITS, batch_size = 1)\n",
    "#load trained weights from checkpoint\n",
    "model.load_weights(tf.train.latest_checkpoint(checkpoint_dir))\n",
    "model.build(tf.TensorShape([1, None]))"
   ]
  },
  {
   "cell_type": "markdown",
   "metadata": {},
   "source": [
    "## Generate Outputs from Model"
   ]
  },
  {
   "cell_type": "code",
   "execution_count": 20,
   "metadata": {},
   "outputs": [],
   "source": [
    "def Get_Prediction(model, opponent_history):\n",
    "    #format history for input\n",
    "    input_eval = [0 if c == '' else RPS_encode(c) for c in opponent_history]\n",
    "    input_eval = tf.expand_dims(input_eval, 0)\n",
    "    \n",
    "    #high temperature  => suprising output\n",
    "    #low temperature => predictable output\n",
    "    temperature = 1; \n",
    "    \n",
    "    model.reset_states()\n",
    "    \n",
    "    prediction = model(input_eval)\n",
    "    prediction = tf.squeeze(prediction, 0)\n",
    "    \n",
    "    prediction = prediction / temperature\n",
    "    predicted_id = tf.random.categorical(prediction, num_samples = 1)[-1,0].numpy()\n",
    "    \n",
    "    return RPS_decode(predicted_id)\n",
    "\n",
    "#print(Get_Prediction(model, ['R','R','P']))"
   ]
  },
  {
   "cell_type": "markdown",
   "metadata": {},
   "source": [
    "# RPS.py\n",
    "Player function"
   ]
  },
  {
   "cell_type": "code",
   "execution_count": 21,
   "metadata": {},
   "outputs": [],
   "source": [
    "plays = 1000\n",
    "\n",
    "def player(prev_play, opponent_history=[]):\n",
    "    if len(opponent_history) >= plays: \n",
    "        opponent_history.clear()\n",
    "        \n",
    "    opponent_history.append(prev_play)\n",
    "\n",
    "    guess = Get_Prediction(model, opponent_history)\n",
    "    \n",
    "    return guess"
   ]
  },
  {
   "cell_type": "markdown",
   "metadata": {},
   "source": [
    "# MAIN.PY"
   ]
  },
  {
   "cell_type": "code",
   "execution_count": 34,
   "metadata": {},
   "outputs": [
    {
     "name": "stdout",
     "output_type": "stream",
     "text": [
      "Final results: {'p1': 998, 'p2': 1, 'tie': 1}\n",
      "Player 1 win rate: 99.8998998998999%\n",
      "Final results: {'p1': 331, 'p2': 342, 'tie': 327}\n",
      "Player 1 win rate: 49.18276374442793%\n",
      "Final results: {'p1': 468, 'p2': 254, 'tie': 278}\n",
      "Player 1 win rate: 64.81994459833795%\n",
      "Final results: {'p1': 697, 'p2': 200, 'tie': 103}\n",
      "Player 1 win rate: 77.70345596432553%\n"
     ]
    },
    {
     "data": {
      "text/plain": [
       "77.70345596432553"
      ]
     },
     "execution_count": 34,
     "metadata": {},
     "output_type": "execute_result"
    }
   ],
   "source": [
    "play(player, quincy, plays)\n",
    "play(player, abbey, plays)\n",
    "play(player, kris, plays)\n",
    "play(player, mrugesh, plays)"
   ]
  },
  {
   "cell_type": "markdown",
   "metadata": {},
   "source": [
    "## Saving the model"
   ]
  },
  {
   "cell_type": "code",
   "execution_count": 35,
   "metadata": {},
   "outputs": [
    {
     "name": "stdout",
     "output_type": "stream",
     "text": [
      "INFO:tensorflow:Assets written to: Models/LSTM_BalancedTraining_OpponentBased_Quincy_Mrugesh\\assets\n"
     ]
    }
   ],
   "source": [
    "model.save('Models/LSTM_BalancedTraining_OpponentBased_Quincy_Mrugesh')"
   ]
  },
  {
   "cell_type": "code",
   "execution_count": null,
   "metadata": {},
   "outputs": [],
   "source": []
  }
 ],
 "metadata": {
  "kernelspec": {
   "display_name": "Python 3.8.1 64-bit",
   "language": "python",
   "name": "python38164bitf7bfa84029d94e559180d01a2a463659"
  },
  "language_info": {
   "codemirror_mode": {
    "name": "ipython",
    "version": 3
   },
   "file_extension": ".py",
   "mimetype": "text/x-python",
   "name": "python",
   "nbconvert_exporter": "python",
   "pygments_lexer": "ipython3",
   "version": "3.8.6"
  }
 },
 "nbformat": 4,
 "nbformat_minor": 4
}
