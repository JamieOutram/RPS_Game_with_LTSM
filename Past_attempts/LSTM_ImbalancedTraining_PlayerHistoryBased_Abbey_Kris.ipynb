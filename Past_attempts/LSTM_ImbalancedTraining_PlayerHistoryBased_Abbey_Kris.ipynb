{
 "cells": [
  {
   "cell_type": "markdown",
   "metadata": {},
   "source": [
    "# LSTM Model\n"
   ]
  },
  {
   "cell_type": "markdown",
   "metadata": {},
   "source": [
    "## Import Data\n",
    "### Players from RPS_game.py"
   ]
  },
  {
   "cell_type": "code",
   "execution_count": 1,
   "metadata": {},
   "outputs": [],
   "source": [
    "import random\n",
    "from Lib.RPS_game import play, mrugesh, abbey, quincy, kris, human, random_player\n",
    "from Lib.RPS_encoding import RPS_encode, RPS_decode, RPS_encode_dataframe\n",
    "import tensorflow as tf\n",
    "import tensorflow.keras as keras\n",
    "from tensorflow.keras.layers import Dense, LSTM, Embedding\n",
    "import pandas as pd\n",
    "from os import listdir\n",
    "from os.path import isfile, join"
   ]
  },
  {
   "cell_type": "markdown",
   "metadata": {},
   "source": [
    "## Read and Concatenate Games\n",
    "Take all games and load into dataframe"
   ]
  },
  {
   "cell_type": "markdown",
   "metadata": {},
   "source": []
  },
  {
   "cell_type": "code",
   "execution_count": 2,
   "metadata": {},
   "outputs": [
    {
     "name": "stdout",
     "output_type": "stream",
     "text": [
      "100000\n"
     ]
    },
    {
     "data": {
      "text/html": [
       "<div>\n",
       "<style scoped>\n",
       "    .dataframe tbody tr th:only-of-type {\n",
       "        vertical-align: middle;\n",
       "    }\n",
       "\n",
       "    .dataframe tbody tr th {\n",
       "        vertical-align: top;\n",
       "    }\n",
       "\n",
       "    .dataframe thead th {\n",
       "        text-align: right;\n",
       "    }\n",
       "</style>\n",
       "<table border=\"1\" class=\"dataframe\">\n",
       "  <thead>\n",
       "    <tr style=\"text-align: right;\">\n",
       "      <th></th>\n",
       "      <th>Player</th>\n",
       "      <th>Opponent</th>\n",
       "      <th>Result</th>\n",
       "      <th>Winning_Play</th>\n",
       "    </tr>\n",
       "  </thead>\n",
       "  <tbody>\n",
       "    <tr>\n",
       "      <th>0</th>\n",
       "      <td>S</td>\n",
       "      <td>S</td>\n",
       "      <td>0</td>\n",
       "      <td>R</td>\n",
       "    </tr>\n",
       "    <tr>\n",
       "      <th>1</th>\n",
       "      <td>R</td>\n",
       "      <td>P</td>\n",
       "      <td>0</td>\n",
       "      <td>S</td>\n",
       "    </tr>\n",
       "    <tr>\n",
       "      <th>2</th>\n",
       "      <td>R</td>\n",
       "      <td>R</td>\n",
       "      <td>0</td>\n",
       "      <td>P</td>\n",
       "    </tr>\n",
       "    <tr>\n",
       "      <th>3</th>\n",
       "      <td>P</td>\n",
       "      <td>R</td>\n",
       "      <td>1</td>\n",
       "      <td>P</td>\n",
       "    </tr>\n",
       "    <tr>\n",
       "      <th>4</th>\n",
       "      <td>R</td>\n",
       "      <td>P</td>\n",
       "      <td>0</td>\n",
       "      <td>S</td>\n",
       "    </tr>\n",
       "  </tbody>\n",
       "</table>\n",
       "</div>"
      ],
      "text/plain": [
       "  Player Opponent Result Winning_Play\n",
       "0      S        S      0            R\n",
       "1      R        P      0            S\n",
       "2      R        R      0            P\n",
       "3      P        R      1            P\n",
       "4      R        P      0            S"
      ]
     },
     "execution_count": 2,
     "metadata": {},
     "output_type": "execute_result"
    }
   ],
   "source": [
    "import pandas as pd\n",
    "from os import listdir\n",
    "from os.path import isfile, join\n",
    "\n",
    "path = \"Games/\"\n",
    "all_game_paths = [join(path, f) for f in listdir(path) if isfile(join(path, f))]\n",
    "games_concat = pd.DataFrame(columns = [\"Player\",\"Opponent\",\"Result\",\"Winning_Play\"])\n",
    "games = []\n",
    "for game_path in all_game_paths:\n",
    "    #print(game_path)\n",
    "    game_data = pd.read_csv(game_path, names = [\"Player\",\"Opponent\",\"Result\",\"Winning_Play\"])\n",
    "    games.append(game_data)\n",
    "    games_concat = games_concat.append(game_data)\n",
    "    \n",
    "#print(len(game_data.index)) \n",
    "#game_data.head()  \n",
    "print(len(games_concat.index))\n",
    "games_concat.head()"
   ]
  },
  {
   "cell_type": "markdown",
   "metadata": {},
   "source": [
    "# LSTM Training\n",
    "### Parameters"
   ]
  },
  {
   "cell_type": "code",
   "execution_count": 3,
   "metadata": {},
   "outputs": [],
   "source": [
    "seq_length = 150 #how far back the ltsm looks when training\n",
    "#Model parameters\n",
    "BATCH_SIZE = 64\n",
    "VOCAB_SIZE = 3 # RPS\n",
    "EMBEDDING_DIM = 8\n",
    "RNN_UNITS = 1024\n",
    "\n",
    "TRAINING_EPOCHS = 100\n",
    "\n",
    "#Kris_Mrugesh settings\n",
    "#seq_length = 100 \n",
    "#BATCH_SIZE = 64\n",
    "#VOCAB_SIZE = 3 \n",
    "#EMBEDDING_DIM = 128\n",
    "#RNN_UNITS = 512\n",
    "#TRAINING_EPOCHS = 300\n"
   ]
  },
  {
   "cell_type": "markdown",
   "metadata": {},
   "source": [
    "### Format data for LTSM training"
   ]
  },
  {
   "cell_type": "code",
   "execution_count": 4,
   "metadata": {},
   "outputs": [
    {
     "name": "stdout",
     "output_type": "stream",
     "text": [
      "     Player  Opponent  Winning_Play\n",
      "0         2         2             0\n",
      "1         0         1             2\n",
      "2         0         0             1\n",
      "3         1         0             1\n",
      "4         0         1             2\n",
      "..      ...       ...           ...\n",
      "995       2         1             2\n",
      "996       2         1             2\n",
      "997       1         0             1\n",
      "998       2         1             2\n",
      "999       0         2             0\n",
      "\n",
      "[100000 rows x 3 columns]\n",
      "<TensorSliceDataset shapes: (), types: tf.int64>\n",
      "<BatchDataset shapes: (151,), types: tf.int64>\n",
      "(<tf.Tensor: shape=(150,), dtype=int64, numpy=\n",
      "array([2, 0, 0, 1, 0, 0, 1, 1, 1, 0, 0, 2, 2, 0, 1, 2, 0, 1, 1, 2, 0, 0,\n",
      "       1, 0, 2, 1, 0, 0, 2, 2, 0, 1, 1, 0, 0, 0, 0, 2, 2, 1, 0, 1, 1, 1,\n",
      "       2, 0, 0, 2, 2, 0, 2, 1, 0, 0, 0, 2, 2, 2, 1, 0, 1, 0, 0, 0, 2, 2,\n",
      "       0, 1, 1, 2, 0, 1, 0, 2, 1, 0, 1, 1, 1, 2, 2, 0, 0, 0, 0, 0, 2, 2,\n",
      "       2, 0, 0, 1, 1, 2, 2, 0, 0, 0, 0, 0, 1, 2, 2, 1, 0, 2, 1, 1, 0, 2,\n",
      "       0, 0, 2, 2, 1, 0, 2, 1, 1, 2, 0, 1, 2, 0, 0, 1, 0, 0, 2, 1, 0, 0,\n",
      "       1, 2, 0, 2, 1, 0, 1, 1, 1, 2, 1, 0, 0, 2, 0, 2, 2, 2], dtype=int64)>, <tf.Tensor: shape=(150,), dtype=int64, numpy=\n",
      "array([2, 1, 1, 2, 0, 2, 2, 2, 0, 0, 2, 2, 2, 2, 2, 2, 0, 2, 0, 2, 0, 0,\n",
      "       0, 0, 2, 2, 0, 0, 2, 2, 0, 2, 2, 0, 0, 2, 2, 2, 2, 2, 2, 2, 2, 2,\n",
      "       2, 2, 2, 2, 2, 2, 2, 2, 2, 2, 2, 2, 2, 2, 2, 2, 2, 2, 2, 2, 2, 2,\n",
      "       2, 2, 2, 2, 2, 2, 2, 2, 2, 2, 2, 2, 2, 2, 2, 2, 2, 2, 2, 2, 2, 2,\n",
      "       2, 2, 2, 2, 2, 2, 2, 2, 2, 2, 2, 2, 2, 2, 2, 2, 2, 2, 2, 2, 2, 2,\n",
      "       2, 2, 2, 2, 2, 2, 2, 2, 2, 2, 2, 2, 2, 2, 2, 2, 2, 2, 2, 2, 2, 2,\n",
      "       2, 2, 2, 2, 2, 2, 2, 2, 2, 2, 2, 2, 2, 2, 2, 2, 2, 2], dtype=int64)>)\n"
     ]
    }
   ],
   "source": [
    "temp = games_concat.drop(\"Result\", axis = 1)\n",
    "temp = RPS_encode_dataframe(temp)\n",
    "\n",
    "input_data = tf.data.Dataset.from_tensor_slices(temp[\"Player\"])\n",
    "target_data = tf.data.Dataset.from_tensor_slices(temp[\"Winning_Play\"])\n",
    "print(temp)\n",
    "print(input_data)\n",
    "\n",
    "#split into sequences\n",
    "input_sequences = input_data.batch(seq_length+1, drop_remainder = True)\n",
    "target_sequences = target_data.batch(seq_length+1, drop_remainder = True)\n",
    "print(input_sequences)\n",
    "\n",
    "#remove last element from all input sequences\n",
    "def remove_last(chunk):\n",
    "    return chunk[:-1]\n",
    "inputs = input_sequences.map(remove_last)\n",
    "\n",
    "#remove first element from all target sequences\n",
    "def remove_first(chunk):\n",
    "    return chunk[1:]\n",
    "targets = target_sequences.map(remove_first)\n",
    "\n",
    "dataset = tf.data.Dataset.zip((inputs, targets))\n",
    "for element in dataset:\n",
    "    print(element)\n",
    "    break\n"
   ]
  },
  {
   "cell_type": "markdown",
   "metadata": {},
   "source": [
    "### Build the model"
   ]
  },
  {
   "cell_type": "code",
   "execution_count": 5,
   "metadata": {},
   "outputs": [
    {
     "name": "stdout",
     "output_type": "stream",
     "text": [
      "Model: \"sequential\"\n",
      "_________________________________________________________________\n",
      "Layer (type)                 Output Shape              Param #   \n",
      "=================================================================\n",
      "embedding (Embedding)        (64, None, 8)             24        \n",
      "_________________________________________________________________\n",
      "lstm (LSTM)                  (64, None, 1024)          4231168   \n",
      "_________________________________________________________________\n",
      "dense (Dense)                (64, None, 4)             4100      \n",
      "=================================================================\n",
      "Total params: 4,235,292\n",
      "Trainable params: 4,235,292\n",
      "Non-trainable params: 0\n",
      "_________________________________________________________________\n"
     ]
    }
   ],
   "source": [
    "def build_model(vocab_size, embedding_dim, rnn_units, batch_size):\n",
    "    model = keras.Sequential()\n",
    "    model.add(Embedding(vocab_size, embedding_dim, batch_input_shape = [batch_size, None]))\n",
    "    model.add(LSTM(rnn_units, return_sequences=True, stateful=True, recurrent_initializer='glorot_uniform'))\n",
    "    model.add(Dense(vocab_size+1))\n",
    "    return model\n",
    "\n",
    "model = build_model(VOCAB_SIZE, EMBEDDING_DIM, RNN_UNITS, BATCH_SIZE)\n",
    "model.summary()"
   ]
  },
  {
   "cell_type": "markdown",
   "metadata": {},
   "source": [
    "### Create loss function"
   ]
  },
  {
   "cell_type": "code",
   "execution_count": 6,
   "metadata": {},
   "outputs": [],
   "source": [
    "def loss(labels, logits):\n",
    "    return keras.losses.sparse_categorical_crossentropy(labels, logits, from_logits = True)"
   ]
  },
  {
   "cell_type": "markdown",
   "metadata": {},
   "source": [
    "### Compile the model"
   ]
  },
  {
   "cell_type": "code",
   "execution_count": 7,
   "metadata": {},
   "outputs": [],
   "source": [
    "model.compile(optimizer='adam', loss=loss)"
   ]
  },
  {
   "cell_type": "markdown",
   "metadata": {},
   "source": [
    "### Create Checkpoints\n",
    "configure the model to create checkpoints as it trains so the model can be reloaded and continue training"
   ]
  },
  {
   "cell_type": "code",
   "execution_count": 8,
   "metadata": {},
   "outputs": [
    {
     "name": "stdout",
     "output_type": "stream",
     "text": [
      "2.3.1\n"
     ]
    }
   ],
   "source": [
    "checkpoint_dir = './training_checkpoints'\n",
    "\n",
    "checkpoint_prefix = join(checkpoint_dir, \"ckpt_{epoch}\")\n",
    "\n",
    "checkpoint_callback = keras.callbacks.ModelCheckpoint(filepath = checkpoint_prefix, save_weights_only = True)\n",
    "\n",
    "print(tf.__version__)"
   ]
  },
  {
   "cell_type": "code",
   "execution_count": 9,
   "metadata": {},
   "outputs": [
    {
     "data": {
      "text/plain": [
       "<tensorflow.python.training.tracking.util.CheckpointLoadStatus at 0x25a85120730>"
      ]
     },
     "execution_count": 9,
     "metadata": {},
     "output_type": "execute_result"
    }
   ],
   "source": [
    "#CALL TO LOAD LATEST CHECKPOINT FOR TRAINING\n",
    "checkpoint_dir = './training_checkpoints'\n",
    "model.load_weights(tf.train.latest_checkpoint(checkpoint_dir))"
   ]
  },
  {
   "cell_type": "markdown",
   "metadata": {},
   "source": [
    "### Training the model"
   ]
  },
  {
   "cell_type": "code",
   "execution_count": 10,
   "metadata": {},
   "outputs": [
    {
     "name": "stdout",
     "output_type": "stream",
     "text": [
      "Epoch 1/100\n",
      "10/10 [==============================] - 0s 45ms/step - loss: 0.3255\n",
      "Epoch 2/100\n",
      "10/10 [==============================] - 0s 43ms/step - loss: 0.3197\n",
      "Epoch 3/100\n",
      "10/10 [==============================] - 0s 43ms/step - loss: 0.3213\n",
      "Epoch 4/100\n",
      "10/10 [==============================] - 0s 42ms/step - loss: 0.3197\n",
      "Epoch 5/100\n",
      "10/10 [==============================] - 0s 43ms/step - loss: 0.3189\n",
      "Epoch 6/100\n",
      "10/10 [==============================] - 0s 42ms/step - loss: 0.3028\n",
      "Epoch 7/100\n",
      "10/10 [==============================] - 0s 43ms/step - loss: 0.3082\n",
      "Epoch 8/100\n",
      "10/10 [==============================] - 0s 42ms/step - loss: 0.3155\n",
      "Epoch 9/100\n",
      "10/10 [==============================] - 0s 43ms/step - loss: 0.3071\n",
      "Epoch 10/100\n",
      "10/10 [==============================] - 0s 43ms/step - loss: 0.3031\n",
      "Epoch 11/100\n",
      "10/10 [==============================] - 0s 42ms/step - loss: 0.2933\n",
      "Epoch 12/100\n",
      "10/10 [==============================] - 0s 43ms/step - loss: 0.2763\n",
      "Epoch 13/100\n",
      "10/10 [==============================] - 0s 44ms/step - loss: 0.2834\n",
      "Epoch 14/100\n",
      "10/10 [==============================] - 0s 47ms/step - loss: 0.2771\n",
      "Epoch 15/100\n",
      "10/10 [==============================] - 0s 43ms/step - loss: 0.2830\n",
      "Epoch 16/100\n",
      "10/10 [==============================] - 0s 43ms/step - loss: 0.2756\n",
      "Epoch 17/100\n",
      "10/10 [==============================] - 1s 52ms/step - loss: 0.2590\n",
      "Epoch 18/100\n",
      "10/10 [==============================] - 0s 43ms/step - loss: 0.2612\n",
      "Epoch 19/100\n",
      "10/10 [==============================] - 0s 43ms/step - loss: 0.2488\n",
      "Epoch 20/100\n",
      "10/10 [==============================] - 0s 42ms/step - loss: 0.2486\n",
      "Epoch 21/100\n",
      "10/10 [==============================] - 0s 43ms/step - loss: 0.2515\n",
      "Epoch 22/100\n",
      "10/10 [==============================] - 0s 46ms/step - loss: 0.2408\n",
      "Epoch 23/100\n",
      "10/10 [==============================] - 0s 44ms/step - loss: 0.2354\n",
      "Epoch 24/100\n",
      "10/10 [==============================] - 0s 44ms/step - loss: 0.2286\n",
      "Epoch 25/100\n",
      "10/10 [==============================] - 0s 46ms/step - loss: 0.2274\n",
      "Epoch 26/100\n",
      "10/10 [==============================] - 0s 44ms/step - loss: 0.2122\n",
      "Epoch 27/100\n",
      "10/10 [==============================] - 0s 44ms/step - loss: 0.2097\n",
      "Epoch 28/100\n",
      "10/10 [==============================] - 0s 43ms/step - loss: 0.2069\n",
      "Epoch 29/100\n",
      "10/10 [==============================] - 0s 43ms/step - loss: 0.2103\n",
      "Epoch 30/100\n",
      "10/10 [==============================] - 0s 43ms/step - loss: 0.2002\n",
      "Epoch 31/100\n",
      "10/10 [==============================] - 0s 43ms/step - loss: 0.1840\n",
      "Epoch 32/100\n",
      "10/10 [==============================] - 0s 43ms/step - loss: 0.1745\n",
      "Epoch 33/100\n",
      "10/10 [==============================] - 0s 44ms/step - loss: 0.1809\n",
      "Epoch 34/100\n",
      "10/10 [==============================] - 0s 47ms/step - loss: 0.1715\n",
      "Epoch 35/100\n",
      "10/10 [==============================] - 0s 43ms/step - loss: 0.1804\n",
      "Epoch 36/100\n",
      "10/10 [==============================] - 0s 44ms/step - loss: 0.1877\n",
      "Epoch 37/100\n",
      "10/10 [==============================] - 0s 43ms/step - loss: 0.1787\n",
      "Epoch 38/100\n",
      "10/10 [==============================] - 0s 49ms/step - loss: 0.1744\n",
      "Epoch 39/100\n",
      "10/10 [==============================] - 0s 44ms/step - loss: 0.1676\n",
      "Epoch 40/100\n",
      "10/10 [==============================] - 0s 43ms/step - loss: 0.1488\n",
      "Epoch 41/100\n",
      "10/10 [==============================] - 0s 42ms/step - loss: 0.1428\n",
      "Epoch 42/100\n",
      "10/10 [==============================] - 0s 43ms/step - loss: 0.1380\n",
      "Epoch 43/100\n",
      "10/10 [==============================] - 0s 43ms/step - loss: 0.1403\n",
      "Epoch 44/100\n",
      "10/10 [==============================] - 0s 43ms/step - loss: 0.1302\n",
      "Epoch 45/100\n",
      "10/10 [==============================] - 0s 43ms/step - loss: 0.1309\n",
      "Epoch 46/100\n",
      "10/10 [==============================] - 0s 42ms/step - loss: 0.1271\n",
      "Epoch 47/100\n",
      "10/10 [==============================] - 0s 46ms/step - loss: 0.1208\n",
      "Epoch 48/100\n",
      "10/10 [==============================] - 0s 43ms/step - loss: 0.1206\n",
      "Epoch 49/100\n",
      "10/10 [==============================] - 0s 43ms/step - loss: 0.1197\n",
      "Epoch 50/100\n",
      "10/10 [==============================] - 1s 51ms/step - loss: 0.1132\n",
      "Epoch 51/100\n",
      "10/10 [==============================] - 0s 45ms/step - loss: 0.1163\n",
      "Epoch 52/100\n",
      "10/10 [==============================] - 0s 44ms/step - loss: 0.1110\n",
      "Epoch 53/100\n",
      "10/10 [==============================] - 0s 45ms/step - loss: 0.1113\n",
      "Epoch 54/100\n",
      "10/10 [==============================] - 0s 47ms/step - loss: 0.1088\n",
      "Epoch 55/100\n",
      "10/10 [==============================] - 0s 44ms/step - loss: 0.1148\n",
      "Epoch 56/100\n",
      "10/10 [==============================] - 0s 46ms/step - loss: 0.1186\n",
      "Epoch 57/100\n",
      "10/10 [==============================] - 0s 47ms/step - loss: 0.1108\n",
      "Epoch 58/100\n",
      "10/10 [==============================] - 0s 48ms/step - loss: 0.1170\n",
      "Epoch 59/100\n",
      "10/10 [==============================] - 0s 47ms/step - loss: 0.1147\n",
      "Epoch 60/100\n",
      "10/10 [==============================] - 0s 44ms/step - loss: 0.1137\n",
      "Epoch 61/100\n",
      "10/10 [==============================] - 0s 46ms/step - loss: 0.1129\n",
      "Epoch 62/100\n",
      "10/10 [==============================] - 0s 45ms/step - loss: 0.1092\n",
      "Epoch 63/100\n",
      "10/10 [==============================] - 0s 48ms/step - loss: 0.1092\n",
      "Epoch 64/100\n",
      "10/10 [==============================] - 0s 48ms/step - loss: 0.1072\n",
      "Epoch 65/100\n",
      "10/10 [==============================] - 0s 45ms/step - loss: 0.1076\n",
      "Epoch 66/100\n",
      "10/10 [==============================] - 0s 44ms/step - loss: 0.1086\n",
      "Epoch 67/100\n",
      "10/10 [==============================] - 0s 44ms/step - loss: 0.1115\n",
      "Epoch 68/100\n",
      "10/10 [==============================] - 0s 44ms/step - loss: 0.1043\n",
      "Epoch 69/100\n",
      "10/10 [==============================] - 0s 47ms/step - loss: 0.1019\n",
      "Epoch 70/100\n",
      "10/10 [==============================] - 0s 48ms/step - loss: 0.0972\n",
      "Epoch 71/100\n",
      "10/10 [==============================] - 0s 47ms/step - loss: 0.0966\n",
      "Epoch 72/100\n",
      "10/10 [==============================] - 0s 46ms/step - loss: 0.1417\n",
      "Epoch 73/100\n",
      "10/10 [==============================] - 0s 44ms/step - loss: 0.1335\n",
      "Epoch 74/100\n",
      "10/10 [==============================] - 0s 46ms/step - loss: 0.1226\n",
      "Epoch 75/100\n",
      "10/10 [==============================] - 0s 47ms/step - loss: 0.1097\n",
      "Epoch 76/100\n",
      "10/10 [==============================] - 0s 48ms/step - loss: 0.1007\n",
      "Epoch 77/100\n",
      "10/10 [==============================] - 0s 48ms/step - loss: 0.0981\n",
      "Epoch 78/100\n",
      "10/10 [==============================] - 0s 48ms/step - loss: 0.0939\n",
      "Epoch 79/100\n",
      "10/10 [==============================] - 0s 45ms/step - loss: 0.0900\n",
      "Epoch 80/100\n",
      "10/10 [==============================] - 0s 45ms/step - loss: 0.0904\n",
      "Epoch 81/100\n",
      "10/10 [==============================] - 0s 47ms/step - loss: 0.0876\n",
      "Epoch 82/100\n",
      "10/10 [==============================] - 0s 46ms/step - loss: 0.0897\n",
      "Epoch 83/100\n",
      "10/10 [==============================] - 0s 47ms/step - loss: 0.0875\n",
      "Epoch 84/100\n",
      "10/10 [==============================] - 0s 48ms/step - loss: 0.0875\n",
      "Epoch 85/100\n",
      "10/10 [==============================] - 0s 50ms/step - loss: 0.0912\n",
      "Epoch 86/100\n",
      "10/10 [==============================] - 0s 47ms/step - loss: 0.0915\n",
      "Epoch 87/100\n",
      "10/10 [==============================] - 0s 45ms/step - loss: 0.0876\n",
      "Epoch 88/100\n",
      "10/10 [==============================] - 0s 44ms/step - loss: 0.0885\n",
      "Epoch 89/100\n",
      "10/10 [==============================] - 0s 46ms/step - loss: 0.0899\n",
      "Epoch 90/100\n",
      "10/10 [==============================] - 0s 46ms/step - loss: 0.0896\n",
      "Epoch 91/100\n",
      "10/10 [==============================] - 0s 47ms/step - loss: 0.0872\n",
      "Epoch 92/100\n",
      "10/10 [==============================] - 0s 49ms/step - loss: 0.0832\n",
      "Epoch 93/100\n",
      "10/10 [==============================] - 0s 48ms/step - loss: 0.0824\n",
      "Epoch 94/100\n",
      "10/10 [==============================] - 0s 46ms/step - loss: 0.0832\n",
      "Epoch 95/100\n",
      "10/10 [==============================] - 0s 49ms/step - loss: 0.0862\n",
      "Epoch 96/100\n",
      "10/10 [==============================] - 0s 46ms/step - loss: 0.0902\n",
      "Epoch 97/100\n",
      "10/10 [==============================] - 0s 46ms/step - loss: 0.0885\n",
      "Epoch 98/100\n",
      "10/10 [==============================] - 0s 48ms/step - loss: 0.0893\n",
      "Epoch 99/100\n",
      "10/10 [==============================] - 0s 47ms/step - loss: 0.0900\n",
      "Epoch 100/100\n",
      "10/10 [==============================] - 0s 48ms/step - loss: 0.0849\n"
     ]
    }
   ],
   "source": [
    "#Shuffle sequences before batching\n",
    "data = dataset.shuffle(10000).batch(BATCH_SIZE, drop_remainder = True)\n",
    "history = model.fit(data, epochs = TRAINING_EPOCHS, callbacks = [checkpoint_callback])"
   ]
  },
  {
   "cell_type": "markdown",
   "metadata": {},
   "source": [
    "### Rebuild model for predicting one output rather than a vector"
   ]
  },
  {
   "cell_type": "code",
   "execution_count": 11,
   "metadata": {},
   "outputs": [],
   "source": [
    "#change config\n",
    "model = build_model(VOCAB_SIZE, EMBEDDING_DIM, RNN_UNITS, batch_size = 1)\n",
    "#load trained weights from checkpoint\n",
    "model.load_weights(tf.train.latest_checkpoint(checkpoint_dir))\n",
    "model.build(tf.TensorShape([1, None]))"
   ]
  },
  {
   "cell_type": "markdown",
   "metadata": {},
   "source": [
    "## Generate Outputs from Model"
   ]
  },
  {
   "cell_type": "code",
   "execution_count": 14,
   "metadata": {},
   "outputs": [],
   "source": [
    "def Get_Prediction(model, opponent_history):\n",
    "    #format history for input\n",
    "    input_eval = [0 if c == '' else RPS_encode(c) for c in opponent_history]\n",
    "    input_eval = tf.expand_dims(input_eval, 0)\n",
    "    \n",
    "    #high temperature  => suprising output\n",
    "    #low temperature => predictable output\n",
    "    temperature = 0.1; \n",
    "    \n",
    "    model.reset_states()\n",
    "    \n",
    "    prediction = model(input_eval)\n",
    "    prediction = tf.squeeze(prediction, 0)\n",
    "    \n",
    "    prediction = prediction / temperature\n",
    "    predicted_id = tf.random.categorical(prediction, num_samples = 1)[-1,0].numpy()\n",
    "    #print(predicted_id)\n",
    "    #print(prediction)\n",
    "    #if predicted_id>=3:\n",
    "    #    predicted_id = random.randint(0, 2)\n",
    "    return RPS_decode(predicted_id)\n",
    "\n",
    "#print(Get_Prediction(model, ['R','R','P']))"
   ]
  },
  {
   "cell_type": "markdown",
   "metadata": {},
   "source": [
    "# RPS.py\n",
    "Player function"
   ]
  },
  {
   "cell_type": "code",
   "execution_count": 15,
   "metadata": {},
   "outputs": [],
   "source": [
    "plays = 1000\n",
    "\n",
    "def player(prev_play, opponent_history = [], play_history=['']):\n",
    "    if len(play_history) >= plays: \n",
    "        play_history.clear()\n",
    "        play_history.append('')\n",
    "        print(play_history)\n",
    "    guess = Get_Prediction(model, play_history)\n",
    "    play_history.append(guess)\n",
    "    return guess"
   ]
  },
  {
   "cell_type": "markdown",
   "metadata": {},
   "source": [
    "# MAIN.PY"
   ]
  },
  {
   "cell_type": "code",
   "execution_count": 16,
   "metadata": {},
   "outputs": [
    {
     "name": "stdout",
     "output_type": "stream",
     "text": [
      "['']\n",
      "Final results: {'p1': 2, 'p2': 996, 'tie': 2}\n",
      "Player 1 win rate: 0.2004008016032064%\n",
      "['']\n",
      "Final results: {'p1': 331, 'p2': 336, 'tie': 333}\n",
      "Player 1 win rate: 49.62518740629685%\n",
      "['']\n",
      "Final results: {'p1': 551, 'p2': 116, 'tie': 333}\n",
      "Player 1 win rate: 82.6086956521739%\n",
      "['']\n",
      "Final results: {'p1': 441, 'p2': 227, 'tie': 332}\n",
      "Player 1 win rate: 66.01796407185628%\n",
      "['']\n",
      "Final results: {'p1': 3, 'p2': 994, 'tie': 3}\n",
      "Player 1 win rate: 0.3009027081243731%\n",
      "['']\n",
      "Final results: {'p1': 331, 'p2': 337, 'tie': 332}\n",
      "Player 1 win rate: 49.550898203592816%\n"
     ]
    },
    {
     "data": {
      "text/plain": [
       "49.550898203592816"
      ]
     },
     "execution_count": 16,
     "metadata": {},
     "output_type": "execute_result"
    }
   ],
   "source": [
    "play(player, abbey, plays)\n",
    "play(player, abbey, plays)\n",
    "play(player, abbey, plays)\n",
    "play(player, abbey, plays)\n",
    "play(player, abbey, plays)\n",
    "play(player, abbey, plays)"
   ]
  },
  {
   "cell_type": "markdown",
   "metadata": {},
   "source": [
    "## Saving the model"
   ]
  },
  {
   "cell_type": "code",
   "execution_count": 10,
   "metadata": {},
   "outputs": [
    {
     "name": "stdout",
     "output_type": "stream",
     "text": [
      "WARNING:tensorflow:From C:\\Users\\Owner\\AppData\\Local\\Programs\\Python\\Python38\\lib\\site-packages\\tensorflow\\python\\training\\tracking\\tracking.py:111: Model.state_updates (from tensorflow.python.keras.engine.training) is deprecated and will be removed in a future version.\n",
      "Instructions for updating:\n",
      "This property should not be used in TensorFlow 2.0, as updates are applied automatically.\n",
      "WARNING:tensorflow:From C:\\Users\\Owner\\AppData\\Local\\Programs\\Python\\Python38\\lib\\site-packages\\tensorflow\\python\\keras\\engine\\training.py:2309: Layer.updates (from tensorflow.python.keras.engine.base_layer) is deprecated and will be removed in a future version.\n",
      "Instructions for updating:\n",
      "This property should not be used in TensorFlow 2.0, as updates are applied automatically.\n",
      "INFO:tensorflow:Assets written to: Models/LSTM_ImbalancedTraining_PlayerHistoryBased_Abbey\\assets\n"
     ]
    }
   ],
   "source": [
    "model.save('Models/LSTM_ImbalancedTraining_PlayerHistoryBased_Abbey')"
   ]
  },
  {
   "cell_type": "code",
   "execution_count": null,
   "metadata": {},
   "outputs": [],
   "source": []
  }
 ],
 "metadata": {
  "kernelspec": {
   "display_name": "Python 3.8.1 64-bit",
   "language": "python",
   "name": "python38164bitf7bfa84029d94e559180d01a2a463659"
  },
  "language_info": {
   "codemirror_mode": {
    "name": "ipython",
    "version": 3
   },
   "file_extension": ".py",
   "mimetype": "text/x-python",
   "name": "python",
   "nbconvert_exporter": "python",
   "pygments_lexer": "ipython3",
   "version": "3.8.6"
  }
 },
 "nbformat": 4,
 "nbformat_minor": 4
}
