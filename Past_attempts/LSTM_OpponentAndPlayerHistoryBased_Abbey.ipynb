{
 "cells": [
  {
   "cell_type": "markdown",
   "metadata": {},
   "source": [
    "# LSTM Model\n"
   ]
  },
  {
   "cell_type": "markdown",
   "metadata": {},
   "source": [
    "## Import Data\n",
    "### Players from RPS_game.py"
   ]
  },
  {
   "cell_type": "code",
   "execution_count": 1,
   "metadata": {},
   "outputs": [],
   "source": [
    "from Lib.RPS_game import play, mrugesh, abbey, quincy, kris, human, random_player\n",
    "from Lib.RPS_encoding import RPSpair_encode, RPSpair_decode, RPSpair_encode_series\n",
    "from Lib.Telepathic_player import telepath\n",
    "import tensorflow as tf\n",
    "import tensorflow.keras as keras\n",
    "from tensorflow.keras.layers import Dense, LSTM, Embedding\n",
    "import pandas as pd\n",
    "from os import listdir\n",
    "from os.path import isfile, join"
   ]
  },
  {
   "cell_type": "markdown",
   "metadata": {},
   "source": [
    "## Read and Concatenate Games\n",
    "Take all games and load into dataframe"
   ]
  },
  {
   "cell_type": "markdown",
   "metadata": {},
   "source": []
  },
  {
   "cell_type": "code",
   "execution_count": 2,
   "metadata": {},
   "outputs": [
    {
     "name": "stdout",
     "output_type": "stream",
     "text": [
      "50000\n"
     ]
    },
    {
     "data": {
      "text/html": [
       "<div>\n",
       "<style scoped>\n",
       "    .dataframe tbody tr th:only-of-type {\n",
       "        vertical-align: middle;\n",
       "    }\n",
       "\n",
       "    .dataframe tbody tr th {\n",
       "        vertical-align: top;\n",
       "    }\n",
       "\n",
       "    .dataframe thead th {\n",
       "        text-align: right;\n",
       "    }\n",
       "</style>\n",
       "<table border=\"1\" class=\"dataframe\">\n",
       "  <thead>\n",
       "    <tr style=\"text-align: right;\">\n",
       "      <th></th>\n",
       "      <th>Player</th>\n",
       "      <th>Opponent</th>\n",
       "      <th>Result</th>\n",
       "      <th>Winning_Play</th>\n",
       "    </tr>\n",
       "  </thead>\n",
       "  <tbody>\n",
       "    <tr>\n",
       "      <th>0</th>\n",
       "      <td>P</td>\n",
       "      <td>R</td>\n",
       "      <td>1</td>\n",
       "      <td>P</td>\n",
       "    </tr>\n",
       "    <tr>\n",
       "      <th>1</th>\n",
       "      <td>S</td>\n",
       "      <td>P</td>\n",
       "      <td>1</td>\n",
       "      <td>S</td>\n",
       "    </tr>\n",
       "    <tr>\n",
       "      <th>2</th>\n",
       "      <td>R</td>\n",
       "      <td>P</td>\n",
       "      <td>0</td>\n",
       "      <td>S</td>\n",
       "    </tr>\n",
       "    <tr>\n",
       "      <th>3</th>\n",
       "      <td>S</td>\n",
       "      <td>S</td>\n",
       "      <td>0</td>\n",
       "      <td>R</td>\n",
       "    </tr>\n",
       "    <tr>\n",
       "      <th>4</th>\n",
       "      <td>R</td>\n",
       "      <td>P</td>\n",
       "      <td>0</td>\n",
       "      <td>S</td>\n",
       "    </tr>\n",
       "  </tbody>\n",
       "</table>\n",
       "</div>"
      ],
      "text/plain": [
       "  Player Opponent Result Winning_Play\n",
       "0      P        R      1            P\n",
       "1      S        P      1            S\n",
       "2      R        P      0            S\n",
       "3      S        S      0            R\n",
       "4      R        P      0            S"
      ]
     },
     "execution_count": 2,
     "metadata": {},
     "output_type": "execute_result"
    }
   ],
   "source": [
    "import pandas as pd\n",
    "from os import listdir\n",
    "from os.path import isfile, join\n",
    "\n",
    "path = \"Games/\"\n",
    "all_game_paths = [join(path, f) for f in listdir(path) if isfile(join(path, f))]\n",
    "games_concat = pd.DataFrame(columns = [\"Player\",\"Opponent\",\"Result\",\"Winning_Play\"])\n",
    "games = []\n",
    "for game_path in all_game_paths:\n",
    "    #print(game_path)\n",
    "    game_data = pd.read_csv(game_path, names = [\"Player\",\"Opponent\",\"Result\",\"Winning_Play\"])\n",
    "    games.append(game_data)\n",
    "    games_concat = games_concat.append(game_data)\n",
    "    \n",
    "#print(len(game_data.index)) \n",
    "#game_data.head()  \n",
    "print(len(games_concat.index))\n",
    "games_concat.head()"
   ]
  },
  {
   "cell_type": "markdown",
   "metadata": {},
   "source": [
    "# LSTM Training\n",
    "### Parameters"
   ]
  },
  {
   "cell_type": "code",
   "execution_count": 4,
   "metadata": {},
   "outputs": [],
   "source": [
    "seq_length = 100 #how far back the ltsm looks when training\n",
    "#Model parameters\n",
    "BATCH_SIZE = 64\n",
    "VOCAB_SIZE = 9 # RPS pairs\n",
    "EMBEDDING_DIM = 64\n",
    "RNN_UNITS = 512\n",
    "\n",
    "TRAINING_EPOCHS = 100\n",
    "\n",
    "#Kris_Mrugesh settings\n",
    "#seq_length = 100 \n",
    "#BATCH_SIZE = 64\n",
    "#VOCAB_SIZE = 3 \n",
    "#EMBEDDING_DIM = 128\n",
    "#RNN_UNITS = 512\n",
    "#TRAINING_EPOCHS = 300\n"
   ]
  },
  {
   "cell_type": "markdown",
   "metadata": {},
   "source": [
    "### Format data for LTSM training"
   ]
  },
  {
   "cell_type": "code",
   "execution_count": 5,
   "metadata": {},
   "outputs": [
    {
     "name": "stdout",
     "output_type": "stream",
     "text": [
      "0        PR\n",
      "1        SP\n",
      "2        RP\n",
      "3        SS\n",
      "4        RP\n",
      "         ..\n",
      "49995    SP\n",
      "49996    PR\n",
      "49997    SP\n",
      "49998    RS\n",
      "49999    PR\n",
      "Length: 50000, dtype: object\n",
      "0        PR\n",
      "1        SP\n",
      "2        SP\n",
      "3        RS\n",
      "4        SP\n",
      "         ..\n",
      "49995    SP\n",
      "49996    PR\n",
      "49997    SP\n",
      "49998    RS\n",
      "49999    PR\n",
      "Length: 50000, dtype: object\n",
      "0        3\n",
      "1        7\n",
      "2        1\n",
      "3        8\n",
      "4        1\n",
      "        ..\n",
      "49995    7\n",
      "49996    3\n",
      "49997    7\n",
      "49998    2\n",
      "49999    3\n",
      "Length: 50000, dtype: int64\n",
      "0        3\n",
      "1        7\n",
      "2        7\n",
      "3        2\n",
      "4        7\n",
      "        ..\n",
      "49995    7\n",
      "49996    3\n",
      "49997    7\n",
      "49998    2\n",
      "49999    3\n",
      "Length: 50000, dtype: int64\n"
     ]
    }
   ],
   "source": [
    "#Predict the target combination that will occur next from prev combinations\n",
    "#RR = 0\n",
    "#RP = 1\n",
    "#RS = 2\n",
    "#PR = 3\n",
    "#PP = 4\n",
    "#PS = 5\n",
    "#SR = 6\n",
    "#SP = 7\n",
    "#SS = 8\n",
    "\n",
    "\n",
    "\n",
    "\n",
    "temp = games_concat.drop(\"Result\", axis = 1)\n",
    "temp.index = [x for x in range(temp.index.size)]\n",
    "tempInput = pd.Series([temp.loc[x,\"Player\"] + temp.loc[x,\"Opponent\"] for x in range(temp['Player'].size)])\n",
    "tempTarget = pd.Series([temp.loc[x,\"Winning_Play\"] + temp.loc[x,\"Opponent\"] for x in range(temp['Player'].size)])\n",
    "print(tempInput)\n",
    "print(tempTarget)\n",
    "tempInput = RPSpair_encode_series(tempInput)\n",
    "tempTarget = RPSpair_encode_series(tempTarget)\n",
    "print(tempInput)\n",
    "print(tempTarget)"
   ]
  },
  {
   "cell_type": "code",
   "execution_count": 6,
   "metadata": {},
   "outputs": [
    {
     "name": "stdout",
     "output_type": "stream",
     "text": [
      "<BatchDataset shapes: (101,), types: tf.int64>\n",
      "(<tf.Tensor: shape=(100,), dtype=int64, numpy=\n",
      "array([3, 7, 1, 8, 1, 0, 3, 0, 5, 4, 7, 7, 7, 7, 6, 0, 5, 3, 2, 2, 8, 0,\n",
      "       5, 1, 8, 1, 2, 2, 2, 4, 7, 1, 8, 1, 8, 1, 8, 7, 7, 7, 1, 3, 4, 1,\n",
      "       2, 2, 1, 4, 1, 7, 1, 7, 1, 6, 7, 7, 4, 7, 7, 7, 7, 6, 3, 4, 1, 3,\n",
      "       4, 7, 6, 3, 4, 7, 6, 3, 1, 3, 4, 7, 6, 3, 1, 5, 1, 5, 1, 2, 2, 2,\n",
      "       2, 4, 1, 8, 6, 0, 5, 4, 7, 6, 0, 5], dtype=int64)>, <tf.Tensor: shape=(100,), dtype=int64, numpy=\n",
      "array([7, 7, 2, 7, 3, 3, 3, 2, 7, 7, 7, 7, 7, 3, 3, 2, 3, 2, 2, 2, 3, 2,\n",
      "       7, 2, 7, 2, 2, 2, 7, 7, 7, 2, 7, 2, 7, 2, 7, 7, 7, 7, 3, 7, 7, 2,\n",
      "       2, 7, 7, 7, 7, 7, 7, 7, 3, 7, 7, 7, 7, 7, 7, 7, 3, 3, 7, 7, 3, 7,\n",
      "       7, 3, 3, 7, 7, 3, 3, 7, 3, 7, 7, 3, 3, 7, 2, 7, 2, 7, 2, 2, 2, 2,\n",
      "       7, 7, 2, 3, 3, 2, 7, 7, 3, 3, 2, 7], dtype=int64)>)\n"
     ]
    }
   ],
   "source": [
    "input_data = tf.data.Dataset.from_tensor_slices(tempInput)\n",
    "target_data = tf.data.Dataset.from_tensor_slices(tempTarget)\n",
    "\n",
    "#split into sequences\n",
    "input_sequences = input_data.batch(seq_length+1, drop_remainder = True)\n",
    "target_sequences = target_data.batch(seq_length+1, drop_remainder = True)\n",
    "print(input_sequences)\n",
    "\n",
    "#remove last element from all input sequences\n",
    "def remove_last(chunk):\n",
    "    return chunk[:-1]\n",
    "inputs = input_sequences.map(remove_last)\n",
    "\n",
    "#remove first element from all target sequences\n",
    "def remove_first(chunk):\n",
    "    return chunk[1:]\n",
    "targets = target_sequences.map(remove_first)\n",
    "\n",
    "dataset = tf.data.Dataset.zip((inputs, targets))\n",
    "for element in dataset:\n",
    "    print(element)\n",
    "    break\n"
   ]
  },
  {
   "cell_type": "markdown",
   "metadata": {},
   "source": [
    "### Build the model"
   ]
  },
  {
   "cell_type": "code",
   "execution_count": 7,
   "metadata": {},
   "outputs": [
    {
     "name": "stdout",
     "output_type": "stream",
     "text": [
      "Model: \"sequential\"\n",
      "_________________________________________________________________\n",
      "Layer (type)                 Output Shape              Param #   \n",
      "=================================================================\n",
      "embedding (Embedding)        (64, None, 64)            576       \n",
      "_________________________________________________________________\n",
      "lstm (LSTM)                  (64, None, 512)           1181696   \n",
      "_________________________________________________________________\n",
      "dense (Dense)                (64, None, 10)            5130      \n",
      "=================================================================\n",
      "Total params: 1,187,402\n",
      "Trainable params: 1,187,402\n",
      "Non-trainable params: 0\n",
      "_________________________________________________________________\n"
     ]
    }
   ],
   "source": [
    "def build_model(vocab_size, embedding_dim, rnn_units, batch_size):\n",
    "    model = keras.Sequential()\n",
    "    model.add(Embedding(vocab_size, embedding_dim, batch_input_shape = [batch_size, None]))\n",
    "    model.add(LSTM(rnn_units, return_sequences=True, stateful=True, recurrent_initializer='glorot_uniform'))\n",
    "    model.add(Dense(vocab_size+1))\n",
    "    return model\n",
    "\n",
    "model = build_model(VOCAB_SIZE, EMBEDDING_DIM, RNN_UNITS, BATCH_SIZE)\n",
    "model.summary()"
   ]
  },
  {
   "cell_type": "markdown",
   "metadata": {},
   "source": [
    "### Create loss function"
   ]
  },
  {
   "cell_type": "code",
   "execution_count": 8,
   "metadata": {},
   "outputs": [],
   "source": [
    "def loss(labels, logits):\n",
    "    return keras.losses.sparse_categorical_crossentropy(labels, logits, from_logits = True)"
   ]
  },
  {
   "cell_type": "markdown",
   "metadata": {},
   "source": [
    "### Compile the model"
   ]
  },
  {
   "cell_type": "code",
   "execution_count": 9,
   "metadata": {},
   "outputs": [],
   "source": [
    "model.compile(optimizer='adam', loss=loss)"
   ]
  },
  {
   "cell_type": "markdown",
   "metadata": {},
   "source": [
    "### Create Checkpoints\n",
    "configure the model to create checkpoints as it trains so the model can be reloaded and continue training"
   ]
  },
  {
   "cell_type": "code",
   "execution_count": 10,
   "metadata": {},
   "outputs": [
    {
     "name": "stdout",
     "output_type": "stream",
     "text": [
      "2.3.1\n"
     ]
    }
   ],
   "source": [
    "checkpoint_dir = './training_checkpoints'\n",
    "\n",
    "checkpoint_prefix = join(checkpoint_dir, \"ckpt_{epoch}\")\n",
    "\n",
    "checkpoint_callback = keras.callbacks.ModelCheckpoint(filepath = checkpoint_prefix, save_weights_only = True)\n",
    "\n",
    "print(tf.__version__)"
   ]
  },
  {
   "cell_type": "code",
   "execution_count": 11,
   "metadata": {},
   "outputs": [
    {
     "data": {
      "text/plain": [
       "<tensorflow.python.training.tracking.util.CheckpointLoadStatus at 0x2173f919f40>"
      ]
     },
     "execution_count": 11,
     "metadata": {},
     "output_type": "execute_result"
    }
   ],
   "source": [
    "#CALL TO LOAD LATEST CHECKPOINT FOR TRAINING\n",
    "checkpoint_dir = './training_checkpoints'\n",
    "model.load_weights(tf.train.latest_checkpoint(checkpoint_dir))"
   ]
  },
  {
   "cell_type": "markdown",
   "metadata": {},
   "source": [
    "### Training the model"
   ]
  },
  {
   "cell_type": "code",
   "execution_count": 12,
   "metadata": {},
   "outputs": [
    {
     "name": "stdout",
     "output_type": "stream",
     "text": [
      "Epoch 1/100\n",
      "7/7 [==============================] - 0s 19ms/step - loss: 0.4411\n",
      "Epoch 2/100\n",
      "7/7 [==============================] - 0s 19ms/step - loss: 0.1763\n",
      "Epoch 3/100\n",
      "7/7 [==============================] - 0s 19ms/step - loss: 0.1509\n",
      "Epoch 4/100\n",
      "7/7 [==============================] - 0s 19ms/step - loss: 0.1374\n",
      "Epoch 5/100\n",
      "7/7 [==============================] - 0s 19ms/step - loss: 0.1263\n",
      "Epoch 6/100\n",
      "7/7 [==============================] - 0s 19ms/step - loss: 0.1234\n",
      "Epoch 7/100\n",
      "7/7 [==============================] - 0s 19ms/step - loss: 0.1145\n",
      "Epoch 8/100\n",
      "7/7 [==============================] - 0s 19ms/step - loss: 0.1135\n",
      "Epoch 9/100\n",
      "7/7 [==============================] - 0s 19ms/step - loss: 0.1090\n",
      "Epoch 10/100\n",
      "7/7 [==============================] - 0s 19ms/step - loss: 0.1068\n",
      "Epoch 11/100\n",
      "7/7 [==============================] - 0s 21ms/step - loss: 0.1045\n",
      "Epoch 12/100\n",
      "7/7 [==============================] - 0s 20ms/step - loss: 0.1041\n",
      "Epoch 13/100\n",
      "7/7 [==============================] - 0s 17ms/step - loss: 0.1006\n",
      "Epoch 14/100\n",
      "7/7 [==============================] - 0s 18ms/step - loss: 0.0993\n",
      "Epoch 15/100\n",
      "7/7 [==============================] - 0s 18ms/step - loss: 0.0964\n",
      "Epoch 16/100\n",
      "7/7 [==============================] - 0s 17ms/step - loss: 0.0921\n",
      "Epoch 17/100\n",
      "7/7 [==============================] - 0s 17ms/step - loss: 0.0913\n",
      "Epoch 18/100\n",
      "7/7 [==============================] - 0s 17ms/step - loss: 0.0895\n",
      "Epoch 19/100\n",
      "7/7 [==============================] - 0s 17ms/step - loss: 0.0892\n",
      "Epoch 20/100\n",
      "7/7 [==============================] - 0s 17ms/step - loss: 0.0880\n",
      "Epoch 21/100\n",
      "7/7 [==============================] - 0s 18ms/step - loss: 0.0893\n",
      "Epoch 22/100\n",
      "7/7 [==============================] - 0s 19ms/step - loss: 0.0865\n",
      "Epoch 23/100\n",
      "7/7 [==============================] - 0s 18ms/step - loss: 0.0862\n",
      "Epoch 24/100\n",
      "7/7 [==============================] - 0s 21ms/step - loss: 0.0825\n",
      "Epoch 25/100\n",
      "7/7 [==============================] - 0s 17ms/step - loss: 0.0843\n",
      "Epoch 26/100\n",
      "7/7 [==============================] - 0s 19ms/step - loss: 0.0840\n",
      "Epoch 27/100\n",
      "7/7 [==============================] - 0s 19ms/step - loss: 0.0800\n",
      "Epoch 28/100\n",
      "7/7 [==============================] - 0s 17ms/step - loss: 0.0804\n",
      "Epoch 29/100\n",
      "7/7 [==============================] - 0s 19ms/step - loss: 0.0792\n",
      "Epoch 30/100\n",
      "7/7 [==============================] - 0s 29ms/step - loss: 0.0812\n",
      "Epoch 31/100\n",
      "7/7 [==============================] - 0s 17ms/step - loss: 0.0828\n",
      "Epoch 32/100\n",
      "7/7 [==============================] - 0s 17ms/step - loss: 0.0800\n",
      "Epoch 33/100\n",
      "7/7 [==============================] - 0s 18ms/step - loss: 0.0795\n",
      "Epoch 34/100\n",
      "7/7 [==============================] - 0s 18ms/step - loss: 0.0781\n",
      "Epoch 35/100\n",
      "7/7 [==============================] - 0s 18ms/step - loss: 0.0742\n",
      "Epoch 36/100\n",
      "7/7 [==============================] - 0s 18ms/step - loss: 0.0735\n",
      "Epoch 37/100\n",
      "7/7 [==============================] - 0s 19ms/step - loss: 0.0738\n",
      "Epoch 38/100\n",
      "7/7 [==============================] - 0s 19ms/step - loss: 0.0773\n",
      "Epoch 39/100\n",
      "7/7 [==============================] - 0s 20ms/step - loss: 0.0748\n",
      "Epoch 40/100\n",
      "7/7 [==============================] - 0s 21ms/step - loss: 0.0723\n",
      "Epoch 41/100\n",
      "7/7 [==============================] - 0s 19ms/step - loss: 0.0727\n",
      "Epoch 42/100\n",
      "7/7 [==============================] - 0s 19ms/step - loss: 0.0700\n",
      "Epoch 43/100\n",
      "7/7 [==============================] - 0s 19ms/step - loss: 0.0755\n",
      "Epoch 44/100\n",
      "7/7 [==============================] - 0s 19ms/step - loss: 0.0749\n",
      "Epoch 45/100\n",
      "7/7 [==============================] - 0s 19ms/step - loss: 0.0715\n",
      "Epoch 46/100\n",
      "7/7 [==============================] - 0s 19ms/step - loss: 0.0721\n",
      "Epoch 47/100\n",
      "7/7 [==============================] - 0s 19ms/step - loss: 0.0731\n",
      "Epoch 48/100\n",
      "7/7 [==============================] - 0s 19ms/step - loss: 0.0687\n",
      "Epoch 49/100\n",
      "7/7 [==============================] - 0s 19ms/step - loss: 0.0717\n",
      "Epoch 50/100\n",
      "7/7 [==============================] - 0s 19ms/step - loss: 0.0672\n",
      "Epoch 51/100\n",
      "7/7 [==============================] - 0s 19ms/step - loss: 0.0670\n",
      "Epoch 52/100\n",
      "7/7 [==============================] - 0s 19ms/step - loss: 0.0679\n",
      "Epoch 53/100\n",
      "7/7 [==============================] - 0s 19ms/step - loss: 0.0702\n",
      "Epoch 54/100\n",
      "7/7 [==============================] - 0s 19ms/step - loss: 0.0664\n",
      "Epoch 55/100\n",
      "7/7 [==============================] - 0s 19ms/step - loss: 0.0645\n",
      "Epoch 56/100\n",
      "7/7 [==============================] - 0s 19ms/step - loss: 0.0632\n",
      "Epoch 57/100\n",
      "7/7 [==============================] - 0s 19ms/step - loss: 0.0638\n",
      "Epoch 58/100\n",
      "7/7 [==============================] - 0s 19ms/step - loss: 0.0656\n",
      "Epoch 59/100\n",
      "7/7 [==============================] - 0s 20ms/step - loss: 0.0642\n",
      "Epoch 60/100\n",
      "7/7 [==============================] - 0s 19ms/step - loss: 0.0643\n",
      "Epoch 61/100\n",
      "7/7 [==============================] - 0s 19ms/step - loss: 0.0629\n",
      "Epoch 62/100\n",
      "7/7 [==============================] - 0s 19ms/step - loss: 0.0642\n",
      "Epoch 63/100\n",
      "7/7 [==============================] - 0s 19ms/step - loss: 0.0617\n",
      "Epoch 64/100\n",
      "7/7 [==============================] - 0s 19ms/step - loss: 0.0633\n",
      "Epoch 65/100\n",
      "7/7 [==============================] - 0s 19ms/step - loss: 0.0615\n",
      "Epoch 66/100\n",
      "7/7 [==============================] - 0s 19ms/step - loss: 0.0614\n",
      "Epoch 67/100\n",
      "7/7 [==============================] - 0s 19ms/step - loss: 0.0624\n",
      "Epoch 68/100\n",
      "7/7 [==============================] - 0s 19ms/step - loss: 0.0614\n",
      "Epoch 69/100\n",
      "7/7 [==============================] - 0s 19ms/step - loss: 0.0616\n",
      "Epoch 70/100\n",
      "7/7 [==============================] - 0s 19ms/step - loss: 0.0619\n",
      "Epoch 71/100\n",
      "7/7 [==============================] - 0s 19ms/step - loss: 0.0602\n",
      "Epoch 72/100\n",
      "7/7 [==============================] - 0s 19ms/step - loss: 0.0626\n",
      "Epoch 73/100\n",
      "7/7 [==============================] - 0s 19ms/step - loss: 0.0590\n",
      "Epoch 74/100\n",
      "7/7 [==============================] - 0s 19ms/step - loss: 0.0594\n",
      "Epoch 75/100\n",
      "7/7 [==============================] - 0s 19ms/step - loss: 0.0601\n",
      "Epoch 76/100\n",
      "7/7 [==============================] - 0s 19ms/step - loss: 0.0608\n",
      "Epoch 77/100\n",
      "7/7 [==============================] - 0s 19ms/step - loss: 0.0586\n",
      "Epoch 78/100\n",
      "7/7 [==============================] - 0s 19ms/step - loss: 0.0575\n",
      "Epoch 79/100\n",
      "7/7 [==============================] - 0s 19ms/step - loss: 0.0574\n",
      "Epoch 80/100\n",
      "7/7 [==============================] - 0s 19ms/step - loss: 0.0602\n",
      "Epoch 81/100\n",
      "7/7 [==============================] - 0s 19ms/step - loss: 0.0587\n",
      "Epoch 82/100\n",
      "7/7 [==============================] - 0s 19ms/step - loss: 0.0604\n",
      "Epoch 83/100\n",
      "7/7 [==============================] - 0s 19ms/step - loss: 0.0580\n",
      "Epoch 84/100\n",
      "7/7 [==============================] - 0s 19ms/step - loss: 0.0572\n",
      "Epoch 85/100\n",
      "7/7 [==============================] - 0s 19ms/step - loss: 0.0565\n",
      "Epoch 86/100\n",
      "7/7 [==============================] - 0s 19ms/step - loss: 0.0586\n",
      "Epoch 87/100\n",
      "7/7 [==============================] - 0s 19ms/step - loss: 0.0560\n",
      "Epoch 88/100\n",
      "7/7 [==============================] - 0s 19ms/step - loss: 0.0560\n",
      "Epoch 89/100\n",
      "7/7 [==============================] - 0s 19ms/step - loss: 0.0545\n",
      "Epoch 90/100\n",
      "7/7 [==============================] - 0s 19ms/step - loss: 0.0571\n",
      "Epoch 91/100\n",
      "7/7 [==============================] - 0s 19ms/step - loss: 0.0553\n",
      "Epoch 92/100\n",
      "7/7 [==============================] - 0s 19ms/step - loss: 0.0575\n",
      "Epoch 93/100\n",
      "7/7 [==============================] - 0s 19ms/step - loss: 0.0570\n",
      "Epoch 94/100\n",
      "7/7 [==============================] - 0s 19ms/step - loss: 0.0543\n",
      "Epoch 95/100\n",
      "7/7 [==============================] - 0s 22ms/step - loss: 0.0558\n",
      "Epoch 96/100\n",
      "7/7 [==============================] - 0s 17ms/step - loss: 0.0566\n",
      "Epoch 97/100\n",
      "7/7 [==============================] - 0s 17ms/step - loss: 0.0543\n",
      "Epoch 98/100\n",
      "7/7 [==============================] - 0s 19ms/step - loss: 0.0557\n",
      "Epoch 99/100\n",
      "7/7 [==============================] - 0s 17ms/step - loss: 0.0530\n",
      "Epoch 100/100\n",
      "7/7 [==============================] - 0s 17ms/step - loss: 0.0532\n"
     ]
    }
   ],
   "source": [
    "#Shuffle sequences before batching\n",
    "data = dataset.shuffle(10000).batch(BATCH_SIZE, drop_remainder = True)\n",
    "history = model.fit(data, epochs = TRAINING_EPOCHS, callbacks = [checkpoint_callback])"
   ]
  },
  {
   "cell_type": "markdown",
   "metadata": {},
   "source": [
    "### Rebuild model for predicting one output rather than a vector"
   ]
  },
  {
   "cell_type": "code",
   "execution_count": 13,
   "metadata": {},
   "outputs": [],
   "source": [
    "#change config\n",
    "model = build_model(VOCAB_SIZE, EMBEDDING_DIM, RNN_UNITS, batch_size = 1)\n",
    "#load trained weights from checkpoint\n",
    "model.load_weights(tf.train.latest_checkpoint(checkpoint_dir))\n",
    "model.build(tf.TensorShape([1, None]))"
   ]
  },
  {
   "cell_type": "markdown",
   "metadata": {},
   "source": [
    "## Generate Outputs from Model"
   ]
  },
  {
   "cell_type": "code",
   "execution_count": 14,
   "metadata": {},
   "outputs": [],
   "source": [
    "def Get_Prediction(model, opponent_history, player_history):\n",
    "    input_raw = [x + y if x != '' and y != '' else 'PR' for (x,y) in zip(player_history, opponent_history)]\n",
    "    #print(input_raw)\n",
    "    #format history for input\n",
    "    input_eval = [RPSpair_encode(c) for c in input_raw]\n",
    "    input_eval = tf.expand_dims(input_eval, 0)\n",
    "    \n",
    "    #high temperature  => suprising output\n",
    "    #low temperature => predictable output\n",
    "    temperature = 1; \n",
    "    \n",
    "    model.reset_states()\n",
    "    \n",
    "    prediction = model(input_eval)\n",
    "    prediction = tf.squeeze(prediction, 0)\n",
    "    \n",
    "    prediction = prediction / temperature\n",
    "    predicted_id = tf.random.categorical(prediction, num_samples = 1)[-1,0].numpy()\n",
    "    #print(predicted_id)\n",
    "    #print(\"Guessing: \" + RPSpair_decode(predicted_id))\n",
    "    return RPSpair_decode(predicted_id)[0]\n",
    "\n",
    "#print(Get_Prediction(model, ['R','R','P']))"
   ]
  },
  {
   "cell_type": "markdown",
   "metadata": {},
   "source": [
    "# RPS.py\n",
    "Player function"
   ]
  },
  {
   "cell_type": "code",
   "execution_count": 15,
   "metadata": {},
   "outputs": [],
   "source": [
    "plays = 1000\n",
    "\n",
    "def player(prev_play, opponent_history = [], play_history=['']):\n",
    "    if len(play_history) > plays: \n",
    "        opponent_history.clear()\n",
    "        play_history.clear()\n",
    "        play_history.append('')\n",
    "    opponent_history.append(prev_play)\n",
    "    #print(\"Actual: \" + prev_play) \n",
    "    guess = Get_Prediction(model, opponent_history, play_history)\n",
    "    #print(guess)\n",
    "    play_history.append(guess)\n",
    "    return guess"
   ]
  },
  {
   "cell_type": "markdown",
   "metadata": {},
   "source": [
    "# MAIN.PY"
   ]
  },
  {
   "cell_type": "code",
   "execution_count": 17,
   "metadata": {},
   "outputs": [
    {
     "name": "stdout",
     "output_type": "stream",
     "text": [
      "Final results: {'p1': 319, 'p2': 464, 'tie': 217}\n",
      "Player 1 win rate: 40.74074074074074%\n"
     ]
    },
    {
     "data": {
      "text/plain": [
       "40.74074074074074"
      ]
     },
     "execution_count": 17,
     "metadata": {},
     "output_type": "execute_result"
    }
   ],
   "source": [
    "#play(player, quincy, plays)\n",
    "play(player, abbey, plays)\n",
    "#play(player, kris, plays)\n",
    "#play(player, mrugesh, plays)"
   ]
  },
  {
   "cell_type": "markdown",
   "metadata": {},
   "source": [
    "## Saving the model"
   ]
  },
  {
   "cell_type": "code",
   "execution_count": 37,
   "metadata": {},
   "outputs": [
    {
     "name": "stdout",
     "output_type": "stream",
     "text": [
      "WARNING:tensorflow:From C:\\Users\\Owner\\AppData\\Local\\Programs\\Python\\Python38\\lib\\site-packages\\tensorflow\\python\\training\\tracking\\tracking.py:111: Model.state_updates (from tensorflow.python.keras.engine.training) is deprecated and will be removed in a future version.\n",
      "Instructions for updating:\n",
      "This property should not be used in TensorFlow 2.0, as updates are applied automatically.\n",
      "WARNING:tensorflow:From C:\\Users\\Owner\\AppData\\Local\\Programs\\Python\\Python38\\lib\\site-packages\\tensorflow\\python\\keras\\engine\\training.py:2309: Layer.updates (from tensorflow.python.keras.engine.base_layer) is deprecated and will be removed in a future version.\n",
      "Instructions for updating:\n",
      "This property should not be used in TensorFlow 2.0, as updates are applied automatically.\n",
      "INFO:tensorflow:Assets written to: Models/LSTM_ImbalancedTrainingAbbey_GameHistoryBased_Abbey\\assets\n"
     ]
    }
   ],
   "source": [
    "model.save('Models/LSTM_ImbalancedTrainingAbbey_GameHistoryBased_Abbey')"
   ]
  },
  {
   "cell_type": "code",
   "execution_count": null,
   "metadata": {},
   "outputs": [],
   "source": []
  }
 ],
 "metadata": {
  "kernelspec": {
   "display_name": "Python 3.8.1 64-bit",
   "language": "python",
   "name": "python38164bitf7bfa84029d94e559180d01a2a463659"
  },
  "language_info": {
   "codemirror_mode": {
    "name": "ipython",
    "version": 3
   },
   "file_extension": ".py",
   "mimetype": "text/x-python",
   "name": "python",
   "nbconvert_exporter": "python",
   "pygments_lexer": "ipython3",
   "version": "3.8.6"
  }
 },
 "nbformat": 4,
 "nbformat_minor": 4
}
