{
 "cells": [
  {
   "cell_type": "markdown",
   "metadata": {},
   "source": [
    "## Generate data from Players\n",
    "Generate and save games from each player vs random or telepath opponents to csv format files"
   ]
  },
  {
   "cell_type": "code",
   "execution_count": 1,
   "metadata": {},
   "outputs": [],
   "source": [
    "from Lib.RPS_game import play, mrugesh, abbey, quincy, kris, human, random_player\n",
    "from Lib.Telepathic_player import telepath\n",
    "from Lib.RPS_encoding import RPS_encode, RPS_decode\n",
    "import os, shutil\n",
    "import itertools\n",
    "import tensorflow as tf\n",
    "import tensorflow.keras as keras"
   ]
  },
  {
   "cell_type": "code",
   "execution_count": 2,
   "metadata": {},
   "outputs": [],
   "source": [
    "def GenerateGames(player, opponent, game_count = 10, game_length = 1000, cheater = False):\n",
    "    if(cheater):\n",
    "        player = telepath\n",
    "    \n",
    "    filename = \"Games/\" + player.__name__ + \"_vs_\" + opponent.__name__ + \"_game_\"\n",
    "    for i in range(0 , game_count):\n",
    "        f = open(filename + str(i) + \".txt\", \"w\")\n",
    "        p1_prev_play = \"\"\n",
    "        p2_prev_play = \"\"\n",
    "        for _ in range(game_length):\n",
    "            \n",
    "            p2_play = opponent(p1_prev_play)\n",
    "            if(cheater):\n",
    "                p1_play = player(p2_play)\n",
    "            else:\n",
    "                p1_play = player(p2_prev_play)\n",
    "            player_win = 0\n",
    "            if (p1_play == \"P\" and p2_play == \"R\") or \\\n",
    "                (p1_play == \"R\" and p2_play == \"S\") or \\\n",
    "                (p1_play == \"S\" and p2_play == \"P\"):\n",
    "                player_win = 1\n",
    "            \n",
    "            winning_play = 'R' if p2_play == 'S' else 'S' if p2_play == 'P' else 'P'\n",
    "                \n",
    "            f.write(p1_play + \",\" + p2_play + \",\" + str(player_win) + \",\" + winning_play + '\\n')\n",
    "            \n",
    "            p1_prev_play = p1_play\n",
    "            p2_prev_play = p2_play\n",
    "        f.close()"
   ]
  },
  {
   "cell_type": "markdown",
   "metadata": {},
   "source": [
    "## Import trained model to make guesses"
   ]
  },
  {
   "cell_type": "code",
   "execution_count": 14,
   "metadata": {},
   "outputs": [
    {
     "name": "stdout",
     "output_type": "stream",
     "text": [
      "Model: \"sequential_1\"\n",
      "_________________________________________________________________\n",
      "Layer (type)                 Output Shape              Param #   \n",
      "=================================================================\n",
      "dense_3 (Dense)              (999, 128)                1280      \n",
      "_________________________________________________________________\n",
      "dense_4 (Dense)              (999, 16)                 2064      \n",
      "_________________________________________________________________\n",
      "dense_5 (Dense)              (999, 3)                  51        \n",
      "=================================================================\n",
      "Total params: 3,395\n",
      "Trainable params: 3,395\n",
      "Non-trainable params: 0\n",
      "_________________________________________________________________\n"
     ]
    }
   ],
   "source": [
    "def create_states(count):            \n",
    "    keys = ['0', '1', '2']\n",
    "    states = []\n",
    "    for i in itertools.product(keys, repeat=count):\n",
    "        states.append(''.join(i))\n",
    "    return states\n",
    "\n",
    "def get_play_distribution(play_seq, patterns):\n",
    "    play_count = 0\n",
    "    detected_pattern = patterns[0]\n",
    "    pattern_counts = {p:0 for p in patterns}\n",
    "    \n",
    "    for pl in play_seq:\n",
    "        play_count += 1\n",
    "        detected_pattern = detected_pattern[1:] + str(pl)\n",
    "        pattern_counts[detected_pattern] += 1\n",
    "        \n",
    "    pattern_dist = [x/len(play_seq) for x in pattern_counts.values()]\n",
    "\n",
    "    return pattern_dist\n",
    "\n",
    "def Get_Prediction(model, player_history):\n",
    "    input_eval = [RPS_encode(c) for c in player_history]\n",
    "    #format history for input\n",
    "    input_eval = get_play_distribution(input_eval, patterns)\n",
    "    #print(input_eval)\n",
    "    \n",
    "    input_eval = tf.expand_dims(input_eval, 0)\n",
    "    \n",
    "    #high temperature  => suprising output\n",
    "    #low temperature => predictable output\n",
    "    temperature = 1; \n",
    "    \n",
    "    model.reset_states()\n",
    "    \n",
    "    prediction = model(input_eval)\n",
    "    #prediction = tf.squeeze(prediction, 0)\n",
    "    \n",
    "    prediction = prediction / temperature\n",
    "    #print(prediction)\n",
    "    predicted_id = tf.random.categorical(prediction, num_samples = 1)[-1,0].numpy()\n",
    "    #print(predicted_id)\n",
    "    #print(\"Guessing: \" + RPSpair_decode(predicted_id))\n",
    "    return RPS_decode(predicted_id)[0]\n",
    "    \n",
    "\n",
    "def player(prev_play, opponent_history = [], play_history=['R']):\n",
    "    if len(play_history) > 1000: \n",
    "        opponent_history.clear()\n",
    "        play_history.clear()\n",
    "        play_history.append('R')\n",
    "    opponent_history.append(prev_play)\n",
    "    #print(\"Actual: \" + prev_play) \n",
    "    guess = Get_Prediction(model, play_history)\n",
    "    #print(guess)\n",
    "    play_history.append(guess)\n",
    "    return guess\n",
    "\n",
    "patterns = create_states(2)\n",
    "model = keras.models.load_model('Models/DNN_PlayerPastInputFrequency') \n",
    "model.summary()"
   ]
  },
  {
   "cell_type": "markdown",
   "metadata": {},
   "source": [
    "## Clear Training Data Folder"
   ]
  },
  {
   "cell_type": "code",
   "execution_count": 7,
   "metadata": {},
   "outputs": [],
   "source": [
    "#Run to clear training folder\n",
    "folder = 'Games/'\n",
    "for filename in os.listdir(folder):\n",
    "    file_path = os.path.join(folder, filename)\n",
    "    try:\n",
    "        if os.path.isfile(file_path):\n",
    "            os.remove(file_path)\n",
    "    except Exception as e:\n",
    "        print('Failed to delete %s. Reason: %s' % (file_path, e))"
   ]
  },
  {
   "cell_type": "markdown",
   "metadata": {},
   "source": [
    "# Generate Games\n",
    "## Balanced Dataset (Effective for Quincy + Kris + Mrugesh)\n",
    "Train to predict the response to quincy, kris and mrugesh's next play based on past plays in the game"
   ]
  },
  {
   "cell_type": "code",
   "execution_count": 4,
   "metadata": {},
   "outputs": [],
   "source": [
    "GenerateGames(random_player, quincy, game_count = 25)\n",
    "GenerateGames(random_player, abbey, game_count = 25)\n",
    "GenerateGames(random_player, kris, game_count = 25)\n",
    "GenerateGames(random_player, mrugesh, game_count = 25)\n",
    "GenerateGames(telepath, quincy, cheater = True, game_count = 10)\n",
    "GenerateGames(telepath, abbey, cheater = True, game_count = 10)\n",
    "GenerateGames(telepath, kris, cheater = True, game_count = 10)\n",
    "GenerateGames(telepath, mrugesh, cheater = True, game_count = 10)"
   ]
  },
  {
   "cell_type": "markdown",
   "metadata": {},
   "source": [
    "## Kris Dataset (Effective for Kris)\n",
    "Train to predict the response to Kris' next play based on the LTSM's past plays"
   ]
  },
  {
   "cell_type": "code",
   "execution_count": 5,
   "metadata": {},
   "outputs": [],
   "source": [
    "GenerateGames(random_player, abbey, game_count = 15)\n",
    "GenerateGames(random_player, kris, game_count = 15)\n",
    "GenerateGames(telepath, abbey, cheater = True, game_count = 5)\n",
    "GenerateGames(telepath, kris, cheater = True, game_count = 5)"
   ]
  },
  {
   "cell_type": "markdown",
   "metadata": {},
   "source": [
    "## Abbey Dataset (Effective for Abbey)\n",
    "Train to predict the response to Abbey's next play based on the LTSM's past plays\n",
    "Abbey uses previous two pair history throughout the whole game in order to choose effectivly, this means her playstyle is entirely dependant on the players inputs."
   ]
  },
  {
   "cell_type": "code",
   "execution_count": 8,
   "metadata": {},
   "outputs": [],
   "source": [
    "GenerateGames(random_player, abbey, game_count = 50)\n",
    "GenerateGames(telepath, abbey, cheater = True, game_count = 50)"
   ]
  },
  {
   "cell_type": "code",
   "execution_count": 8,
   "metadata": {},
   "outputs": [],
   "source": [
    "GenerateGames(random_player, abbey, game_count = 15)\n",
    "GenerateGames(telepath, abbey, cheater = True, game_count = 35)"
   ]
  },
  {
   "cell_type": "code",
   "execution_count": 15,
   "metadata": {},
   "outputs": [],
   "source": [
    "#GenerateGames(random_player, abbey, game_count = 10)\n",
    "GenerateGames(player, abbey, game_count = 20)\n",
    "#GenerateGames(telepath, abbey, cheater = True, game_count = 30)"
   ]
  },
  {
   "cell_type": "code",
   "execution_count": null,
   "metadata": {},
   "outputs": [],
   "source": []
  }
 ],
 "metadata": {
  "kernelspec": {
   "display_name": "Python 3.8.1 64-bit",
   "language": "python",
   "name": "python38164bitf7bfa84029d94e559180d01a2a463659"
  },
  "language_info": {
   "codemirror_mode": {
    "name": "ipython",
    "version": 3
   },
   "file_extension": ".py",
   "mimetype": "text/x-python",
   "name": "python",
   "nbconvert_exporter": "python",
   "pygments_lexer": "ipython3",
   "version": "3.8.6"
  }
 },
 "nbformat": 4,
 "nbformat_minor": 4
}
